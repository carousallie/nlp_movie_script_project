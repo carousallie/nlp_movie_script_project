{
 "cells": [
  {
   "cell_type": "code",
   "execution_count": 1,
   "metadata": {},
   "outputs": [],
   "source": [
    "# Import packages\n",
    "\n",
    "import pandas as pd \n",
    "import numpy as np\n",
    "import re\n",
    "\n",
    "import nltk\n",
    "from nltk import word_tokenize as w_tokenize\n",
    "from nltk.stem import WordNetLemmatizer\n",
    "lemma = WordNetLemmatizer()\n",
    "from nltk.corpus import stopwords\n",
    "import string\n",
    "stop_words = set(stopwords.words('english') + [\"...\"])\n",
    "\n",
    "from sklearn.feature_extraction.text import TfidfVectorizer as tfv\n",
    "from sklearn.decomposition import NMF as nmf\n",
    "\n",
    "import pdfminer\n",
    "from pdfminer.pdfparser import PDFParser\n",
    "from pdfminer.pdfdocument import PDFDocument\n",
    "from pdfminer.pdfpage import PDFPage\n",
    "from pdfminer.pdfpage import PDFTextExtractionNotAllowed\n",
    "from pdfminer.pdfinterp import PDFResourceManager\n",
    "from pdfminer.pdfinterp import PDFPageInterpreter\n",
    "from pdfminer.pdfdevice import PDFDevice\n",
    "from pdfminer.high_level import extract_text\n",
    "import PyPDF2\n",
    "# !pip install PyPDF2"
   ]
  },
  {
   "cell_type": "code",
   "execution_count": 2,
   "metadata": {},
   "outputs": [],
   "source": [
    "# extract text from list of pdf titles and create dataframe of text\n",
    "\n",
    "path = './Scripts/'\n",
    "end = '.pdf'\n",
    "titles = ['1917', '20th_Century_Women', 'BridgeofSpies', 'ExMachina', 'First_Reformed',\n",
    "         'Get_Out', 'GreenBook', 'Hell_or_HighWater', 'InsideOut', 'KnivesOut', 'LadyBird',\n",
    "         'LaLaLand', 'Manchester_By_TheSea', 'MarriageStory', 'Parasite', 'Roma', \n",
    "          'ShapeofWater', 'Spotlight', 'StraightOuttaCompton', 'TheBigSick', \n",
    "         'TheFavourite', 'TheLobster', 'ThreeBillboards', 'Vice']\n",
    "\n",
    "movie_scripts = []\n",
    "for title in titles:\n",
    "    script = extract_text(path + title + end)\n",
    "    movie_scripts.append(script)\n",
    "#     print (title)\n",
    "\n",
    "# create dataframe of scripts/titles from lists    \n",
    "movie_df = pd.DataFrame(list(zip(titles, movie_scripts)), columns = ['Title', 'Script'])"
   ]
  },
  {
   "cell_type": "code",
   "execution_count": 3,
   "metadata": {},
   "outputs": [],
   "source": [
    "# add label for original screenplay win, best picture win, and year\n",
    "orig_screen_win = [0, 0, 0, 0, 0, 1, 1, 0, 0, 0, 0, 0, 1, 0, 1, 0, 0, 1, 0, 0, 0, 0, 0, 0]\n",
    "best_pic_win = ['Nom', None, 'Nom', None, None, 'Nom', 'Win', 'Nom', None, None, 'Nom', 'Nom', 'Nom', 'Nom', 'Win', 'Nom', 'Win', 'Win', None, None, 'Nom', None, 'Nom', 'Nom']\n",
    "year = [2019, 2016, 2015, 2015, 2018, 2017, 2018, 2016, 2015, 2019, 2017, 2016, 2016, 2019, 2019, 2018, 2017, 2015, 2015, 2017, 2018, 2016, 2017, 2018]\n",
    "reviewer = [\"Shafer\", \"Shafer\", \"Shafer\", \"Shafer\", \"Ragan\", \"Shafer\", \"Ragan\", \"Ragan\", \"Shafer\", \"Shafer\", \"Ragan\", \"Ragan\", \"Shafer\", \"Ragan\", \"Shafer\", \"Ragan\", \"Ragan\", \"Shafer\", \"Shafer\", \"Ragan\", \"Ragan\", \"Shafer\", \"Ragan\", \"Ragan\"]\n",
    "\n",
    "# ADD GENRE\n",
    "\n",
    "# sanity check -- should return True\n",
    "len(orig_screen_win) == len(year) == len(best_pic_win) ==  len(list(movie_df['Title'])) == len(reviewer)\n",
    "\n",
    "movie_df['year'] = year\n",
    "movie_df['orig_screen_win'] = orig_screen_win\n",
    "movie_df['best_pic_win'] = best_pic_win\n",
    "movie_df['reviewer'] = reviewer"
   ]
  },
  {
   "cell_type": "code",
   "execution_count": 4,
   "metadata": {},
   "outputs": [],
   "source": [
    "# movie_df\n",
    "\n",
    "# column of dialogue\n",
    "# column of visual cues\n",
    "# column of setting\n",
    "# raw script column\n",
    "# everything column\n",
    "\n",
    "\n",
    "# corpus of just dialogue\n",
    "# corpus of everything (dialogue, settings, visual cues, etc.) cleaned up\n",
    "# corpus of visual cues\n",
    "\n",
    "# so 3 x per model\n",
    "    # sentiment analysis on dialogue (CV + TFIDF)\n",
    "    # sentiment analysis on everything (CV + TFIDF)\n",
    "    # sentimental analysis on visual cues\n",
    "    # and so on forth\n",
    "\n",
    "# POS tagging and keep only proper names and put rest into settings (when dialogue vs setting can both be caps) "
   ]
  },
  {
   "cell_type": "code",
   "execution_count": 32,
   "metadata": {},
   "outputs": [],
   "source": [
    "ar = movie_df[movie_df['reviewer'] == \"Ragan\"].copy()\n",
    "ar['CleanedScript'] = ar['Script']\n",
    "\n",
    "raw_scripts = list(ar['Script'])"
   ]
  },
  {
   "cell_type": "markdown",
   "metadata": {},
   "source": [
    "##### semi-manually remove extraneous beginning junk\n",
    "\n",
    "varies by script, easier to do it manually than write a function with 10k if statements that may still not capture everything"
   ]
  },
  {
   "cell_type": "code",
   "execution_count": 34,
   "metadata": {},
   "outputs": [],
   "source": [
    "def drop_start(idx, todrop):\n",
    "    # return script without extraneous beginning stuff\n",
    "    return raw_scripts[idx].replace(todrop, \"\")\n",
    "\n",
    "extraneous = [\"Scripts.com\\n\\nFirst Reformed\\n\\nBy Paul Schrader\\n\\nPage 1/57\\n\\n\\x0c\", \n",
    "              \"GREEN BOOK \\n\\nWritten by \\n\\nNick Vallelonga & Brian Currie & Peter Farrelly \\n\\n\\x0c\", \n",
    "              \"Scripts.com\\n\\nHell or High Water\\n\\nBy Taylor Sheridan\\n\\nPage 1/42\\n\\n\\x0c\", \n",
    "              \" \\n \\n\\n \\n \\n \\n \\n \\n \\n \\n \\n \\n \\n \\n \\n \\n \\n \\n\\n \\n \\n \\n \\n \\n \\n \\n \\n \\n \\n \\n\\nLADY BIRD \\n\\nwritten by \\n\\nGreta Gerwig \\n\\n\\x0c \\n \\n\\n \\n \\n \\n \\n \\n \\n \\n \\n \\n \\n \\n \\n \\n \\n \\n \\n \\n \\n \\n \\n \\n \\n \\n \\n \\n \\n \\n\\nii. \\n\\n\", \n",
    "              \"LA LA LAND\\n\\nby\\n\\nDamien Chazelle\\n\\n\\x0c\", \n",
    "              \"MARRIAGE STORY\\n\\nWritten and Directed by Noah Baumbach\\n\\n\\x0cBlack.\\n\\n\", \n",
    "              \"IN ENGLISH\\n\\n\\x0cROMA\\n\\nWritten and Directed by\\n\\nAlfonso Cuarón\\n\\nDates in RED are meant only as a tool for the different departments for \\nthe specific historical accuracy of the scenes and are not intended to \\nappear on screen. \\n\\n\\x0cThursday, September 3rd, 1970\\n\\n\", \n",
    "              \"F O R   Y O U R   C O N S I D E R A T I O N\\n\\nB E S T   O R I G I N A L   S C R E E N P L A Y\\n\\nG U I L L E R M O   D E L   T O R O\\n&\\nV A N E S S A   T A Y L O R\\n\\n\\x0c1                             \\n\\n1\\n\\n\", \n",
    "              \"THE BIG SICK\\n\\nby\\nEmily V. Gordon & Kumail Nanjiani\\n\\n\\x0c1\\n\\n\", \n",
    "              \"F O R   Y O U R   C O N S I D E R A T I O N\\n\\nW R I T T E N   B Y\\n\\nD E B O R A H   D A V I S   A N D   T O N Y   M C N A M A R A\\n\\n\\x0cW R I T T E N   B Y\\n\\nD E B O R A H   D A V I S   A N D   T O N Y   M C N A M A R A\\n\\n\\x0cTHE FAVOURITE\\n\\nWritten by\\n\\nDeborah Davis and Tony McNamara\\n\\nFINAL SHOOTING SCRIPT - 23rd MARCH 2017\\n\\nElement Pictures\\n21 Mespil Road \\nDublin 4\\nIreland\\n\\nScarlet Films\\n3 Oakley Studios\\nUpper Cheyne Row\\nLondon SW3 5JW, UK\\n\\n \\n\\n\\x0c1\\n\\n2\\n\\n3\\n\\n4\\n\\n5\\n\\n6\\n\\n\", \n",
    "              \"F O R   Y O U R   C O N S I D E R A T I O N\\n\\nB E S T   O R I G I N A L   S C R E E N P L A Y\\n\\nM A R T I N   M c D O N A G H\\n\\n\\x0cTHREE BILLBOARDS OUTSIDE EBBING, MISSOURI\\n\\nYou Red Welby?\\n\\nby\\nMartin McDonagh\\n\\n1\\n\\n\", \n",
    "              \"Written and Directed by\\n\\nVICE\\n\\nAdam McKay\\n\\n\\x0c\"]\n",
    "\n",
    "for r in range(len(raw_scripts)):\n",
    "    raw_scripts[r] = drop_start(r, extraneous[r])\n",
    "\n",
    "# expand contractions\n",
    "def expand_contractions(text):\n",
    "    text = re.sub(\"\\'s\", \" is\", text) # it's --> it is\n",
    "    text = re.sub(\"n\\'t\", \" not\", text) # don't --> do not\n",
    "    text = re.sub(\"\\'re\", \" are\", text) # you're --> you are\n",
    "    text = re.sub(\"\\'d\", \" would\", text) # she'd --> she would\n",
    "    text = re.sub(\"\\'ll\", \" will\", text) # he'll --> he will\n",
    "    text = re.sub(\"\\'ve\", \" have\", text) # we've --> we have\n",
    "    text = re.sub(\"\\'m\", \" am\", text) # I'm --> I am\n",
    "    return text\n",
    "\n",
    "for i in range(len(raw_scripts)):\n",
    "    raw_scripts[i] = expand_contractions(raw_scripts[i])\n",
    "\n",
    "# instantiate empty lists\n",
    "\n",
    "master_visual_cues = []\n",
    "\n",
    "master_dialogue = []\n",
    "\n",
    "master_setting = []\n",
    "\n",
    "master_cleaned_everything = []"
   ]
  },
  {
   "attachments": {},
   "cell_type": "markdown",
   "metadata": {},
   "source": [
    "##### process First Reformed\n",
    "\n",
    "Speaking: all caps NAME \\n text\t\n",
    "Setting: none, script is just dialogue and a few visuals\t\n",
    "Character: bold all caps:\t\n",
    "Visual: (ALL CAPS)\n",
    "Other Notes: some lines are randomly preceded by dashes and includes page numbers"
   ]
  },
  {
   "cell_type": "code",
   "execution_count": 35,
   "metadata": {
    "scrolled": true
   },
   "outputs": [],
   "source": [
    "# drop page numbers\n",
    "raw_scripts[0] = re.sub(\"\\\\nPage \\d+/57\", \" \", raw_scripts[0])\n",
    "\n",
    "# extract visual cues from First Reformed\n",
    "# visual cues are in ()\n",
    "# tokenize\n",
    "toked_fr = w_tokenize(raw_scripts[0])\n",
    "orig_toked_fr = toked_fr.copy()\n",
    "# find indexes with (\n",
    "open_pars = [i for i, e in enumerate(toked_fr) if e == \"(\"]\n",
    "# find indexes with )\n",
    "end_pars = [i for i, e in enumerate(toked_fr) if e == \")\"]\n",
    "# return words between ( and ) to extract visual cues\n",
    "visual_cues_fr = [\" \".join(toked_fr[open_pars[o]+1:end_pars[o]]) for o in range(len(open_pars))]\n",
    "\n",
    "# drop visual cues from list\n",
    "for o in range(len(open_pars)):\n",
    "    del toked_fr[open_pars[o]:end_pars[0]+1]\n",
    "\n",
    "# re-join : with character names and drop extra :\n",
    "# find indices with :\n",
    "char_idx = [i for i, item in enumerate(toked_fr) if item.endswith(':')]\n",
    "# for every index with :, go to the index before and add : to re-join CHARACTER with :\n",
    "for b in char_idx:\n",
    "    toked_fr[b-1] = toked_fr[b-1] + toked_fr[b]\n",
    "# drop extraneous colons\n",
    "toked_fr.remove(\":\")\n",
    "\n",
    "# append non-character names to dialogue list\n",
    "dialogue_fr = [toked_fr[t] for t in range(len(toked_fr)) if toked_fr[t].endswith(\":\") == False]\n",
    "\n",
    "def clean_lists(lis):\n",
    "    # strip punctuation\n",
    "    lis = [t.lower() for t in lis if t not in set(string.punctuation)]\n",
    "    # lemmatize + lowercase\n",
    "    lis = [lemma.lemmatize(l) for l in lis]\n",
    "    # drop stop words\n",
    "    lis = [t for t in lis if t not in set(stop_words)]\n",
    "    return lis\n",
    "\n",
    "# clean + join visual cues\n",
    "visual_cues_fr = \" \".join(clean_lists(visual_cues_fr))\n",
    "\n",
    "# clean + join dialogue\n",
    "dialogue_fr = \" \".join(clean_lists(dialogue_fr))\n",
    "\n",
    "# clean + join everything\n",
    "cleaned_everything_fr = \" \".join(clean_lists(orig_toked_fr))\n",
    "\n",
    "# append to master lists\n",
    "master_visual_cues.append(visual_cues_fr)\n",
    "master_dialogue.append(dialogue_fr)\n",
    "master_setting.append([None])\n",
    "master_cleaned_everything.append(cleaned_everything_fr)"
   ]
  },
  {
   "attachments": {},
   "cell_type": "markdown",
   "metadata": {},
   "source": [
    "##### process Green Book\n",
    "\n",
    "Speaking: all caps NAME \\n text\n",
    "Setting: bold and preceded by ext/int\n",
    "Character: centered, all caps\t\n",
    "Visual: block of text with some words in all caps for emphasis\t\n",
    "Other Notes: page numbers sandwiched by CONTINUED"
   ]
  },
  {
   "cell_type": "code",
   "execution_count": null,
   "metadata": {},
   "outputs": [],
   "source": []
  },
  {
   "attachments": {},
   "cell_type": "markdown",
   "metadata": {},
   "source": [
    "##### process Hell or High Water\n",
    "\n",
    "Speaking: a wall of text\n",
    "Setting: none, script is just dialogue\n",
    "Character: none, script is just dialogue\n",
    "Visual: none, script is just dialogue\n",
    "Other Notes: page numbers are marked (1/42, 2/42, etc.)"
   ]
  },
  {
   "cell_type": "code",
   "execution_count": null,
   "metadata": {},
   "outputs": [],
   "source": []
  },
  {
   "attachments": {},
   "cell_type": "markdown",
   "metadata": {},
   "source": [
    "##### process Lady Bird\n",
    "\n",
    "Speaking: all caps NAME \\n text\n",
    "Setting: preceded by ext/int in all caps\t\n",
    "Character: centered, all caps\n",
    "Visual: just words\t\n",
    "Other Notes: very little extraneous text at beginning"
   ]
  },
  {
   "cell_type": "code",
   "execution_count": null,
   "metadata": {},
   "outputs": [],
   "source": []
  },
  {
   "attachments": {},
   "cell_type": "markdown",
   "metadata": {},
   "source": [
    "##### process La La Land\n",
    "\n",
    "Speaking: all caps NAME \\n text\n",
    "Setting: words\t\n",
    "Character: NAME\n",
    "Visual: words, sometimes italcized or underlined\n",
    "Other Notes: music titles are in brackets and bold"
   ]
  },
  {
   "cell_type": "code",
   "execution_count": null,
   "metadata": {},
   "outputs": [],
   "source": []
  },
  {
   "attachments": {},
   "cell_type": "markdown",
   "metadata": {},
   "source": [
    "##### process Marriage Story\n",
    "\n",
    "Speaking: all caps NAME \\n text\n",
    "Setting: preceded by ext/int in all caps\tcentered, all caps\t\n",
    "Character: just words; pattern of character\n",
    "Visual: name \\n dialogue \\n free text not preceeded by character name \\n and then character name \\n or new setting\t\n",
    "Other Notes: N/A"
   ]
  },
  {
   "cell_type": "code",
   "execution_count": null,
   "metadata": {},
   "outputs": [],
   "source": []
  },
  {
   "attachments": {},
   "cell_type": "markdown",
   "metadata": {},
   "source": [
    "##### process Roma\n",
    "\n",
    "Speaking: all caps NAME \\n text\t\n",
    "Setting: preceded by ext/int in all caps\t\n",
    "Character: centered, all caps\t\n",
    "Visual: block of text\t\n",
    "Other Notes: includes dates in red for design department"
   ]
  },
  {
   "cell_type": "code",
   "execution_count": null,
   "metadata": {},
   "outputs": [],
   "source": []
  },
  {
   "attachments": {},
   "cell_type": "markdown",
   "metadata": {},
   "source": [
    "##### process Shape of Water\n",
    "\n",
    "Speaking: all caps NAME \\n text, sometimes surrounded by quotes when character Dialogue is speaking\t\n",
    "Setting: preceded by ext/int in all caps\t\n",
    "Character: centered, all caps\t\n",
    "Visual: text, sometimes italicized\t\n",
    "Other Notes: extraneous details at the beginning \"for your consideration\", etc."
   ]
  },
  {
   "cell_type": "code",
   "execution_count": null,
   "metadata": {},
   "outputs": [],
   "source": []
  },
  {
   "attachments": {},
   "cell_type": "markdown",
   "metadata": {},
   "source": [
    "##### process The Big Sick\n",
    "\n",
    "Speaking: all caps NAME \\n text\t\n",
    "Setting: preceded by ext/int in all caps\t\n",
    "Character: centered, all caps\t\n",
    "Visual: just words; pattern of character name \\n dialogue \\n free text not preceeded by character name \\n and then character name \\n or new setting\t\n",
    "Other Notes: (V.O.) means voiceover"
   ]
  },
  {
   "cell_type": "code",
   "execution_count": null,
   "metadata": {},
   "outputs": [],
   "source": []
  },
  {
   "attachments": {},
   "cell_type": "markdown",
   "metadata": {},
   "source": [
    "##### process The Favourite\n",
    "\n",
    "Speaking: all caps NAME \\n text\t\n",
    "Setting: preceded by ext/int in all caps and surrounded by numbers\t\n",
    "Character: centered, all caps\t\n",
    "Visual: preceded by setting and number\t\n",
    "Other Notes: preceding extraneous details"
   ]
  },
  {
   "cell_type": "code",
   "execution_count": null,
   "metadata": {},
   "outputs": [],
   "source": []
  },
  {
   "attachments": {},
   "cell_type": "markdown",
   "metadata": {},
   "source": [
    "##### process Three Billboards\n",
    "\n",
    "Speaking: all caps NAME \\n text, sometimes words are randomly underlined\t\n",
    "Setting: bold and preceded by ext/int\t\n",
    "Character: bold centered, all caps\t\n",
    "Visual: words\t\n",
    "Other Notes: extraneous details at the beginning \"for your consideration\", etc."
   ]
  },
  {
   "cell_type": "code",
   "execution_count": null,
   "metadata": {},
   "outputs": [],
   "source": []
  },
  {
   "attachments": {},
   "cell_type": "markdown",
   "metadata": {},
   "source": [
    "##### process Vice\n",
    "\n",
    "Speaking: voiceovers are in quotes but regular dialogue is all caps NAME \\n text\t\n",
    "Setting: preceded by ext/int in all caps\t\n",
    "Character: centered, all caps\t\n",
    "Visual: some visual cues are in all caps for emphasis \"POLICE LIGHTS FLASH behind him as he drives\" and stage directions i.e. (into his ear piece) are in ()\n",
    "Other Notes: (V.O.) means voiceover"
   ]
  },
  {
   "cell_type": "code",
   "execution_count": null,
   "metadata": {},
   "outputs": [],
   "source": []
  },
  {
   "cell_type": "code",
   "execution_count": null,
   "metadata": {},
   "outputs": [],
   "source": []
  },
  {
   "cell_type": "code",
   "execution_count": null,
   "metadata": {},
   "outputs": [],
   "source": []
  },
  {
   "cell_type": "code",
   "execution_count": null,
   "metadata": {},
   "outputs": [],
   "source": []
  },
  {
   "cell_type": "code",
   "execution_count": null,
   "metadata": {},
   "outputs": [],
   "source": []
  },
  {
   "cell_type": "code",
   "execution_count": null,
   "metadata": {},
   "outputs": [],
   "source": []
  },
  {
   "cell_type": "code",
   "execution_count": null,
   "metadata": {},
   "outputs": [],
   "source": [
    "# make column of dialogue\n"
   ]
  },
  {
   "cell_type": "code",
   "execution_count": null,
   "metadata": {},
   "outputs": [],
   "source": [
    "# make column of visual cues\n"
   ]
  },
  {
   "cell_type": "code",
   "execution_count": null,
   "metadata": {},
   "outputs": [],
   "source": [
    "# make column of setting\n"
   ]
  },
  {
   "cell_type": "code",
   "execution_count": null,
   "metadata": {},
   "outputs": [],
   "source": [
    "# make everything column\n"
   ]
  },
  {
   "cell_type": "code",
   "execution_count": null,
   "metadata": {},
   "outputs": [],
   "source": [
    "# def remove_consideration(text):\n",
    "    "
   ]
  }
 ],
 "metadata": {
  "kernelspec": {
   "display_name": "Python 3",
   "language": "python",
   "name": "python3"
  },
  "language_info": {
   "codemirror_mode": {
    "name": "ipython",
    "version": 3
   },
   "file_extension": ".py",
   "mimetype": "text/x-python",
   "name": "python",
   "nbconvert_exporter": "python",
   "pygments_lexer": "ipython3",
   "version": "3.7.4"
  }
 },
 "nbformat": 4,
 "nbformat_minor": 4
}
