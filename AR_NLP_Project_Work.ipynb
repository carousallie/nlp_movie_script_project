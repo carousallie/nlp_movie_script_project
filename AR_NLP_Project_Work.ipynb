{
 "cells": [
  {
   "cell_type": "markdown",
   "metadata": {},
   "source": [
    "# What Makes A Best Original Screenplay?\n",
    "\n",
    "    By Allison Ragan and Allison Shafer\n",
    "    American University\n",
    "    STAT-696 Applied Natural Language Processing\n",
    "\n",
    "# Objective\n",
    "\n",
    "# Table of Contents\n",
    "\n",
    "    I. Package Imports\n",
    "    II. Extract Text\n",
    "    III. Data Cleaning\n",
    "        i. AR\n",
    "        ii. AS\n",
    "        iii. Concatenate AR + AS\n",
    "    IV. NLP Transformations\n",
    "        i. CountVectorized\n",
    "        ii. TFIDF\n",
    "    V. Sentiment Analysis\n",
    "        i. Sentiment Analysis -- Dialogue\n",
    "        ii. Sentiment Analysis -- Full Script\n",
    "    VI. Topic Modeling\n",
    "        i. Topic Modeling -- Dialogue\n",
    "        ii. Topic Modeling -- Full Script\n",
    "    VII. K-Means Clustering\n",
    "        i. K-Means Clustering -- Dialogue\n",
    "        ii. K-Means Clustering -- Full Script\n",
    "    VIII. Results\n",
    "    IX. Deprecated Code\n",
    "\n",
    "## Package Imports"
   ]
  },
  {
   "cell_type": "code",
   "execution_count": 1,
   "metadata": {},
   "outputs": [],
   "source": [
    "import pandas as pd \n",
    "import numpy as np\n",
    "import seaborn as sns\n",
    "import re\n",
    "import nltk\n",
    "from nltk import word_tokenize as w_tokenize\n",
    "from nltk.stem import WordNetLemmatizer\n",
    "lemma = WordNetLemmatizer()\n",
    "from nltk.corpus import stopwords\n",
    "import string\n",
    "punc = string.punctuation\n",
    "stop_words = set(stopwords.words('english') + [\"...\"])\n",
    "from afinn import Afinn\n",
    "#!pip install afinn\n",
    "from sklearn.feature_extraction.text import CountVectorizer, TfidfVectorizer\n",
    "from sklearn.decomposition import NMF \n",
    "from sklearn.cluster import KMeans\n",
    "import matplotlib.pyplot as plt\n",
    "# from sklearn.model_selection import train_test_split, cross_val_score, GridSearchCV\n",
    "import pdfminer\n",
    "from pdfminer.pdfparser import PDFParser\n",
    "from pdfminer.pdfdocument import PDFDocument\n",
    "from pdfminer.pdfpage import PDFPage\n",
    "from pdfminer.pdfpage import PDFTextExtractionNotAllowed\n",
    "from pdfminer.pdfinterp import PDFResourceManager\n",
    "from pdfminer.pdfinterp import PDFPageInterpreter\n",
    "from pdfminer.pdfdevice import PDFDevice\n",
    "from pdfminer.high_level import extract_text\n",
    "import PyPDF2\n",
    "# !pip install PyPDF2"
   ]
  },
  {
   "cell_type": "markdown",
   "metadata": {},
   "source": [
    "## Extract Text"
   ]
  },
  {
   "cell_type": "code",
   "execution_count": 2,
   "metadata": {},
   "outputs": [
    {
     "name": "stdout",
     "output_type": "stream",
     "text": [
      "1917\n",
      "20th_Century_Women\n",
      "BridgeofSpies\n",
      "ExMachina\n",
      "First_Reformed\n",
      "Get_Out\n",
      "GreenBook\n",
      "Hell_or_HighWater\n",
      "InsideOut\n",
      "KnivesOut\n",
      "LadyBird\n",
      "LaLaLand\n",
      "Manchester_By_TheSea\n",
      "MarriageStory\n",
      "Parasite\n",
      "Roma\n",
      "ShapeofWater\n",
      "Spotlight\n",
      "StraightOuttaCompton\n",
      "TheBigSick\n",
      "TheFavourite\n",
      "TheLobster\n",
      "ThreeBillboards\n",
      "Vice\n"
     ]
    }
   ],
   "source": [
    "## AS\n",
    "# extract text from list of pdf titles and create dataframe of text\n",
    "path = './Scripts/'\n",
    "end = '.pdf'\n",
    "titles = ['1917', '20th_Century_Women', 'BridgeofSpies', 'ExMachina', 'First_Reformed',\n",
    "         'Get_Out', 'GreenBook', 'Hell_or_HighWater', 'InsideOut', 'KnivesOut', 'LadyBird',\n",
    "         'LaLaLand', 'Manchester_By_TheSea', 'MarriageStory', 'Parasite', 'Roma', \n",
    "          'ShapeofWater', 'Spotlight', 'StraightOuttaCompton', 'TheBigSick', \n",
    "         'TheFavourite', 'TheLobster', 'ThreeBillboards', 'Vice']\n",
    "\n",
    "movie_scripts = []\n",
    "for title in titles:\n",
    "    script = extract_text(path + title + end)\n",
    "    movie_scripts.append(script)\n",
    "    print (title)\n",
    "\n",
    "# create dataframe of scripts/titles from lists    \n",
    "movie_df = pd.DataFrame(list(zip(titles, movie_scripts)), columns = ['Title', 'Script'])"
   ]
  },
  {
   "cell_type": "code",
   "execution_count": 3,
   "metadata": {},
   "outputs": [
    {
     "name": "stdout",
     "output_type": "stream",
     "text": [
      "\n",
      "\n",
      "Sanity check for lists: True\n"
     ]
    }
   ],
   "source": [
    "## AR\n",
    "# add label for original screenplay win, best picture win, and year\n",
    "orig_screen_win = [0, 0, 0, 0, 0, 1, 1, 0, 0, 0, 0, 0, 1, 0, 1, 0, 0, 1, 0, 0, 0, 0, 0, 0]\n",
    "best_pic_win = ['Nom', None, 'Nom', None, None, 'Nom', 'Win', 'Nom', None, None, 'Nom', 'Nom', 'Nom', 'Nom', 'Win', 'Nom', 'Win', 'Win', None, None, 'Nom', None, 'Nom', 'Nom']\n",
    "year = [2019, 2016, 2015, 2015, 2018, 2017, 2018, 2016, 2015, 2019, 2017, 2016, 2016, 2019, 2019, 2018, 2017, 2015, 2015, 2017, 2018, 2016, 2017, 2018]\n",
    "reviewer = [\"Shafer\", \"Shafer\", \"Shafer\", \"Shafer\", \"Ragan\", \"Shafer\", \"Ragan\", \"Ragan\", \"Shafer\", \"Shafer\", \"Ragan\", \"Ragan\", \"Shafer\", \"Ragan\", \"Shafer\", \"Ragan\", \"Ragan\", \"Shafer\", \"Shafer\", \"Ragan\", \"Ragan\", \"Shafer\", \"Ragan\", \"Ragan\"]\n",
    "\n",
    "# sanity check -- should return True\n",
    "print(f\"\\n\\nSanity check for lists: {len(orig_screen_win) == len(year) == len(best_pic_win) ==  len(list(movie_df['Title'])) == len(reviewer)}\")\n",
    "\n",
    "movie_df['year'] = year\n",
    "movie_df['orig_screen_win'] = orig_screen_win\n",
    "movie_df['best_pic_win'] = best_pic_win\n",
    "movie_df['reviewer'] = reviewer"
   ]
  },
  {
   "cell_type": "markdown",
   "metadata": {},
   "source": [
    "## Data Cleaning\n",
    "\n",
    "### AR"
   ]
  },
  {
   "cell_type": "code",
   "execution_count": 4,
   "metadata": {},
   "outputs": [],
   "source": [
    "ar = movie_df[movie_df['reviewer'] == \"Ragan\"].copy()\n",
    "raw_scripts = list(ar['Script'])"
   ]
  },
  {
   "cell_type": "code",
   "execution_count": 5,
   "metadata": {},
   "outputs": [],
   "source": [
    "def drop_start(idx, todrop):\n",
    "    return raw_scripts[idx].replace(todrop, \"\")\n",
    "\n",
    "extraneous = [\"Scripts.com\\n\\nFirst Reformed\\n\\nBy Paul Schrader\\n\\nPage 1/57\\n\\n\\x0c\", \n",
    "              \"GREEN BOOK \\n\\nWritten by \\n\\nNick Vallelonga & Brian Currie & Peter Farrelly \\n\\n\\x0c\", \n",
    "              \"Scripts.com\\n\\nHell or High Water\\n\\nBy Taylor Sheridan\\n\\nPage 1/42\\n\\n\\x0c\", \n",
    "              \" \\n \\n\\n \\n \\n \\n \\n \\n \\n \\n \\n \\n \\n \\n \\n \\n \\n \\n\\n \\n \\n \\n \\n \\n \\n \\n \\n \\n \\n \\n\\nLADY BIRD \\n\\nwritten by \\n\\nGreta Gerwig \\n\\n\\x0c \\n \\n\\n \\n \\n \\n \\n \\n \\n \\n \\n \\n \\n \\n \\n \\n \\n \\n \\n \\n \\n \\n \\n \\n \\n \\n \\n \\n \\n \\n\\nii. \\n\\n\", \n",
    "              \"LA LA LAND\\n\\nby\\n\\nDamien Chazelle\\n\\n\\x0c\", \n",
    "              \"MARRIAGE STORY\\n\\nWritten and Directed by Noah Baumbach\\n\\n\\x0cBlack.\\n\\n\", \n",
    "              \"IN ENGLISH\\n\\n\\x0cROMA\\n\\nWritten and Directed by\\n\\nAlfonso Cuarón\\n\\nDates in RED are meant only as a tool for the different departments for \\nthe specific historical accuracy of the scenes and are not intended to \\nappear on screen. \\n\\n\\x0cThursday, September 3rd, 1970\\n\\n\", \n",
    "              \"F O R   Y O U R   C O N S I D E R A T I O N\\n\\nB E S T   O R I G I N A L   S C R E E N P L A Y\\n\\nG U I L L E R M O   D E L   T O R O\\n&\\nV A N E S S A   T A Y L O R\\n\\n\\x0c1                             \\n\\n1\\n\\n\", \n",
    "              \"THE BIG SICK\\n\\nby\\nEmily V. Gordon & Kumail Nanjiani\\n\\n\\x0c1\\n\\n\", \n",
    "              \"F O R   Y O U R   C O N S I D E R A T I O N\\n\\nW R I T T E N   B Y\\n\\nD E B O R A H   D A V I S   A N D   T O N Y   M C N A M A R A\\n\\n\\x0cW R I T T E N   B Y\\n\\nD E B O R A H   D A V I S   A N D   T O N Y   M C N A M A R A\\n\\n\\x0cTHE FAVOURITE\\n\\nWritten by\\n\\nDeborah Davis and Tony McNamara\\n\\nFINAL SHOOTING SCRIPT - 23rd MARCH 2017\\n\\nElement Pictures\\n21 Mespil Road \\nDublin 4\\nIreland\\n\\nScarlet Films\\n3 Oakley Studios\\nUpper Cheyne Row\\nLondon SW3 5JW, UK\\n\\n \\n\\n\\x0c1\\n\\n2\\n\\n3\\n\\n4\\n\\n5\\n\\n6\\n\\n\", \n",
    "              \"F O R   Y O U R   C O N S I D E R A T I O N\\n\\nB E S T   O R I G I N A L   S C R E E N P L A Y\\n\\nM A R T I N   M c D O N A G H\\n\\n\\x0cTHREE BILLBOARDS OUTSIDE EBBING, MISSOURI\\n\\nYou Red Welby?\\n\\nby\\nMartin McDonagh\\n\\n1\\n\\n\", \n",
    "              \"Written and Directed by\\n\\nVICE\\n\\nAdam McKay\\n\\n\\x0c\"]\n",
    "\n",
    "for r in range(len(raw_scripts)):\n",
    "    raw_scripts[r] = drop_start(r, extraneous[r])"
   ]
  },
  {
   "cell_type": "code",
   "execution_count": 6,
   "metadata": {},
   "outputs": [],
   "source": [
    "def expand_contractions(text):\n",
    "    text = re.sub(\"\\'s\", \" is\", text) # it's --> it is\n",
    "    text = re.sub(\"ain\\'t\", \"are not\", text) # ain't --> are not\n",
    "    text = re.sub(\"n\\'t\", \" not\", text) # don't --> do not\n",
    "    text = re.sub(\"\\'re\", \" are\", text) # you're --> you are\n",
    "    text = re.sub(\"\\'d\", \" would\", text) # she'd --> she would\n",
    "    text = re.sub(\"\\'ll\", \" will\", text) # he'll --> he will\n",
    "    text = re.sub(\"\\'ve\", \" have\", text) # we've --> we have\n",
    "    text = re.sub(\"\\'m\", \" am\", text) # I'm --> I am\n",
    "    return text\n",
    "\n",
    "for i in range(len(raw_scripts)):\n",
    "    raw_scripts[i] = expand_contractions(raw_scripts[i])"
   ]
  },
  {
   "cell_type": "code",
   "execution_count": 7,
   "metadata": {},
   "outputs": [],
   "source": [
    "def clean_lists(lis):\n",
    "    cust_punct = string.punctuation + \"`\" + \"'\" + \"’\" + \"”\" + \"“\" + \"...\"\n",
    "    if type(lis) != list:\n",
    "        lis = w_tokenize(lis)\n",
    "    lis = [l.replace(\"'\", \"\") for l in lis]\n",
    "    # strip punctuation\n",
    "    lis = [t.lower() for t in lis if t not in set(cust_punct)]\n",
    "    # lemmatize + lowercase\n",
    "    lis = [lemma.lemmatize(l) for l in lis]\n",
    "    # drop stop words\n",
    "    lis = [t for t in lis if t not in set(stop_words)]\n",
    "    # strip new lines\n",
    "    lis = [re.sub('\\s+', ' ', l) for l in lis]\n",
    "    # remove all non-alphanumeric -- fail safe code\n",
    "    lis = [re.sub(\"[^0-9a-zA-Z]+\", \"\", l) for l in lis]\n",
    "    return lis"
   ]
  },
  {
   "cell_type": "code",
   "execution_count": 8,
   "metadata": {},
   "outputs": [],
   "source": [
    "def split_dialogue_everything(script, pages):\n",
    "    first_ref = False\n",
    "    hhw = False\n",
    "    other = False\n",
    "\n",
    "    if script == raw_scripts[0]:\n",
    "        first_ref = True\n",
    "        print(\"First Reformed\")\n",
    "    elif script == raw_scripts[2]:\n",
    "        hhw = True\n",
    "        print(\"Hell or High Water\")\n",
    "    else:\n",
    "        other = True\n",
    "        print(\"Other\")\n",
    "    script = script.replace(\"'\", \"\")\n",
    "    # remove page numbers\n",
    "    script = re.sub(pages, \" \", script)\n",
    "    # remove voiceover --(V.O.)--from script\n",
    "    script = script.replace(\"(V.O.)\", \"\")\n",
    "    # extract dialogue -- some require customization\n",
    "    # First Reformed\n",
    "    if first_ref:\n",
    "        split_script = w_tokenize(script)\n",
    "        orig_split_script = split_script.copy()\n",
    "        # find indexes with (\n",
    "        open_pars = [i for i, e in enumerate(split_script) if e == \"(\"]\n",
    "        # find indexes with )\n",
    "        end_pars = [i for i, e in enumerate(split_script) if e == \")\"]\n",
    "        # return words between ( and ) to extract visual cues\n",
    "        visual_cues_fr = [\" \".join(split_script[open_pars[o]+1:end_pars[o]]) for o in range(len(open_pars))]\n",
    "        # drop visual cues from list\n",
    "        for o in range(len(open_pars)):\n",
    "            del split_script[open_pars[o]:end_pars[0]+1]\n",
    "        # re-join : with character names and drop extra :\n",
    "        # find indices with :\n",
    "        char_idx = [i for i, item in enumerate(split_script) if item.endswith(':')]\n",
    "        # for every index with :, go to the index before and add : to re-join CHARACTER with :\n",
    "        for b in char_idx:\n",
    "            split_script[b-1] = split_script[b-1] + split_script[b]\n",
    "        # drop extraneous colons\n",
    "        if \":\" in split_script:\n",
    "            split_script.remove(\":\")\n",
    "        # append non-character names to dialogue list\n",
    "        dialogue = [split_script[t] for t in range(len(split_script)) if split_script[t].endswith(\":\") == False]\n",
    "        script = orig_split_script\n",
    "    # Hell or High Water -- script is literally just dialogue\n",
    "    elif hhw:\n",
    "        dialogue = script\n",
    "    # All others\n",
    "    else:\n",
    "        # split on combo of caps and new lines\n",
    "        split_script = re.split(\"\\\\n[A-Z]*\\s?\\\\n\", script)\n",
    "        visual_cues = []\n",
    "        # if begins with INT or EXT then it's a setting and the next line is visual cue\n",
    "        settings = [v for v in range(len(split_script)) if split_script[v].startswith(\"INT\")\n",
    "                    or split_script[v].startswith(\"EXT\")\n",
    "                    or split_script[v].startswith(\"VISUALS|VISUAL\")]\n",
    "        # extract visual cues\n",
    "        visual_cue = [split_script[s+1] for s in settings]\n",
    "        # remove word if uppercase\n",
    "        visual_cue = [w for w in visual_cue if w.isupper() == False]\n",
    "        visual_cues.append(visual_cue)\n",
    "        sets_cues_id = []\n",
    "        for s in settings:\n",
    "            sets_cues_id.append(s)\n",
    "            sets_cues_id.append(s+1)\n",
    "        # remove settings and visual cues from dialogue\n",
    "        dialogue_ms = [split_script[d] for d in range(len(split_script)) if d not in sets_cues_id]\n",
    "        # removing entries that are just all caps (i.e. CHARLIE)\n",
    "        dialogue_wo_upper = [d for d in dialogue_ms if d.isupper() == False]\n",
    "        # removing entries that don't have a character indicator\n",
    "        dialogue_wo_indicator = [t for t in dialogue_wo_upper if t[:3].isupper() == False]\n",
    "        # split out indicators from dialogue + flatten nested list\n",
    "        dialogue_split = [re.split(\"[A-Z]\\s?\\\\n\", t) for t in dialogue_wo_upper if t[:3].isupper()]\n",
    "        # drop indicator + flatten split list\n",
    "        dialogue_flatten = []\n",
    "        for ts in dialogue_split:\n",
    "            ts.pop(0)\n",
    "            dialogue_flatten.append(ts)\n",
    "        dialogue_flatten = [item for sublist in dialogue_flatten for item in sublist]\n",
    "        dialogue = dialogue_flatten + dialogue_wo_indicator\n",
    "        dialogue = w_tokenize(\" \".join(dialogue))\n",
    "    # clean + join lists\n",
    "    everything_list = \" \".join(clean_lists(script))\n",
    "    dialogue_list = \" \".join(clean_lists(dialogue))\n",
    "    # return everything list and dialogue list\n",
    "    return everything_list, dialogue_list"
   ]
  },
  {
   "cell_type": "code",
   "execution_count": 9,
   "metadata": {},
   "outputs": [],
   "source": [
    "# regex codes for page numbers\n",
    "page = [\"\\\\nPage \\d+/57\",\n",
    "       \"\\\\x0c                                   \\\\n\\\\n   \\d+\\.\",\n",
    "       \"\\\\nPage \\d+/42\",\n",
    "       \"\\\\x0c\\s?[\\\\n\\\\n ?\\\\n ?]+\\d+\\. ?\\\\n\",\n",
    "       \"Revision\\\\n\\\\n\\d+\\.\\\\n\",\n",
    "       \"\\\\x0c                                                 \\d+\\.\\\\n\",\n",
    "       \"\\\\x0c\\d+\\.\\\\n\",\n",
    "       \"\\\\x0c\\d+                             \\\\n\\\\n\\d+\",\n",
    "       \"\\\\n\\\\x0c\\d+\\\\n\",\n",
    "       \"\\\\x0cTHE FAVOURITE SHOOTING SCRIPT 6 MAR 17   \\d+.\\\\n\",\n",
    "       \"\\\\n\\d+\\.\",\n",
    "       \"\\\\x0c\\d+\\.\\\\n\"]"
   ]
  },
  {
   "cell_type": "code",
   "execution_count": 10,
   "metadata": {},
   "outputs": [],
   "source": [
    "# custom pre-processing code\n",
    "# La La Land \n",
    "raw_scripts[4] = re.sub(\"\\\\n\\d+\\\\n\", \"\", raw_scripts[4])\n",
    "raw_scripts[4] = re.sub(\"\\\\n[A-Z]\\d+\\\\n\", \"\", raw_scripts[4])\n",
    "raw_scripts[4] = re.sub(\"\\[(.*?)\\]\", \"\", raw_scripts[4])\n",
    "\n",
    "# Shape of Water \n",
    "raw_scripts[7] = raw_scripts[7].replace(\"\\n\\nTHE SHAPE OF WATER\\nTHE SHAPE OF WATER\\nWritten by\\n\\nGuillermo del Toro\\nWritten by\\n&\\nVanessa Taylor\\nGuillermo del Toro\\n&\\nVanessa Taylor\\nStory by\\nGuillermo del Toro\\n\\nStory by\\nGuillermo del Toro\\n\\nFOX SEARCHLIGHT PICTURES, INC. \\n10201 W. Pico Blvd.\\nLos Angeles, CA 90035\\n\\nFOX SEARCHLIGHT PICTURES, INC. \\n10201 W. Pico Blvd.\\nLos Angeles, CA 90035\\n\\nALL RIGHTS RESERVED. COPYRIGHT ©2016 WILLOW AND OAK, INC. NO PORTION OF THIS SCRIPT MAY BE \\nPERFORMED, PUBLISHED, REPRODUCED, SOLD OR DISTRIBUTED BY ANY MEANS, OR QUOTED OR PUBLISHED IN ANY \\nMEDIUM, INCLUDING ANY WEB SITE, WITHOUT THE PRIOR WRITTEN CONSENT OF WILLOW AND OAK, INC. DISPOSAL \\nOF THIS SCRIPT COPY DOES NOT ALTER ANY OF THE RESTRICTIONS SET FORTH ABOVE.\\n\\nALL RIGHTS RESERVED. COPYRIGHT ©2016 WILLOW AND OAK, INC. NO PORTION OF THIS SCRIPT MAY BE \\nPERFORMED, PUBLISHED, REPRODUCED, SOLD OR DISTRIBUTED BY ANY MEANS, OR QUOTED OR PUBLISHED IN ANY \\nMEDIUM, INCLUDING ANY WEB SITE, WITHOUT THE PRIOR WRITTEN CONSENT OF WILLOW AND OAK, INC. DISPOSAL \\nOF THIS SCRIPT COPY DOES NOT ALTER ANY OF THE RESTRICTIONS SET FORTH ABOVE.\", \"\")\n",
    "raw_scripts[7] = re.sub(\"\\\\n\\d+\\\\n\", \"\", raw_scripts[7])\n",
    "raw_scripts[7] = re.sub(\"\\\\n[A-Z]\\d+\\\\n\", \"\", raw_scripts[7])\n",
    "\n",
    "# The Favourite \n",
    "raw_scripts[9] = re.sub(\"\\\\n\\d+\\\\n\", \"\", raw_scripts[9])\n",
    "\n",
    "# Three Billboards \n",
    "raw_scripts[10] = re.sub(\"\\\\n\\d+\\\\n\", \"\", raw_scripts[10])"
   ]
  },
  {
   "cell_type": "code",
   "execution_count": 11,
   "metadata": {},
   "outputs": [
    {
     "name": "stdout",
     "output_type": "stream",
     "text": [
      "First Reformed\n",
      "Other\n",
      "Hell or High Water\n",
      "Other\n",
      "Other\n",
      "Other\n",
      "Other\n",
      "Other\n",
      "Other\n",
      "Other\n",
      "Other\n",
      "Other\n"
     ]
    },
    {
     "data": {
      "text/plain": [
       "True"
      ]
     },
     "execution_count": 11,
     "metadata": {},
     "output_type": "execute_result"
    }
   ],
   "source": [
    "# loop over all scripts and apply function to split dialogue from everything + clean\n",
    "# instantiate empty lists to become columns\n",
    "master_dialogue = []\n",
    "master_cleaned_everything = []\n",
    "for r in range(len(raw_scripts)):\n",
    "    # apply function to every script\n",
    "    everything, dialogue = split_dialogue_everything(raw_scripts[r], page[r])\n",
    "    # add to master lists\n",
    "    master_cleaned_everything.append(everything)\n",
    "    master_dialogue.append(dialogue)\n",
    "\n",
    "# sanity check\n",
    "len(master_dialogue) == len(master_cleaned_everything)"
   ]
  },
  {
   "cell_type": "code",
   "execution_count": 12,
   "metadata": {},
   "outputs": [],
   "source": [
    "# return processed scripts to data frame\n",
    "# sanity checks -- Expect 3 returns of True\n",
    "len(master_dialogue) == 12\n",
    "len(master_cleaned_everything) == 12\n",
    "len(master_dialogue) == len(master_cleaned_everything)\n",
    "\n",
    "# make column of dialogue\n",
    "ar['cleaned_dialogue'] = master_dialogue\n",
    "\n",
    "# make everything column\n",
    "ar['cleaned_script'] = master_cleaned_everything"
   ]
  },
  {
   "cell_type": "markdown",
   "metadata": {},
   "source": [
    "### AS"
   ]
  },
  {
   "cell_type": "code",
   "execution_count": 13,
   "metadata": {},
   "outputs": [],
   "source": [
    "ACS = movie_df[movie_df['reviewer'] == 'Shafer'].copy()"
   ]
  },
  {
   "cell_type": "code",
   "execution_count": 14,
   "metadata": {},
   "outputs": [],
   "source": [
    "# Create function to remove extraneous information from title pages, etc.\n",
    "\n",
    "ext_list = ['1917\\n\\nWritten by\\n\\nSam Mendes\\n&\\nKrysty Wilson-Cairns\\n\\n© 2018 Storyworks Productions Limited. All rights reserved.\\n\\n\\x0cii\\nii\\n\\n‘Life, to be sure,\\n Is nothing much to lose,\\n But young men think it is,\\n And we were young.’\\n\\n-A.E. Housman\\n\\n‘We have so much to say, and we shall never say it.’\\n\\n-Erich Maria Remarque\\nAll Quiet On The Western Front \\n\\n\\x0ciii\\niii\\n\\nThe following script takes place in real time, and - with the \\nexception of one moment - is written and designed to be one single \\ncontinuous shot. \\n\\nNOTE:\\n\\n\\x0c                                                                1.\\n',\n",
    "             '20th Century Women\\n\\nby\\n\\nMike Mills\\n\\n\\x0cEXT.',\n",
    "             'Scripts.com\\n\\nBridge of Spies\\n\\nBy Matt Charman\\n\\nPage 1/124\\n\\n\\x0cTITLE OVER BLACK: 1957.',\n",
    "             ' \\n\\nEX MACHINA\\n\\nBy','\\n\\nAlex Garland\\n\\n','Alex Garland 2013\\nc/o DNA Films Ltd.',\n",
    "            '10 Amwell Street\\nLondon EC1R 1UQ\\nT:','\\n\\+44 (0)207 843 4410\\n\\n\\x0c','\\n\\n\\x0c'\n",
    "             'Scripts.com\\n\\nGet Out\\n\\nBy Jordan Peele\\n\\nPage 1/94\\n\\n\\x0c',\n",
    "             'INSIDE OUT\\n\\noriginal story by\\n\\nPete Docter\\nRonnie Del Carmen\\n \\n\\nScreenplay by\\n\\nPete Docter\\nMeg LeFauve\\nJosh Cooley\\n\\n\\x0cBLACK.',\n",
    "             'KNIVES OUT\\n\\nA Murder Mystery by\\n\\nRian Johnson\\n\\nSCREEN SCRIPT\\n\\n\\x0cEXT.',\n",
    "             'MANCHESTER BY THE SEA\\n\\nWritten & Directed \\n\\nby\\n\\nKenneth Lonergan\\n\\n\\x0cEXT.',\n",
    "             'F O R   Y O U R   C O N S I D E R A T I O N\\n\\nOUTSTANDING ORIGINAL SCREENPLAY \\nSCREENPLAY BY\\nBONG JOON HO AND HAN JIN WON\\nSTORY BY\\nBONG JOON HO\\n\\n\\x0c \\n \\n \\n \\n \\n \\n \\n \\n \\n\\n \\n \\n \\n \\n \\n \\n \\n \\n \\n \\n \\n \\n \\n \\n \\n \\n \\n \\n\\n \\n \\nPARASITE\\n \\n \\n \\n\\nScreenplay by\\n\\n \\nStory by\\n\\nBong Joon Ho\\n\\nBong Joon Ho and Han Jin Won\\n\\n \\n \\n \\n \\n \\n \\n \\n \\n \\n \\n \\n \\n \\n \\n \\n \\n \\n \\n\\n \\n \\n \\n \\n \\n \\n \\n \\n \\n\\n \\n \\n \\n \\n \\n \\n \\n \\n \\n \\n \\n \\n \\n \\n \\n \\n \\n \\n\\n\\x0c1\\n\\n2\\n\\nTITLE SEQUENCE OVER',\n",
    "             'Scripts.com\\n\\nSpotlight\\n\\nBy Tom McCarthy\\n\\nPage 1/152\\n\\n\\x0c1',\n",
    "             'STRAIGHT OUTTA COMPTON\\n\\nBy\\n\\nLeigh Savidge and Alan Wenkus\\n\\nRevised 8/16/08',\n",
    "            '\\nXenon Pictures','\\n(310)451-5510','\\n\\n\\x0cEXT.',\n",
    "            'Scripts.com\\n\\nGet Out\\n\\nBy Jordan Peele\\n\\nPage 1/94\\n\\n\\x0c',\n",
    "            'NEONratedAwards.com\\n\\n ',\n",
    "            'THE LOBSTER\\n\\nWritten by',\n",
    "            '\\n\\nYorgos Lanthimos', \n",
    "            '& Efthimis Filippou\\n\\n30 April 2013',\n",
    "            '\\n\\nElement Pictures\\nLimp\\nScarlet', \n",
    "            'Films\\n\\n 1',\n",
    "             'Scripts.com\\n\\nThe Lobster\\n\\nBy Yorgos Lanthimos\\n\\nPage 1/39\\n\\n\\x0c',\n",
    "            ' BLACK \\nAccompanied by dark but curiously upbeat MUSIC. \\nAt the end of the credits, the MAIN TITLE, in strange \\ncalligraphy, fills the screen -- \\n\\n“PARASITE”\\n\\n1\\n \\nMUSIC FADES. ',\n",
    "           'THE END.\\n\\nFOR LANCE CORPORAL ALFRED H. MENDESST BATTALION, KING’S ROYAL RIFLE CORPS\\n\\nWHO TOLD US THE STORIES\\n\\n\\x0c\"']\n",
    "\n",
    "def drop_start(text, ext_list):\n",
    "    new_text = text\n",
    "    for match in ext_list:\n",
    "        new_text = re.sub(match, '', new_text)\n",
    "    return new_text"
   ]
  },
  {
   "cell_type": "code",
   "execution_count": 15,
   "metadata": {},
   "outputs": [
    {
     "data": {
      "text/html": [
       "<div>\n",
       "<style scoped>\n",
       "    .dataframe tbody tr th:only-of-type {\n",
       "        vertical-align: middle;\n",
       "    }\n",
       "\n",
       "    .dataframe tbody tr th {\n",
       "        vertical-align: top;\n",
       "    }\n",
       "\n",
       "    .dataframe thead th {\n",
       "        text-align: right;\n",
       "    }\n",
       "</style>\n",
       "<table border=\"1\" class=\"dataframe\">\n",
       "  <thead>\n",
       "    <tr style=\"text-align: right;\">\n",
       "      <th></th>\n",
       "      <th>Title</th>\n",
       "      <th>Script</th>\n",
       "      <th>year</th>\n",
       "      <th>orig_screen_win</th>\n",
       "      <th>best_pic_win</th>\n",
       "      <th>reviewer</th>\n",
       "      <th>FirstClean</th>\n",
       "    </tr>\n",
       "  </thead>\n",
       "  <tbody>\n",
       "    <tr>\n",
       "      <th>0</th>\n",
       "      <td>1917</td>\n",
       "      <td>1917\\n\\nWritten by\\n\\nSam Mendes\\n&amp;\\nKrysty Wi...</td>\n",
       "      <td>2019</td>\n",
       "      <td>0</td>\n",
       "      <td>Nom</td>\n",
       "      <td>Shafer</td>\n",
       "      <td>...</td>\n",
       "    </tr>\n",
       "    <tr>\n",
       "      <th>1</th>\n",
       "      <td>20th_Century_Women</td>\n",
       "      <td>20th Century Women\\n\\nby\\n\\nMike Mills\\n\\n\f",
       "EXT...</td>\n",
       "      <td>2016</td>\n",
       "      <td>0</td>\n",
       "      <td>None</td>\n",
       "      <td>Shafer</td>\n",
       "      <td>OCEAN - DAY \\n\\nHigh overhead shot looking do...</td>\n",
       "    </tr>\n",
       "    <tr>\n",
       "      <th>2</th>\n",
       "      <td>BridgeofSpies</td>\n",
       "      <td>Scripts.com\\n\\nBridge of Spies\\n\\nBy Matt Char...</td>\n",
       "      <td>2015</td>\n",
       "      <td>0</td>\n",
       "      <td>Nom</td>\n",
       "      <td>Shafer</td>\n",
       "      <td>\\nThe height of the Cold War. The United Stat...</td>\n",
       "    </tr>\n",
       "    <tr>\n",
       "      <th>3</th>\n",
       "      <td>ExMachina</td>\n",
       "      <td>\\n\\nEX MACHINA\\n\\nBy \\n\\nAlex Garland\\n\\n© Al...</td>\n",
       "      <td>2015</td>\n",
       "      <td>0</td>\n",
       "      <td>None</td>\n",
       "      <td>Shafer</td>\n",
       "      <td>©  \\n +44 (0)207 843 4410\\n\\n\f",
       "Music starts.\\n...</td>\n",
       "    </tr>\n",
       "    <tr>\n",
       "      <th>5</th>\n",
       "      <td>Get_Out</td>\n",
       "      <td>Scripts.com\\n\\nGet Out\\n\\nBy Jordan Peele\\n\\nP...</td>\n",
       "      <td>2017</td>\n",
       "      <td>1</td>\n",
       "      <td>Nom</td>\n",
       "      <td>Shafer</td>\n",
       "      <td>I appeal to you therefore, brothers, by the me...</td>\n",
       "    </tr>\n",
       "    <tr>\n",
       "      <th>8</th>\n",
       "      <td>InsideOut</td>\n",
       "      <td>INSIDE OUT\\n\\noriginal story by\\n\\nPete Docter...</td>\n",
       "      <td>2015</td>\n",
       "      <td>0</td>\n",
       "      <td>None</td>\n",
       "      <td>Shafer</td>\n",
       "      <td>\\n\\nJOY (V.O.)\\nDo you ever look at someone an...</td>\n",
       "    </tr>\n",
       "    <tr>\n",
       "      <th>9</th>\n",
       "      <td>KnivesOut</td>\n",
       "      <td>KNIVES OUT\\n\\nA Murder Mystery by\\n\\nRian John...</td>\n",
       "      <td>2019</td>\n",
       "      <td>0</td>\n",
       "      <td>None</td>\n",
       "      <td>Shafer</td>\n",
       "      <td>THROMBEY ESTATE MANOR HOUSE - DAWN\\n\\nThe gro...</td>\n",
       "    </tr>\n",
       "    <tr>\n",
       "      <th>12</th>\n",
       "      <td>Manchester_By_TheSea</td>\n",
       "      <td>MANCHESTER BY THE SEA\\n\\nWritten &amp; Directed \\n...</td>\n",
       "      <td>2016</td>\n",
       "      <td>1</td>\n",
       "      <td>Nom</td>\n",
       "      <td>Shafer</td>\n",
       "      <td>MANCHESTER HARBOR -- SEA. DAY.\\n\\nA small com...</td>\n",
       "    </tr>\n",
       "    <tr>\n",
       "      <th>14</th>\n",
       "      <td>Parasite</td>\n",
       "      <td>F O R   Y O U R   C O N S I D E R A T I O N\\n\\...</td>\n",
       "      <td>2019</td>\n",
       "      <td>1</td>\n",
       "      <td>Win</td>\n",
       "      <td>Shafer</td>\n",
       "      <td>BLACK  \\n \\nAccompanied by dark but curiously...</td>\n",
       "    </tr>\n",
       "    <tr>\n",
       "      <th>17</th>\n",
       "      <td>Spotlight</td>\n",
       "      <td>Scripts.com\\n\\nSpotlight\\n\\nBy Tom McCarthy\\n\\...</td>\n",
       "      <td>2015</td>\n",
       "      <td>1</td>\n",
       "      <td>Win</td>\n",
       "      <td>Shafer</td>\n",
       "      <td>INT. POLICE STATION, BOSTON - NIGHT, 1976 1\\n...</td>\n",
       "    </tr>\n",
       "    <tr>\n",
       "      <th>18</th>\n",
       "      <td>StraightOuttaCompton</td>\n",
       "      <td>STRAIGHT OUTTA COMPTON\\n\\nBy\\n\\nLeigh Savidge ...</td>\n",
       "      <td>2015</td>\n",
       "      <td>0</td>\n",
       "      <td>None</td>\n",
       "      <td>Shafer</td>\n",
       "      <td>\\n(310)451-5510 JOE LOUIS STADIUM - NIGHT\\n\\nE...</td>\n",
       "    </tr>\n",
       "    <tr>\n",
       "      <th>21</th>\n",
       "      <td>TheLobster</td>\n",
       "      <td>THE LOBSTER\\n\\nWritten by\\n\\nYorgos Lanthimos ...</td>\n",
       "      <td>2016</td>\n",
       "      <td>0</td>\n",
       "      <td>None</td>\n",
       "      <td>Shafer</td>\n",
       "      <td>Films\\n\\n\f",
       "1\\n\\nEXT. COUNTRY ROAD - DAY\\n\\nA ...</td>\n",
       "    </tr>\n",
       "  </tbody>\n",
       "</table>\n",
       "</div>"
      ],
      "text/plain": [
       "                   Title                                             Script  \\\n",
       "0                   1917  1917\\n\\nWritten by\\n\\nSam Mendes\\n&\\nKrysty Wi...   \n",
       "1     20th_Century_Women  20th Century Women\\n\\nby\\n\\nMike Mills\\n\\n\n",
       "EXT...   \n",
       "2          BridgeofSpies  Scripts.com\\n\\nBridge of Spies\\n\\nBy Matt Char...   \n",
       "3              ExMachina   \\n\\nEX MACHINA\\n\\nBy \\n\\nAlex Garland\\n\\n© Al...   \n",
       "5                Get_Out  Scripts.com\\n\\nGet Out\\n\\nBy Jordan Peele\\n\\nP...   \n",
       "8              InsideOut  INSIDE OUT\\n\\noriginal story by\\n\\nPete Docter...   \n",
       "9              KnivesOut  KNIVES OUT\\n\\nA Murder Mystery by\\n\\nRian John...   \n",
       "12  Manchester_By_TheSea  MANCHESTER BY THE SEA\\n\\nWritten & Directed \\n...   \n",
       "14              Parasite  F O R   Y O U R   C O N S I D E R A T I O N\\n\\...   \n",
       "17             Spotlight  Scripts.com\\n\\nSpotlight\\n\\nBy Tom McCarthy\\n\\...   \n",
       "18  StraightOuttaCompton  STRAIGHT OUTTA COMPTON\\n\\nBy\\n\\nLeigh Savidge ...   \n",
       "21            TheLobster  THE LOBSTER\\n\\nWritten by\\n\\nYorgos Lanthimos ...   \n",
       "\n",
       "    year  orig_screen_win best_pic_win reviewer  \\\n",
       "0   2019                0          Nom   Shafer   \n",
       "1   2016                0         None   Shafer   \n",
       "2   2015                0          Nom   Shafer   \n",
       "3   2015                0         None   Shafer   \n",
       "5   2017                1          Nom   Shafer   \n",
       "8   2015                0         None   Shafer   \n",
       "9   2019                0         None   Shafer   \n",
       "12  2016                1          Nom   Shafer   \n",
       "14  2019                1          Win   Shafer   \n",
       "17  2015                1          Win   Shafer   \n",
       "18  2015                0         None   Shafer   \n",
       "21  2016                0         None   Shafer   \n",
       "\n",
       "                                           FirstClean  \n",
       "0                                                 ...  \n",
       "1    OCEAN - DAY \\n\\nHigh overhead shot looking do...  \n",
       "2    \\nThe height of the Cold War. The United Stat...  \n",
       "3    ©  \\n +44 (0)207 843 4410\\n\\n\n",
       "Music starts.\\n...  \n",
       "5   I appeal to you therefore, brothers, by the me...  \n",
       "8   \\n\\nJOY (V.O.)\\nDo you ever look at someone an...  \n",
       "9    THROMBEY ESTATE MANOR HOUSE - DAWN\\n\\nThe gro...  \n",
       "12   MANCHESTER HARBOR -- SEA. DAY.\\n\\nA small com...  \n",
       "14   BLACK  \\n \\nAccompanied by dark but curiously...  \n",
       "17   INT. POLICE STATION, BOSTON - NIGHT, 1976 1\\n...  \n",
       "18  \\n(310)451-5510 JOE LOUIS STADIUM - NIGHT\\n\\nE...  \n",
       "21    Films\\n\\n\n",
       "1\\n\\nEXT. COUNTRY ROAD - DAY\\n\\nA ...  "
      ]
     },
     "execution_count": 15,
     "metadata": {},
     "output_type": "execute_result"
    }
   ],
   "source": [
    "# apply function to do initial light clean on columns and make new fields\n",
    "\n",
    "ACS['FirstClean'] = ACS['Script'].apply(drop_start, args = (ext_list, ))\n",
    "ACS"
   ]
  },
  {
   "cell_type": "code",
   "execution_count": 16,
   "metadata": {},
   "outputs": [],
   "source": [
    "# Create function to clean unneeded pieces from script. ## These used to be all one tool called \"multiclean\"\n",
    "\n",
    "def remove_contractions(text):\n",
    "    text = re.sub(r\"n\\'t\", \" not\", text) # handle contractions\n",
    "    text = re.sub(r\"\\'s\", \" is\", text)\n",
    "    text = re.sub(r\"\\'m\", \" am\", text)\n",
    "    text = re.sub(r\"\\'d\", \" had\", text)\n",
    "    text = re.sub(r\"\\'ve\", \" have\", text)\n",
    "    text = re.sub(r\"\\'ll\", \" will\", text)\n",
    "    text = re.sub(r\"\\'re\", \" are\", text)\n",
    "    text = re.sub(r\"ain\\'t\", \"are not\", text)\n",
    "    return text\n",
    "\n",
    "def remove_page_nums(text):\n",
    "    text = re.sub('\\n11/26/14', '', text)\n",
    "    text = re.sub('\\n\\n\\\\x0c\\s+\\d+\\.','', text)\n",
    "    text = re.sub('\\nPage \\d+\\/\\d+', '', text)\n",
    "    text = re.sub('\\n\\/Page', '', text)\n",
    "    text = re.sub('\\\\x0c|\\\\x0c ', '', text)\n",
    "    text = re.sub('\\\\x0c\\d\\.', ' ', text)\n",
    "    text = re.sub('\\n+\\\\x0c\\d+','', text)\n",
    "    text = re.sub('\\n\\n\\\\x0c\\s+\\d+\\.|\\n\\n\\\\x0c\\s+\\d+\\.|\\\\x0c','', text)\n",
    "    return text\n",
    "\n",
    "def remove_space_digs(text):\n",
    "    text = re.sub('\\n\\*\\n', '', text)\n",
    "    text = re.sub(\"\\’\", '', text) #remove possesives\n",
    "    text = re.sub('^\\s+','',text)\n",
    "    text = re.sub('\\s+\\d\\.', '', text)\n",
    "    text = re.sub('\\d\\.|\\d+\\.', '', text)\n",
    "    text = re.sub('\\n\\s\\d+\\.\\n|\\n*\\s+\\\\n+\\d+\\.', ' ', text)\n",
    "    text = re.sub('[“]', '', text)\n",
    "    text = re.sub('\\n\\d\\.| \\d\\.|\\n \\d+\\.|\\n\\d+\\.', '', text)\n",
    "    text = re.sub('\\n\\d+|\\n\\d+\\.| \\d+\\n| \\d+\\.', '', text)\n",
    "    text = re.sub('\\n\\*\\n', '', text)\n",
    "    text = re.sub('^\\n\\(\\)- ', '', text)\n",
    "    text = re.sub('[--]', '', text)\n",
    "    text = re.sub('[#]', '', text)\n",
    "    text = re.sub('[©]', '', text)\n",
    "    text = re.sub('[“]', '', text)\n",
    "    text = re.sub('^\\n\\(d+\\)d+\\-d+ ', '', text)\n",
    "    text = re.sub('\\s+\\d', '', text)\n",
    "    text = re.sub('\\(\\d+\\)', '', text)\n",
    "    text = re.sub('\\d+\\n+\\d+\\w\\n+\\d|\\n+\\d+', '', text)\n",
    "    text = re.sub('\\n\\d+\\.', '', text)\n",
    "    text = re.sub('\\d', '', text)\n",
    "    text = re.sub(' +', ' ', text)\n",
    "    text = re.sub('\\n\\d\\.| \\d\\.|\\n \\d+\\.|\\n\\d+\\.| \\d\\n|\\n\\d|\\n\\d |\\n\\d\\n', '', text)\n",
    "    return text\n",
    "\n",
    "def remove_words(text):\n",
    "    text = re.sub('TITLES:', '', text)\n",
    "    text = re.sub('\\(V\\.O\\.\\)|\\(O\\.S\\.\\)|\\(O\\.C\\.\\)| V.O.|O\\.S\\.|V\\.O\\.|\\sV\\.O\\.', '', text)\n",
    "    text = re.sub('^Films\\n+ \\d\\n\\n', '', text)\n",
    "    text = re.sub(\"\\(CONTINUED:\\)|\\(CONTINUED\\)|CONTINUED:|COUNTINUOUS| CONTINUOUS|CONT'D|\\(CONT'D\\)\", ' ', text)\n",
    "    text = re.sub(\"\\(CONT\\’D\\)| \\(CONT\\'D\\)\\s+|\\(CONT\\'D\\)|\\(CONT\\'D\\)|\\s\\(CONT\\'D\\)\\s+| (CONT\\’D)\",'',text)\n",
    "    text = re.sub(\"\\(CONTINUED:\\)|\\s\\(CONT\\’D\\)\\n| \\(CONT\\’D\\) \\n|\\(CONTINUED\\)|CONTINUED:|COUNTINUOUS| CONTINUOUS|CONT'D|\\(CONT'D\\)| \\(CONT'D\\)|\\(CONT..\\d\\;D\\)\", ' ', text)\n",
    "    text = re.sub(r'14 FINAL SHOOTING SCRIPT  |FINAL SHOOTING SCRIPT|\\n 12.17.14 FINAL SHOOTING SCRIPT \\d+\\.|\\n 12.17.14 FINAL SHOOTING SCRIPT |\\n+ \\d+ FINAL SHOOTING SCRIPT  \\n+', '', text)\n",
    "    text = re.sub(\"\\(CONT’D\\)| \\(CONT'D\\)\",'', text)\n",
    "    text = re.sub(\"\\(CONT’D\\)| \\(CONT'D\\)| \\(CONT\\\\'D\\)\",' ', text)\n",
    "    text = re.sub('\\(MORE\\)', '', text)\n",
    "    return text\n",
    "    "
   ]
  },
  {
   "cell_type": "code",
   "execution_count": 17,
   "metadata": {},
   "outputs": [],
   "source": [
    "# Apply cleaning functions to initially cleaned col (FirstClean)\n",
    "\n",
    "ACS['SecondClean'] = ACS['FirstClean'].apply(remove_contractions) # does not seem to be working\n",
    "ACS['SecondClean'] = ACS['SecondClean'].apply(remove_page_nums)\n",
    "ACS['SecondClean'] = ACS['SecondClean'].apply(remove_space_digs)\n",
    "ACS['SecondClean'] = ACS['SecondClean'].apply(remove_words)"
   ]
  },
  {
   "cell_type": "code",
   "execution_count": 18,
   "metadata": {},
   "outputs": [],
   "source": [
    "# Make a combined Visual Cues and Speaking Clean column\n",
    "\n",
    "stop_words = set(stopwords.words('english'))\n",
    "punc = string.punctuation\n",
    "\n",
    "\n",
    "def normalize(text):\n",
    "    text = text.lower() #lowercase all text\n",
    "    text = re.sub('\\n', ' ', text) # remove newlines\n",
    "    text = re.sub('[{):?+,<>.!?/(;}]', '', text) # remove punctuation\n",
    "    text = re.sub('\\[\\]', '', text)\n",
    "    text = re.sub(\"\\’\", '', text)\n",
    "    text = re.sub('[“]', '', text) # remove various formats of quoatation marks\n",
    "    text = re.sub('[”]', '', text)\n",
    "    text = re.sub(\"\\-\", ' ', text)\n",
    "    text = re.sub(\"[‘]\", ' ', text)\n",
    "    text = re.sub('\\*', '', text)\n",
    "    text = re.sub('[#]', '', text)\n",
    "    text = re.sub('[©]', '', text)\n",
    "    text = re.sub('\\s+', ' ', text) # remove multiple spaces\n",
    "    text = re.sub(r\"n\\'t\", \" not\", text) # expand contractions\n",
    "    text = re.sub(r\"\\'s\", \" is\", text)\n",
    "    text = re.sub(\"\\'m\", \" am\", text)\n",
    "    text = re.sub(r\"\\'d\", \" had\", text)\n",
    "    text = re.sub(r\"\\'ve\", \" have\", text)\n",
    "    text = re.sub(r\"\\'ll\", \" will\", text)\n",
    "    text = re.sub(r\"\\'re\", \" are\", text)\n",
    "    text = re.sub(r\"ain\\'t\", \"are not\", text) \n",
    "    text = w_tokenize(text) # tokenize text\n",
    "    text = [lemma.lemmatize(w) for w in text] # lemmatize text\n",
    "    text = [w for w in text if w not in stop_words] # remove stop words\n",
    "    return text"
   ]
  },
  {
   "cell_type": "code",
   "execution_count": 19,
   "metadata": {},
   "outputs": [],
   "source": [
    "# Create column of cleaned/normalized visual cues and speaking parts combined. \n",
    "\n",
    "ACS['Everything_Clean'] = ACS['SecondClean'].apply(normalize)"
   ]
  },
  {
   "cell_type": "code",
   "execution_count": 20,
   "metadata": {},
   "outputs": [],
   "source": [
    "# Create function to idenitfy speaking vs. visual cues; returns as what is considered as \"dialogue\"\n",
    "## Allie's function\n",
    "## used to as initial separator of visual cues from speaking parts.\n",
    "\n",
    "def speaking_parts(text):\n",
    "    # split on combo of caps and new lines\n",
    "    split_text = re.split(\"\\\\n[A-Z]*\\s?\\\\n\", text)\n",
    "\n",
    "    visual_cues = []\n",
    "    # if begins with INT or EXT then it's a setting and the next line is visual cue\n",
    "    settings = [v for v in range(len(split_text)) if split_text[v].startswith(\"INT\")\n",
    "                or split_text[v].startswith(\"EXT\")]\n",
    "\n",
    "    # extract visual cues\n",
    "    visual_cue = [split_text[s + 1] for s in settings]\n",
    "\n",
    "    # remove word if uppercase\n",
    "    visual_cue = [w for w in visual_cue if w.isupper() == False]\n",
    "\n",
    "    visual_cues.append(visual_cue)\n",
    "\n",
    "    sets_cues_id = []\n",
    "    for s in settings:\n",
    "        sets_cues_id.append(s)\n",
    "        sets_cues_id.append(s + 1)\n",
    "\n",
    "    # remove settings and visual cues from dialogue\n",
    "    dialogue = [split_text[d] for d in range(len(split_text)) if d not in sets_cues_id]\n",
    "\n",
    "    # removing entries that are just all caps (i.e. CHARLIE)\n",
    "    dialogue = [d for d in dialogue if d.isupper() == False]\n",
    "\n",
    "    # removing entries that don't have a character indicator\n",
    "    dialogue_wo_indicator = [t for t in dialogue if t[:3].isupper() == False]\n",
    "    # split out indicators from dialogue + flatten nested list\n",
    "    dialogue_split = [re.split(\"[A-Z]\\s?\\\\n\", t) for t in dialogue if t[:3].isupper()]\n",
    "    # drop indicator + flatten split list\n",
    "    dialogue_flatten = []\n",
    "    for ts in dialogue_split:\n",
    "        ts.pop(0)\n",
    "        dialogue_flatten.append(ts)\n",
    "    dialogue_flatten = [item for sublist in dialogue_flatten for item in sublist]\n",
    "    dialogue = dialogue_flatten + dialogue_wo_indicator\n",
    "    dialogue = w_tokenize(\" \".join(dialogue))\n",
    "\n",
    "    return dialogue"
   ]
  },
  {
   "cell_type": "code",
   "execution_count": 21,
   "metadata": {},
   "outputs": [],
   "source": [
    "# Apply function to create Dialogue column for further cleaning separation\n",
    "# Should result in a list of strings for each script\n",
    "\n",
    "ACS['Diag_Work'] = ACS['SecondClean'].apply(speaking_parts)"
   ]
  },
  {
   "cell_type": "code",
   "execution_count": 22,
   "metadata": {},
   "outputs": [],
   "source": [
    "# apply AR cleaning function to standardize all\n",
    "ACS['cleaned_dialogue'] = ACS['Diag_Work'].apply(lambda x: \" \".join(clean_lists(x)))\n",
    "ACS['cleaned_script'] = ACS['Everything_Clean'].apply(lambda x: \" \".join(clean_lists(x)))\n",
    "\n",
    "# drop extra columns from cleaning\n",
    "ACS.drop(['FirstClean', 'SecondClean', 'Everything_Clean', 'Diag_Work'], axis = 1, inplace=True)"
   ]
  },
  {
   "cell_type": "markdown",
   "metadata": {},
   "source": [
    "### Concatenate AR + AS"
   ]
  },
  {
   "cell_type": "code",
   "execution_count": 23,
   "metadata": {},
   "outputs": [
    {
     "data": {
      "text/plain": [
       "array([ True,  True,  True,  True,  True,  True,  True,  True])"
      ]
     },
     "execution_count": 23,
     "metadata": {},
     "output_type": "execute_result"
    }
   ],
   "source": [
    "# sanity check -- expect all True\n",
    "ar.columns == ACS.columns"
   ]
  },
  {
   "cell_type": "code",
   "execution_count": 24,
   "metadata": {
    "scrolled": false
   },
   "outputs": [],
   "source": [
    "movies_df = pd.concat([ar, ACS]).reset_index(drop=True)"
   ]
  },
  {
   "cell_type": "code",
   "execution_count": 25,
   "metadata": {},
   "outputs": [],
   "source": [
    "# calculate word length\n",
    "def word_len(script):\n",
    "    return len(w_tokenize(script))\n",
    "movies_df['script_length'] = movies_df['cleaned_script'].apply(lambda x: word_len(x))\n",
    "movies_df['dialogue_length'] = movies_df['cleaned_dialogue'].apply(lambda x: word_len(x))"
   ]
  },
  {
   "cell_type": "code",
   "execution_count": 26,
   "metadata": {},
   "outputs": [],
   "source": [
    "movies_df = movies_df.assign(\n",
    "    # add genres\n",
    "    Genres = ['Drama', 'Drama', 'Drama-Mystery Suspense', 'Comedy-Drama', \n",
    "                           'Comedy-Drama', 'Drama', 'Drama', 'Drama-SciFi', \n",
    "                           'Comedy-Romance', 'Drama', 'Comedy-Drama', 'Drama',\n",
    "                           'Drama','Comedy-Drama', 'Drama-Mystery Suspense', \n",
    "                           'Drama-Mystery Suspense-SciFi','Horror-Mystery Suspense', \n",
    "                           'Animation-Kids and Family', 'Drama-Mystery Suspense', \n",
    "                           'Drama', 'Drama', 'Drama-Mystery Suspense', 'Drama', \n",
    "                           'Comedy-Drama-SciFi'],\n",
    "    GenresAlt = ['Drama', 'Drama', 'Drama', 'Comedy-Drama', \n",
    "                           'Comedy-Drama', 'Drama', 'Drama', 'Drama', \n",
    "                           'Comedy-Romance', 'Drama', 'Comedy-Drama', 'Drama',\n",
    "                           'Drama','Comedy-Drama', 'Drama', \n",
    "                           'SciFi','Horror', \n",
    "                           'Animation', 'Mystery', \n",
    "                           'Drama', 'Drama', 'Drama', 'Drama', \n",
    "                           'Comedy-Drama'],\n",
    "    GenresBroad = ['Drama', 'Drama', 'Mystery Suspense', 'Comedy-Drama', \n",
    "                           'Comedy-Drama', 'Drama', 'Drama', 'Drama', \n",
    "                           'Comedy', 'Drama', 'Comedy-Drama', 'Drama',\n",
    "                           'Drama','Comedy-Drama', 'Mystery Suspense', \n",
    "                           'Mystery Suspense','Mystery Suspense', \n",
    "                           'Animation', 'Mystery Suspense', \n",
    "                           'Drama', 'Drama', 'Mystery Suspense', 'Drama', \n",
    "                           'Comedy-Drama'],\n",
    "    # add rating\n",
    "    Rating = ['R', 'PG-13','R', 'R', 'PG-13','R', 'R', 'R', 'R', 'R', 'R', 'R', 'R', 'R', 'PG-13', 'R', \n",
    "              'R', 'PG', 'PG-13', 'R', 'R', 'R', 'R', 'R'],\n",
    "    # add critic score\n",
    "    Critic_Score = [93, 78, 97, 99, 91, 95, 95, 92, 98, 93, 90, 66, 89, 89, 91, 92, 98, 98, 97, 96, 99, 97, 88, 88],\n",
    "    # add audience score\n",
    "    Aud_Score = [68, 91, 88, 79, 81, 85, 72, 72, 88, 69, 87, 59, 88, 74, 87, 86, 86, 89, 92, 78, 90, 93, 91, 65],\n",
    "    # add runtime\n",
    "    RunTime = [108, 130, 102, 93, 128, 136, 135, 119, 119, 119, 115, 132, 110, 118, 135, 108, 104, 94, 130, 135, \n",
    "               132, 129, 147, 118])"
   ]
  },
  {
   "cell_type": "markdown",
   "metadata": {},
   "source": [
    "## NLP transformations\n",
    "\n",
    "### CV"
   ]
  },
  {
   "cell_type": "code",
   "execution_count": 27,
   "metadata": {},
   "outputs": [],
   "source": [
    "# instantiate\n",
    "bow_all = CountVectorizer(analyzer = 'word', lowercase = True)\n",
    "# fit + transform training data\n",
    "bow_all_fit = bow_all.fit_transform(movies_df['cleaned_script'])"
   ]
  },
  {
   "cell_type": "code",
   "execution_count": 28,
   "metadata": {},
   "outputs": [],
   "source": [
    "# instantiate\n",
    "bow_dialogue = CountVectorizer(analyzer = 'word', lowercase = True)\n",
    "# fit + transform\n",
    "bow_dialogue_fit = bow_dialogue.fit_transform(movies_df['cleaned_dialogue'])"
   ]
  },
  {
   "cell_type": "markdown",
   "metadata": {},
   "source": [
    "### TFIDF"
   ]
  },
  {
   "cell_type": "code",
   "execution_count": 29,
   "metadata": {},
   "outputs": [],
   "source": [
    "# instantiate\n",
    "tfidf_all = TfidfVectorizer(max_features=5000)\n",
    "# fit + transform training data\n",
    "tfidf_all_fit = tfidf_all.fit_transform(movies_df['cleaned_script'])\n",
    "# tfidf_vocab_all = tfidf_dialogue.vocabulary_\n",
    "# tfidf_vocab_all = {k: v for k, v in sorted(tfidf_vocab_all.items(), key=lambda item: item[1], reverse=True)}\n",
    "# print(tfidf_vocab_all)"
   ]
  },
  {
   "cell_type": "code",
   "execution_count": 30,
   "metadata": {},
   "outputs": [],
   "source": [
    "# instantiate\n",
    "tfidf_dialogue = TfidfVectorizer(max_features=5000)\n",
    "# fit + transform training data\n",
    "tfidf_dialogue_fit = tfidf_dialogue.fit_transform(movies_df['cleaned_dialogue'])\n",
    "# tfidf_vocab_dialogue = tfidf_dialogue.vocabulary_\n",
    "# tfidf_vocab_dialogue = {k: v for k, v in sorted(tfidf_vocab_dialogue.items(), key=lambda item: item[1], reverse=True)}\n",
    "# print(tfidf_vocab_dialogue)"
   ]
  },
  {
   "cell_type": "markdown",
   "metadata": {},
   "source": [
    "viz\n",
    "\n",
    "- word cloud for winners and losers\n",
    "- sentiment across genres\n",
    "- sentiment across winners/losers\n",
    "- scatterplot of negative score-positive score colored by genre\n",
    "- scatterplot of negative score-positive score colored by winner/loser\n",
    "- sentiment distribution for each genre"
   ]
  },
  {
   "cell_type": "markdown",
   "metadata": {},
   "source": [
    "## Sentiment Analysis -- AR\n",
    "\n",
    "Using AFINN lexicon, aka the \"new ANEW\" which calculates a polarity score associated with each word.\n",
    "\n",
    "### Sentiment Analysis -- Dialogue"
   ]
  },
  {
   "cell_type": "code",
   "execution_count": 31,
   "metadata": {},
   "outputs": [],
   "source": [
    "# initialize afinn sentiment analyzer\n",
    "af = Afinn()\n",
    "\n",
    "# compute sentiment scores (polarity) and labels\n",
    "sentiment_scores = [af.score(article) for article in list(movies_df['cleaned_dialogue'])]\n",
    "sentiment_category = ['positive' if score > 0 \n",
    "                          else 'negative' if score < 0 \n",
    "                              else 'neutral' \n",
    "                                  for score in sentiment_scores]\n",
    "\n",
    "afinn_dialogue = pd.DataFrame([list(movies_df['Title']), list(movies_df['Genres']), list(movies_df['GenresBroad']), list(movies_df['orig_screen_win']), sentiment_scores, sentiment_category]).T\n",
    "afinn_dialogue.columns = ['Titles', 'Genres', 'GenresBroad', 'Winner', 'SentimentScore', 'SentimentCategory']\n",
    "afinn_dialogue['SentimentScore'] = afinn_dialogue['SentimentScore'].astype('float')"
   ]
  },
  {
   "cell_type": "code",
   "execution_count": 32,
   "metadata": {},
   "outputs": [
    {
     "data": {
      "image/png": "[encoded data removed]",
      "text/plain": [
       "<Figure size 1008x288 with 1 Axes>"
      ]
     },
     "metadata": {
      "needs_background": "light"
     },
     "output_type": "display_data"
    }
   ],
   "source": [
    "plt.figure(figsize=(14,4))\n",
    "sns.countplot(x='SentimentCategory', data=afinn_dialogue, palette=\"hls\").set_title(\"Sentiment Score Counts\")\n",
    "plt.show()"
   ]
  },
  {
   "cell_type": "markdown",
   "metadata": {},
   "source": [
    "#### Winners vs Losers"
   ]
  },
  {
   "cell_type": "code",
   "execution_count": 33,
   "metadata": {
    "scrolled": true
   },
   "outputs": [
    {
     "data": {
      "text/html": [
       "<div>\n",
       "<style scoped>\n",
       "    .dataframe tbody tr th:only-of-type {\n",
       "        vertical-align: middle;\n",
       "    }\n",
       "\n",
       "    .dataframe tbody tr th {\n",
       "        vertical-align: top;\n",
       "    }\n",
       "\n",
       "    .dataframe thead tr th {\n",
       "        text-align: left;\n",
       "    }\n",
       "\n",
       "    .dataframe thead tr:last-of-type th {\n",
       "        text-align: right;\n",
       "    }\n",
       "</style>\n",
       "<table border=\"1\" class=\"dataframe\">\n",
       "  <thead>\n",
       "    <tr>\n",
       "      <th></th>\n",
       "      <th colspan=\"8\" halign=\"left\">SentimentScore</th>\n",
       "    </tr>\n",
       "    <tr>\n",
       "      <th></th>\n",
       "      <th>count</th>\n",
       "      <th>mean</th>\n",
       "      <th>std</th>\n",
       "      <th>min</th>\n",
       "      <th>25%</th>\n",
       "      <th>50%</th>\n",
       "      <th>75%</th>\n",
       "      <th>max</th>\n",
       "    </tr>\n",
       "    <tr>\n",
       "      <th>Winner</th>\n",
       "      <th></th>\n",
       "      <th></th>\n",
       "      <th></th>\n",
       "      <th></th>\n",
       "      <th></th>\n",
       "      <th></th>\n",
       "      <th></th>\n",
       "      <th></th>\n",
       "    </tr>\n",
       "  </thead>\n",
       "  <tbody>\n",
       "    <tr>\n",
       "      <th>0</th>\n",
       "      <td>19.0</td>\n",
       "      <td>96.578947</td>\n",
       "      <td>490.590043</td>\n",
       "      <td>-1044.0</td>\n",
       "      <td>-150.5</td>\n",
       "      <td>170.0</td>\n",
       "      <td>384.0</td>\n",
       "      <td>998.0</td>\n",
       "    </tr>\n",
       "    <tr>\n",
       "      <th>1</th>\n",
       "      <td>5.0</td>\n",
       "      <td>132.400000</td>\n",
       "      <td>151.640364</td>\n",
       "      <td>-24.0</td>\n",
       "      <td>21.0</td>\n",
       "      <td>89.0</td>\n",
       "      <td>239.0</td>\n",
       "      <td>337.0</td>\n",
       "    </tr>\n",
       "  </tbody>\n",
       "</table>\n",
       "</div>"
      ],
      "text/plain": [
       "       SentimentScore                                                       \\\n",
       "                count        mean         std     min    25%    50%    75%   \n",
       "Winner                                                                       \n",
       "0                19.0   96.578947  490.590043 -1044.0 -150.5  170.0  384.0   \n",
       "1                 5.0  132.400000  151.640364   -24.0   21.0   89.0  239.0   \n",
       "\n",
       "               \n",
       "          max  \n",
       "Winner         \n",
       "0       998.0  \n",
       "1       337.0  "
      ]
     },
     "execution_count": 33,
     "metadata": {},
     "output_type": "execute_result"
    }
   ],
   "source": [
    "# sentiment statistics for winners/losers\n",
    "afinn_dialogue.groupby(by=['Winner']).describe()"
   ]
  },
  {
   "cell_type": "code",
   "execution_count": 34,
   "metadata": {},
   "outputs": [
    {
     "data": {
      "text/plain": [
       "Text(0.5, 1.0, 'Boxplot of Sentiment Score by Result')"
      ]
     },
     "execution_count": 34,
     "metadata": {},
     "output_type": "execute_result"
    },
    {
     "data": {
      "image/png": "[encoded data removed]",
      "text/plain": [
       "<Figure size 1440x576 with 1 Axes>"
      ]
     },
     "metadata": {
      "needs_background": "light"
     },
     "output_type": "display_data"
    }
   ],
   "source": [
    "# boxplot\n",
    "fig_dims = (20, 8)\n",
    "fig, ax = plt.subplots(figsize=fig_dims)\n",
    "sns.boxplot(x='Winner', y=\"SentimentScore\", \n",
    "                 hue='Winner', data=afinn_dialogue, ax=ax,\n",
    "                 palette=\"hls\").set_title('Boxplot of Sentiment Score by Result')"
   ]
  },
  {
   "cell_type": "code",
   "execution_count": 35,
   "metadata": {},
   "outputs": [
    {
     "data": {
      "text/plain": [
       "Text(0.5, 1.0, 'Bar Plot of Sentiment Score by Result')"
      ]
     },
     "execution_count": 35,
     "metadata": {},
     "output_type": "execute_result"
    },
    {
     "data": {
      "image/png": "[encoded data removed]",
      "text/plain": [
       "<Figure size 1440x576 with 1 Axes>"
      ]
     },
     "metadata": {
      "needs_background": "light"
     },
     "output_type": "display_data"
    }
   ],
   "source": [
    "# barplot\n",
    "fig_dims = (20, 8)\n",
    "fig, ax = plt.subplots(figsize=fig_dims)\n",
    "sns.barplot(x = \"Winner\", y = \"SentimentScore\", ax=ax, data=afinn_dialogue, \n",
    "            palette=\"hls\", ci=None).set_title('Bar Plot of Sentiment Score by Result')"
   ]
  },
  {
   "cell_type": "code",
   "execution_count": 36,
   "metadata": {},
   "outputs": [
    {
     "data": {
      "text/plain": [
       "Text(0.5, 1.0, 'Count Plot of Sentiment Score by Result')"
      ]
     },
     "execution_count": 36,
     "metadata": {},
     "output_type": "execute_result"
    },
    {
     "data": {
      "image/png": "[encoded data removed]",
      "text/plain": [
       "<Figure size 1440x576 with 1 Axes>"
      ]
     },
     "metadata": {
      "needs_background": "light"
     },
     "output_type": "display_data"
    }
   ],
   "source": [
    "# countplot\n",
    "fig_dims = (20, 8)\n",
    "fig, ax = plt.subplots(figsize=fig_dims)\n",
    "sns.countplot(y=\"Winner\", hue=\"SentimentCategory\", data=afinn_dialogue, \n",
    "              ax=ax, palette=\"hls\").set_title('Count Plot of Sentiment Score by Result')"
   ]
  },
  {
   "cell_type": "markdown",
   "metadata": {},
   "source": [
    "#### Genres "
   ]
  },
  {
   "cell_type": "code",
   "execution_count": 37,
   "metadata": {},
   "outputs": [
    {
     "data": {
      "text/html": [
       "<div>\n",
       "<style scoped>\n",
       "    .dataframe tbody tr th:only-of-type {\n",
       "        vertical-align: middle;\n",
       "    }\n",
       "\n",
       "    .dataframe tbody tr th {\n",
       "        vertical-align: top;\n",
       "    }\n",
       "\n",
       "    .dataframe thead tr th {\n",
       "        text-align: left;\n",
       "    }\n",
       "\n",
       "    .dataframe thead tr:last-of-type th {\n",
       "        text-align: right;\n",
       "    }\n",
       "</style>\n",
       "<table border=\"1\" class=\"dataframe\">\n",
       "  <thead>\n",
       "    <tr>\n",
       "      <th></th>\n",
       "      <th colspan=\"8\" halign=\"left\">SentimentScore</th>\n",
       "    </tr>\n",
       "    <tr>\n",
       "      <th></th>\n",
       "      <th>count</th>\n",
       "      <th>mean</th>\n",
       "      <th>std</th>\n",
       "      <th>min</th>\n",
       "      <th>25%</th>\n",
       "      <th>50%</th>\n",
       "      <th>75%</th>\n",
       "      <th>max</th>\n",
       "    </tr>\n",
       "    <tr>\n",
       "      <th>Genres</th>\n",
       "      <th></th>\n",
       "      <th></th>\n",
       "      <th></th>\n",
       "      <th></th>\n",
       "      <th></th>\n",
       "      <th></th>\n",
       "      <th></th>\n",
       "      <th></th>\n",
       "    </tr>\n",
       "  </thead>\n",
       "  <tbody>\n",
       "    <tr>\n",
       "      <th>Animation-Kids and Family</th>\n",
       "      <td>1.0</td>\n",
       "      <td>998.0</td>\n",
       "      <td>NaN</td>\n",
       "      <td>998.0</td>\n",
       "      <td>998.00</td>\n",
       "      <td>998.0</td>\n",
       "      <td>998.00</td>\n",
       "      <td>998.0</td>\n",
       "    </tr>\n",
       "    <tr>\n",
       "      <th>Comedy-Drama</th>\n",
       "      <td>4.0</td>\n",
       "      <td>35.0</td>\n",
       "      <td>735.805681</td>\n",
       "      <td>-1044.0</td>\n",
       "      <td>-128.25</td>\n",
       "      <td>330.0</td>\n",
       "      <td>493.25</td>\n",
       "      <td>524.0</td>\n",
       "    </tr>\n",
       "    <tr>\n",
       "      <th>Comedy-Drama-SciFi</th>\n",
       "      <td>1.0</td>\n",
       "      <td>344.0</td>\n",
       "      <td>NaN</td>\n",
       "      <td>344.0</td>\n",
       "      <td>344.00</td>\n",
       "      <td>344.0</td>\n",
       "      <td>344.00</td>\n",
       "      <td>344.0</td>\n",
       "    </tr>\n",
       "    <tr>\n",
       "      <th>Comedy-Romance</th>\n",
       "      <td>1.0</td>\n",
       "      <td>381.0</td>\n",
       "      <td>NaN</td>\n",
       "      <td>381.0</td>\n",
       "      <td>381.00</td>\n",
       "      <td>381.0</td>\n",
       "      <td>381.00</td>\n",
       "      <td>381.0</td>\n",
       "    </tr>\n",
       "    <tr>\n",
       "      <th>Drama</th>\n",
       "      <td>10.0</td>\n",
       "      <td>62.8</td>\n",
       "      <td>427.855583</td>\n",
       "      <td>-639.0</td>\n",
       "      <td>-247.00</td>\n",
       "      <td>159.5</td>\n",
       "      <td>312.50</td>\n",
       "      <td>747.0</td>\n",
       "    </tr>\n",
       "    <tr>\n",
       "      <th>Drama-Mystery Suspense</th>\n",
       "      <td>4.0</td>\n",
       "      <td>-84.0</td>\n",
       "      <td>105.017459</td>\n",
       "      <td>-238.0</td>\n",
       "      <td>-106.75</td>\n",
       "      <td>-43.5</td>\n",
       "      <td>-20.75</td>\n",
       "      <td>-11.0</td>\n",
       "    </tr>\n",
       "    <tr>\n",
       "      <th>Drama-Mystery Suspense-SciFi</th>\n",
       "      <td>1.0</td>\n",
       "      <td>170.0</td>\n",
       "      <td>NaN</td>\n",
       "      <td>170.0</td>\n",
       "      <td>170.00</td>\n",
       "      <td>170.0</td>\n",
       "      <td>170.00</td>\n",
       "      <td>170.0</td>\n",
       "    </tr>\n",
       "    <tr>\n",
       "      <th>Drama-SciFi</th>\n",
       "      <td>1.0</td>\n",
       "      <td>151.0</td>\n",
       "      <td>NaN</td>\n",
       "      <td>151.0</td>\n",
       "      <td>151.00</td>\n",
       "      <td>151.0</td>\n",
       "      <td>151.00</td>\n",
       "      <td>151.0</td>\n",
       "    </tr>\n",
       "    <tr>\n",
       "      <th>Horror-Mystery Suspense</th>\n",
       "      <td>1.0</td>\n",
       "      <td>21.0</td>\n",
       "      <td>NaN</td>\n",
       "      <td>21.0</td>\n",
       "      <td>21.00</td>\n",
       "      <td>21.0</td>\n",
       "      <td>21.00</td>\n",
       "      <td>21.0</td>\n",
       "    </tr>\n",
       "  </tbody>\n",
       "</table>\n",
       "</div>"
      ],
      "text/plain": [
       "                             SentimentScore                             \\\n",
       "                                      count   mean         std     min   \n",
       "Genres                                                                   \n",
       "Animation-Kids and Family               1.0  998.0         NaN   998.0   \n",
       "Comedy-Drama                            4.0   35.0  735.805681 -1044.0   \n",
       "Comedy-Drama-SciFi                      1.0  344.0         NaN   344.0   \n",
       "Comedy-Romance                          1.0  381.0         NaN   381.0   \n",
       "Drama                                  10.0   62.8  427.855583  -639.0   \n",
       "Drama-Mystery Suspense                  4.0  -84.0  105.017459  -238.0   \n",
       "Drama-Mystery Suspense-SciFi            1.0  170.0         NaN   170.0   \n",
       "Drama-SciFi                             1.0  151.0         NaN   151.0   \n",
       "Horror-Mystery Suspense                 1.0   21.0         NaN    21.0   \n",
       "\n",
       "                                                            \n",
       "                                 25%    50%     75%    max  \n",
       "Genres                                                      \n",
       "Animation-Kids and Family     998.00  998.0  998.00  998.0  \n",
       "Comedy-Drama                 -128.25  330.0  493.25  524.0  \n",
       "Comedy-Drama-SciFi            344.00  344.0  344.00  344.0  \n",
       "Comedy-Romance                381.00  381.0  381.00  381.0  \n",
       "Drama                        -247.00  159.5  312.50  747.0  \n",
       "Drama-Mystery Suspense       -106.75  -43.5  -20.75  -11.0  \n",
       "Drama-Mystery Suspense-SciFi  170.00  170.0  170.00  170.0  \n",
       "Drama-SciFi                   151.00  151.0  151.00  151.0  \n",
       "Horror-Mystery Suspense        21.00   21.0   21.00   21.0  "
      ]
     },
     "execution_count": 37,
     "metadata": {},
     "output_type": "execute_result"
    }
   ],
   "source": [
    "# sentiment statistics for winners/losers\n",
    "afinn_dialogue.groupby(by=['Genres']).describe()"
   ]
  },
  {
   "cell_type": "code",
   "execution_count": 38,
   "metadata": {},
   "outputs": [
    {
     "data": {
      "text/plain": [
       "Text(0.5, 1.0, 'Boxplot of Sentiment Score by Genre')"
      ]
     },
     "execution_count": 38,
     "metadata": {},
     "output_type": "execute_result"
    },
    {
     "data": {
      "image/png": "[encoded data removed]",
      "text/plain": [
       "<Figure size 1440x576 with 1 Axes>"
      ]
     },
     "metadata": {
      "needs_background": "light"
     },
     "output_type": "display_data"
    }
   ],
   "source": [
    "# boxplot\n",
    "fig_dims = (20, 8)\n",
    "fig, ax = plt.subplots(figsize=fig_dims)\n",
    "sns.boxplot(x='Genres', y=\"SentimentScore\", \n",
    "                 hue='Genres', data=afinn_dialogue, ax=ax,\n",
    "                 palette=\"hls\").set_title('Boxplot of Sentiment Score by Genre')"
   ]
  },
  {
   "cell_type": "code",
   "execution_count": 39,
   "metadata": {},
   "outputs": [
    {
     "data": {
      "text/plain": [
       "Text(0.5, 1.0, 'Bar Plot of Sentiment Score by Genre')"
      ]
     },
     "execution_count": 39,
     "metadata": {},
     "output_type": "execute_result"
    },
    {
     "data": {
      "image/png": "[encoded data removed]",
      "text/plain": [
       "<Figure size 1440x576 with 1 Axes>"
      ]
     },
     "metadata": {
      "needs_background": "light"
     },
     "output_type": "display_data"
    }
   ],
   "source": [
    "# barplot\n",
    "fig_dims = (20, 8)\n",
    "fig, ax = plt.subplots(figsize=fig_dims)\n",
    "sns.barplot(x = \"Genres\", y = \"SentimentScore\", ax=ax, data=afinn_dialogue, \n",
    "            palette=\"hls\", ci=None).set_title('Bar Plot of Sentiment Score by Genre')"
   ]
  },
  {
   "cell_type": "code",
   "execution_count": 40,
   "metadata": {},
   "outputs": [
    {
     "data": {
      "text/plain": [
       "Text(0.5, 1.0, 'Count Plot of Sentiment Score by Genre')"
      ]
     },
     "execution_count": 40,
     "metadata": {},
     "output_type": "execute_result"
    },
    {
     "data": {
      "image/png": "[encoded data removed]",
      "text/plain": [
       "<Figure size 1440x576 with 1 Axes>"
      ]
     },
     "metadata": {
      "needs_background": "light"
     },
     "output_type": "display_data"
    }
   ],
   "source": [
    "# countplot\n",
    "fig_dims = (20, 8)\n",
    "fig, ax = plt.subplots(figsize=fig_dims)\n",
    "sns.countplot(y=\"Genres\", hue=\"SentimentCategory\", data=afinn_dialogue, \n",
    "              ax=ax, palette=\"hls\").set_title('Count Plot of Sentiment Score by Genre')"
   ]
  },
  {
   "cell_type": "markdown",
   "metadata": {},
   "source": [
    "#### Genres (Broad)"
   ]
  },
  {
   "cell_type": "code",
   "execution_count": 41,
   "metadata": {},
   "outputs": [
    {
     "data": {
      "text/html": [
       "<div>\n",
       "<style scoped>\n",
       "    .dataframe tbody tr th:only-of-type {\n",
       "        vertical-align: middle;\n",
       "    }\n",
       "\n",
       "    .dataframe tbody tr th {\n",
       "        vertical-align: top;\n",
       "    }\n",
       "\n",
       "    .dataframe thead tr th {\n",
       "        text-align: left;\n",
       "    }\n",
       "\n",
       "    .dataframe thead tr:last-of-type th {\n",
       "        text-align: right;\n",
       "    }\n",
       "</style>\n",
       "<table border=\"1\" class=\"dataframe\">\n",
       "  <thead>\n",
       "    <tr>\n",
       "      <th></th>\n",
       "      <th colspan=\"8\" halign=\"left\">SentimentScore</th>\n",
       "    </tr>\n",
       "    <tr>\n",
       "      <th></th>\n",
       "      <th>count</th>\n",
       "      <th>mean</th>\n",
       "      <th>std</th>\n",
       "      <th>min</th>\n",
       "      <th>25%</th>\n",
       "      <th>50%</th>\n",
       "      <th>75%</th>\n",
       "      <th>max</th>\n",
       "    </tr>\n",
       "    <tr>\n",
       "      <th>GenresBroad</th>\n",
       "      <th></th>\n",
       "      <th></th>\n",
       "      <th></th>\n",
       "      <th></th>\n",
       "      <th></th>\n",
       "      <th></th>\n",
       "      <th></th>\n",
       "      <th></th>\n",
       "    </tr>\n",
       "  </thead>\n",
       "  <tbody>\n",
       "    <tr>\n",
       "      <th>Animation</th>\n",
       "      <td>1.0</td>\n",
       "      <td>998.000000</td>\n",
       "      <td>NaN</td>\n",
       "      <td>998.0</td>\n",
       "      <td>998.00</td>\n",
       "      <td>998.0</td>\n",
       "      <td>998.0</td>\n",
       "      <td>998.0</td>\n",
       "    </tr>\n",
       "    <tr>\n",
       "      <th>Comedy</th>\n",
       "      <td>1.0</td>\n",
       "      <td>381.000000</td>\n",
       "      <td>NaN</td>\n",
       "      <td>381.0</td>\n",
       "      <td>381.00</td>\n",
       "      <td>381.0</td>\n",
       "      <td>381.0</td>\n",
       "      <td>381.0</td>\n",
       "    </tr>\n",
       "    <tr>\n",
       "      <th>Comedy-Drama</th>\n",
       "      <td>5.0</td>\n",
       "      <td>96.800000</td>\n",
       "      <td>652.038112</td>\n",
       "      <td>-1044.0</td>\n",
       "      <td>177.00</td>\n",
       "      <td>344.0</td>\n",
       "      <td>483.0</td>\n",
       "      <td>524.0</td>\n",
       "    </tr>\n",
       "    <tr>\n",
       "      <th>Drama</th>\n",
       "      <td>11.0</td>\n",
       "      <td>70.818182</td>\n",
       "      <td>406.769669</td>\n",
       "      <td>-639.0</td>\n",
       "      <td>-148.00</td>\n",
       "      <td>151.0</td>\n",
       "      <td>288.0</td>\n",
       "      <td>747.0</td>\n",
       "    </tr>\n",
       "    <tr>\n",
       "      <th>Mystery Suspense</th>\n",
       "      <td>6.0</td>\n",
       "      <td>-24.166667</td>\n",
       "      <td>132.020327</td>\n",
       "      <td>-238.0</td>\n",
       "      <td>-53.25</td>\n",
       "      <td>-17.5</td>\n",
       "      <td>13.0</td>\n",
       "      <td>170.0</td>\n",
       "    </tr>\n",
       "  </tbody>\n",
       "</table>\n",
       "</div>"
      ],
      "text/plain": [
       "                 SentimentScore                                          \\\n",
       "                          count        mean         std     min     25%   \n",
       "GenresBroad                                                               \n",
       "Animation                   1.0  998.000000         NaN   998.0  998.00   \n",
       "Comedy                      1.0  381.000000         NaN   381.0  381.00   \n",
       "Comedy-Drama                5.0   96.800000  652.038112 -1044.0  177.00   \n",
       "Drama                      11.0   70.818182  406.769669  -639.0 -148.00   \n",
       "Mystery Suspense            6.0  -24.166667  132.020327  -238.0  -53.25   \n",
       "\n",
       "                                       \n",
       "                    50%    75%    max  \n",
       "GenresBroad                            \n",
       "Animation         998.0  998.0  998.0  \n",
       "Comedy            381.0  381.0  381.0  \n",
       "Comedy-Drama      344.0  483.0  524.0  \n",
       "Drama             151.0  288.0  747.0  \n",
       "Mystery Suspense  -17.5   13.0  170.0  "
      ]
     },
     "execution_count": 41,
     "metadata": {},
     "output_type": "execute_result"
    }
   ],
   "source": [
    "# sentiment statistics for winners/losers\n",
    "afinn_dialogue.groupby(by=['GenresBroad']).describe()"
   ]
  },
  {
   "cell_type": "code",
   "execution_count": 42,
   "metadata": {},
   "outputs": [
    {
     "data": {
      "text/plain": [
       "Text(0.5, 1.0, 'Boxplot of Sentiment Score by Genre')"
      ]
     },
     "execution_count": 42,
     "metadata": {},
     "output_type": "execute_result"
    },
    {
     "data": {
      "image/png": "[encoded data removed]",
      "text/plain": [
       "<Figure size 1440x576 with 1 Axes>"
      ]
     },
     "metadata": {
      "needs_background": "light"
     },
     "output_type": "display_data"
    }
   ],
   "source": [
    "# boxplot\n",
    "fig_dims = (20, 8)\n",
    "fig, ax = plt.subplots(figsize=fig_dims)\n",
    "sns.boxplot(x='GenresBroad', y=\"SentimentScore\", \n",
    "                 hue='Genres', data=afinn_dialogue, ax=ax,\n",
    "                 palette=\"hls\").set_title('Boxplot of Sentiment Score by Genre')"
   ]
  },
  {
   "cell_type": "code",
   "execution_count": 43,
   "metadata": {},
   "outputs": [
    {
     "data": {
      "text/plain": [
       "Text(0.5, 1.0, 'Bar Plot of Sentiment Score by Genre')"
      ]
     },
     "execution_count": 43,
     "metadata": {},
     "output_type": "execute_result"
    },
    {
     "data": {
      "image/png": "[encoded data removed]",
      "text/plain": [
       "<Figure size 1440x576 with 1 Axes>"
      ]
     },
     "metadata": {
      "needs_background": "light"
     },
     "output_type": "display_data"
    }
   ],
   "source": [
    "# barplot\n",
    "fig_dims = (20, 8)\n",
    "fig, ax = plt.subplots(figsize=fig_dims)\n",
    "sns.barplot(x = \"GenresBroad\", y = \"SentimentScore\", ax=ax, data=afinn_dialogue, \n",
    "            palette=\"hls\", ci=None).set_title('Bar Plot of Sentiment Score by Genre')"
   ]
  },
  {
   "cell_type": "code",
   "execution_count": 44,
   "metadata": {},
   "outputs": [
    {
     "data": {
      "text/plain": [
       "Text(0.5, 1.0, 'Count Plot of Sentiment Score by GenreBroad')"
      ]
     },
     "execution_count": 44,
     "metadata": {},
     "output_type": "execute_result"
    },
    {
     "data": {
      "image/png": "[encoded data removed]",
      "text/plain": [
       "<Figure size 1440x576 with 1 Axes>"
      ]
     },
     "metadata": {
      "needs_background": "light"
     },
     "output_type": "display_data"
    }
   ],
   "source": [
    "# countplot\n",
    "fig_dims = (20, 8)\n",
    "fig, ax = plt.subplots(figsize=fig_dims)\n",
    "sns.countplot(y=\"GenresBroad\", hue=\"SentimentCategory\", data=afinn_dialogue, \n",
    "              ax=ax, palette=\"hls\").set_title('Count Plot of Sentiment Score by GenreBroad')"
   ]
  },
  {
   "cell_type": "markdown",
   "metadata": {},
   "source": [
    "### Sentiment Analysis -- Full Script"
   ]
  },
  {
   "cell_type": "code",
   "execution_count": 45,
   "metadata": {},
   "outputs": [],
   "source": [
    "# compute sentiment scores (polarity) and labels\n",
    "sentiment_scores = [af.score(article) for article in list(movies_df['cleaned_script'])]\n",
    "sentiment_category = ['positive' if score > 0 \n",
    "                          else 'negative' if score < 0 \n",
    "                              else 'neutral' \n",
    "                                  for score in sentiment_scores]\n",
    "\n",
    "afinn_all = pd.DataFrame([list(movies_df['Title']), list(movies_df['Genres']), list(movies_df['GenresBroad']), list(movies_df['orig_screen_win']), sentiment_scores, sentiment_category]).T\n",
    "afinn_all.columns = ['Titles', 'Genres', 'GenresBroad', 'Winner', 'SentimentScore', 'SentimentCategory']\n",
    "afinn_all['SentimentScore'] = afinn_all['SentimentScore'].astype('float')"
   ]
  },
  {
   "cell_type": "markdown",
   "metadata": {},
   "source": [
    "#### Winners vs Losers"
   ]
  },
  {
   "cell_type": "code",
   "execution_count": 46,
   "metadata": {},
   "outputs": [
    {
     "data": {
      "text/html": [
       "<div>\n",
       "<style scoped>\n",
       "    .dataframe tbody tr th:only-of-type {\n",
       "        vertical-align: middle;\n",
       "    }\n",
       "\n",
       "    .dataframe tbody tr th {\n",
       "        vertical-align: top;\n",
       "    }\n",
       "\n",
       "    .dataframe thead tr th {\n",
       "        text-align: left;\n",
       "    }\n",
       "\n",
       "    .dataframe thead tr:last-of-type th {\n",
       "        text-align: right;\n",
       "    }\n",
       "</style>\n",
       "<table border=\"1\" class=\"dataframe\">\n",
       "  <thead>\n",
       "    <tr>\n",
       "      <th></th>\n",
       "      <th colspan=\"8\" halign=\"left\">SentimentScore</th>\n",
       "    </tr>\n",
       "    <tr>\n",
       "      <th></th>\n",
       "      <th>count</th>\n",
       "      <th>mean</th>\n",
       "      <th>std</th>\n",
       "      <th>min</th>\n",
       "      <th>25%</th>\n",
       "      <th>50%</th>\n",
       "      <th>75%</th>\n",
       "      <th>max</th>\n",
       "    </tr>\n",
       "    <tr>\n",
       "      <th>Winner</th>\n",
       "      <th></th>\n",
       "      <th></th>\n",
       "      <th></th>\n",
       "      <th></th>\n",
       "      <th></th>\n",
       "      <th></th>\n",
       "      <th></th>\n",
       "      <th></th>\n",
       "    </tr>\n",
       "  </thead>\n",
       "  <tbody>\n",
       "    <tr>\n",
       "      <th>0</th>\n",
       "      <td>19.0</td>\n",
       "      <td>96.578947</td>\n",
       "      <td>490.590043</td>\n",
       "      <td>-1044.0</td>\n",
       "      <td>-150.5</td>\n",
       "      <td>170.0</td>\n",
       "      <td>384.0</td>\n",
       "      <td>998.0</td>\n",
       "    </tr>\n",
       "    <tr>\n",
       "      <th>1</th>\n",
       "      <td>5.0</td>\n",
       "      <td>132.400000</td>\n",
       "      <td>151.640364</td>\n",
       "      <td>-24.0</td>\n",
       "      <td>21.0</td>\n",
       "      <td>89.0</td>\n",
       "      <td>239.0</td>\n",
       "      <td>337.0</td>\n",
       "    </tr>\n",
       "  </tbody>\n",
       "</table>\n",
       "</div>"
      ],
      "text/plain": [
       "       SentimentScore                                                       \\\n",
       "                count        mean         std     min    25%    50%    75%   \n",
       "Winner                                                                       \n",
       "0                19.0   96.578947  490.590043 -1044.0 -150.5  170.0  384.0   \n",
       "1                 5.0  132.400000  151.640364   -24.0   21.0   89.0  239.0   \n",
       "\n",
       "               \n",
       "          max  \n",
       "Winner         \n",
       "0       998.0  \n",
       "1       337.0  "
      ]
     },
     "execution_count": 46,
     "metadata": {},
     "output_type": "execute_result"
    }
   ],
   "source": [
    "# sentiment statistics for winners/losers\n",
    "afinn_dialogue.groupby(by=['Winner']).describe()"
   ]
  },
  {
   "cell_type": "code",
   "execution_count": 47,
   "metadata": {},
   "outputs": [
    {
     "data": {
      "text/plain": [
       "Text(0.5, 1.0, 'Boxplot of Sentiment Score by Result')"
      ]
     },
     "execution_count": 47,
     "metadata": {},
     "output_type": "execute_result"
    },
    {
     "data": {
      "image/png": "[encoded data removed]",
      "text/plain": [
       "<Figure size 1440x576 with 1 Axes>"
      ]
     },
     "metadata": {
      "needs_background": "light"
     },
     "output_type": "display_data"
    }
   ],
   "source": [
    "# boxplot\n",
    "fig_dims = (20, 8)\n",
    "fig, ax = plt.subplots(figsize=fig_dims)\n",
    "sns.boxplot(x='Winner', y=\"SentimentScore\", \n",
    "                 hue='Winner', data=afinn_dialogue, ax=ax,\n",
    "                 palette=\"hls\").set_title('Boxplot of Sentiment Score by Result')"
   ]
  },
  {
   "cell_type": "code",
   "execution_count": 48,
   "metadata": {},
   "outputs": [
    {
     "data": {
      "text/plain": [
       "Text(0.5, 1.0, 'Bar Plot of Sentiment Score by Result')"
      ]
     },
     "execution_count": 48,
     "metadata": {},
     "output_type": "execute_result"
    },
    {
     "data": {
      "image/png": "[encoded data removed]",
      "text/plain": [
       "<Figure size 1440x576 with 1 Axes>"
      ]
     },
     "metadata": {
      "needs_background": "light"
     },
     "output_type": "display_data"
    }
   ],
   "source": [
    "# barplot\n",
    "fig_dims = (20, 8)\n",
    "fig, ax = plt.subplots(figsize=fig_dims)\n",
    "sns.barplot(x = \"Winner\", y = \"SentimentScore\", ax=ax, data=afinn_dialogue, \n",
    "            palette=\"hls\", ci=None).set_title('Bar Plot of Sentiment Score by Result')"
   ]
  },
  {
   "cell_type": "code",
   "execution_count": 49,
   "metadata": {},
   "outputs": [
    {
     "data": {
      "text/plain": [
       "Text(0.5, 1.0, 'Count Plot of Sentiment Score by Result')"
      ]
     },
     "execution_count": 49,
     "metadata": {},
     "output_type": "execute_result"
    },
    {
     "data": {
      "image/png": "[encoded data removed]",
      "text/plain": [
       "<Figure size 1440x576 with 1 Axes>"
      ]
     },
     "metadata": {
      "needs_background": "light"
     },
     "output_type": "display_data"
    }
   ],
   "source": [
    "# countplot\n",
    "fig_dims = (20, 8)\n",
    "fig, ax = plt.subplots(figsize=fig_dims)\n",
    "sns.countplot(y=\"Winner\", hue=\"SentimentCategory\", data=afinn_dialogue, \n",
    "              ax=ax, palette=\"hls\").set_title('Count Plot of Sentiment Score by Result')"
   ]
  },
  {
   "cell_type": "markdown",
   "metadata": {},
   "source": [
    "#### Genres"
   ]
  },
  {
   "cell_type": "code",
   "execution_count": 50,
   "metadata": {},
   "outputs": [
    {
     "data": {
      "text/html": [
       "<div>\n",
       "<style scoped>\n",
       "    .dataframe tbody tr th:only-of-type {\n",
       "        vertical-align: middle;\n",
       "    }\n",
       "\n",
       "    .dataframe tbody tr th {\n",
       "        vertical-align: top;\n",
       "    }\n",
       "\n",
       "    .dataframe thead tr th {\n",
       "        text-align: left;\n",
       "    }\n",
       "\n",
       "    .dataframe thead tr:last-of-type th {\n",
       "        text-align: right;\n",
       "    }\n",
       "</style>\n",
       "<table border=\"1\" class=\"dataframe\">\n",
       "  <thead>\n",
       "    <tr>\n",
       "      <th></th>\n",
       "      <th colspan=\"8\" halign=\"left\">SentimentScore</th>\n",
       "    </tr>\n",
       "    <tr>\n",
       "      <th></th>\n",
       "      <th>count</th>\n",
       "      <th>mean</th>\n",
       "      <th>std</th>\n",
       "      <th>min</th>\n",
       "      <th>25%</th>\n",
       "      <th>50%</th>\n",
       "      <th>75%</th>\n",
       "      <th>max</th>\n",
       "    </tr>\n",
       "    <tr>\n",
       "      <th>Genres</th>\n",
       "      <th></th>\n",
       "      <th></th>\n",
       "      <th></th>\n",
       "      <th></th>\n",
       "      <th></th>\n",
       "      <th></th>\n",
       "      <th></th>\n",
       "      <th></th>\n",
       "    </tr>\n",
       "  </thead>\n",
       "  <tbody>\n",
       "    <tr>\n",
       "      <th>Animation-Kids and Family</th>\n",
       "      <td>1.0</td>\n",
       "      <td>1341.00</td>\n",
       "      <td>NaN</td>\n",
       "      <td>1341.0</td>\n",
       "      <td>1341.00</td>\n",
       "      <td>1341.0</td>\n",
       "      <td>1341.00</td>\n",
       "      <td>1341.0</td>\n",
       "    </tr>\n",
       "    <tr>\n",
       "      <th>Comedy-Drama</th>\n",
       "      <td>4.0</td>\n",
       "      <td>7.50</td>\n",
       "      <td>771.729443</td>\n",
       "      <td>-1103.0</td>\n",
       "      <td>-222.50</td>\n",
       "      <td>288.0</td>\n",
       "      <td>518.00</td>\n",
       "      <td>557.0</td>\n",
       "    </tr>\n",
       "    <tr>\n",
       "      <th>Comedy-Drama-SciFi</th>\n",
       "      <td>1.0</td>\n",
       "      <td>316.00</td>\n",
       "      <td>NaN</td>\n",
       "      <td>316.0</td>\n",
       "      <td>316.00</td>\n",
       "      <td>316.0</td>\n",
       "      <td>316.00</td>\n",
       "      <td>316.0</td>\n",
       "    </tr>\n",
       "    <tr>\n",
       "      <th>Comedy-Romance</th>\n",
       "      <td>1.0</td>\n",
       "      <td>380.00</td>\n",
       "      <td>NaN</td>\n",
       "      <td>380.0</td>\n",
       "      <td>380.00</td>\n",
       "      <td>380.0</td>\n",
       "      <td>380.00</td>\n",
       "      <td>380.0</td>\n",
       "    </tr>\n",
       "    <tr>\n",
       "      <th>Drama</th>\n",
       "      <td>10.0</td>\n",
       "      <td>-41.20</td>\n",
       "      <td>626.416936</td>\n",
       "      <td>-1358.0</td>\n",
       "      <td>-338.50</td>\n",
       "      <td>157.0</td>\n",
       "      <td>314.25</td>\n",
       "      <td>789.0</td>\n",
       "    </tr>\n",
       "    <tr>\n",
       "      <th>Drama-Mystery Suspense</th>\n",
       "      <td>4.0</td>\n",
       "      <td>16.25</td>\n",
       "      <td>233.929298</td>\n",
       "      <td>-238.0</td>\n",
       "      <td>-154.75</td>\n",
       "      <td>43.5</td>\n",
       "      <td>214.50</td>\n",
       "      <td>216.0</td>\n",
       "    </tr>\n",
       "    <tr>\n",
       "      <th>Drama-Mystery Suspense-SciFi</th>\n",
       "      <td>1.0</td>\n",
       "      <td>158.00</td>\n",
       "      <td>NaN</td>\n",
       "      <td>158.0</td>\n",
       "      <td>158.00</td>\n",
       "      <td>158.0</td>\n",
       "      <td>158.00</td>\n",
       "      <td>158.0</td>\n",
       "    </tr>\n",
       "    <tr>\n",
       "      <th>Drama-SciFi</th>\n",
       "      <td>1.0</td>\n",
       "      <td>92.00</td>\n",
       "      <td>NaN</td>\n",
       "      <td>92.0</td>\n",
       "      <td>92.00</td>\n",
       "      <td>92.0</td>\n",
       "      <td>92.00</td>\n",
       "      <td>92.0</td>\n",
       "    </tr>\n",
       "    <tr>\n",
       "      <th>Horror-Mystery Suspense</th>\n",
       "      <td>1.0</td>\n",
       "      <td>320.00</td>\n",
       "      <td>NaN</td>\n",
       "      <td>320.0</td>\n",
       "      <td>320.00</td>\n",
       "      <td>320.0</td>\n",
       "      <td>320.00</td>\n",
       "      <td>320.0</td>\n",
       "    </tr>\n",
       "  </tbody>\n",
       "</table>\n",
       "</div>"
      ],
      "text/plain": [
       "                             SentimentScore                               \\\n",
       "                                      count     mean         std     min   \n",
       "Genres                                                                     \n",
       "Animation-Kids and Family               1.0  1341.00         NaN  1341.0   \n",
       "Comedy-Drama                            4.0     7.50  771.729443 -1103.0   \n",
       "Comedy-Drama-SciFi                      1.0   316.00         NaN   316.0   \n",
       "Comedy-Romance                          1.0   380.00         NaN   380.0   \n",
       "Drama                                  10.0   -41.20  626.416936 -1358.0   \n",
       "Drama-Mystery Suspense                  4.0    16.25  233.929298  -238.0   \n",
       "Drama-Mystery Suspense-SciFi            1.0   158.00         NaN   158.0   \n",
       "Drama-SciFi                             1.0    92.00         NaN    92.0   \n",
       "Horror-Mystery Suspense                 1.0   320.00         NaN   320.0   \n",
       "\n",
       "                                                                \n",
       "                                  25%     50%      75%     max  \n",
       "Genres                                                          \n",
       "Animation-Kids and Family     1341.00  1341.0  1341.00  1341.0  \n",
       "Comedy-Drama                  -222.50   288.0   518.00   557.0  \n",
       "Comedy-Drama-SciFi             316.00   316.0   316.00   316.0  \n",
       "Comedy-Romance                 380.00   380.0   380.00   380.0  \n",
       "Drama                         -338.50   157.0   314.25   789.0  \n",
       "Drama-Mystery Suspense        -154.75    43.5   214.50   216.0  \n",
       "Drama-Mystery Suspense-SciFi   158.00   158.0   158.00   158.0  \n",
       "Drama-SciFi                     92.00    92.0    92.00    92.0  \n",
       "Horror-Mystery Suspense        320.00   320.0   320.00   320.0  "
      ]
     },
     "execution_count": 50,
     "metadata": {},
     "output_type": "execute_result"
    }
   ],
   "source": [
    "# sentiment statistics for winners/losers\n",
    "afinn_all.groupby(by=['Genres']).describe()"
   ]
  },
  {
   "cell_type": "code",
   "execution_count": 51,
   "metadata": {},
   "outputs": [
    {
     "data": {
      "text/plain": [
       "Text(0.5, 1.0, 'Boxplot of Sentiment Score by Genre')"
      ]
     },
     "execution_count": 51,
     "metadata": {},
     "output_type": "execute_result"
    },
    {
     "data": {
      "image/png": "[encoded data removed]",
      "text/plain": [
       "<Figure size 1440x576 with 1 Axes>"
      ]
     },
     "metadata": {
      "needs_background": "light"
     },
     "output_type": "display_data"
    }
   ],
   "source": [
    "# boxplot\n",
    "fig_dims = (20, 8)\n",
    "fig, ax = plt.subplots(figsize=fig_dims)\n",
    "sns.boxplot(x='Genres', y=\"SentimentScore\", \n",
    "                 hue='Genres', data=afinn_all, ax=ax,\n",
    "                 palette=\"hls\").set_title('Boxplot of Sentiment Score by Genre')"
   ]
  },
  {
   "cell_type": "code",
   "execution_count": 52,
   "metadata": {},
   "outputs": [
    {
     "data": {
      "text/plain": [
       "Text(0.5, 1.0, 'Bar Plot of Sentiment Score by Genre')"
      ]
     },
     "execution_count": 52,
     "metadata": {},
     "output_type": "execute_result"
    },
    {
     "data": {
      "image/png": "[encoded data removed]",
      "text/plain": [
       "<Figure size 1440x576 with 1 Axes>"
      ]
     },
     "metadata": {
      "needs_background": "light"
     },
     "output_type": "display_data"
    }
   ],
   "source": [
    "# barplot\n",
    "fig_dims = (20, 8)\n",
    "fig, ax = plt.subplots(figsize=fig_dims)\n",
    "sns.barplot(x = \"Genres\", y = \"SentimentScore\", ax=ax, data=afinn_all, \n",
    "            palette=\"hls\", ci=None).set_title('Bar Plot of Sentiment Score by Genre')"
   ]
  },
  {
   "cell_type": "code",
   "execution_count": 53,
   "metadata": {},
   "outputs": [
    {
     "data": {
      "text/plain": [
       "Text(0.5, 1.0, 'Count Plot of Sentiment Score by Genre')"
      ]
     },
     "execution_count": 53,
     "metadata": {},
     "output_type": "execute_result"
    },
    {
     "data": {
      "image/png": "[encoded data removed]",
      "text/plain": [
       "<Figure size 1440x576 with 1 Axes>"
      ]
     },
     "metadata": {
      "needs_background": "light"
     },
     "output_type": "display_data"
    }
   ],
   "source": [
    "# countplot\n",
    "fig_dims = (20, 8)\n",
    "fig, ax = plt.subplots(figsize=fig_dims)\n",
    "sns.countplot(y=\"Genres\", hue=\"SentimentCategory\", data=afinn_all, \n",
    "              ax=ax, palette=\"hls\").set_title('Count Plot of Sentiment Score by Genre')"
   ]
  },
  {
   "cell_type": "markdown",
   "metadata": {},
   "source": [
    "#### Genres (Broad)"
   ]
  },
  {
   "cell_type": "code",
   "execution_count": 54,
   "metadata": {},
   "outputs": [
    {
     "data": {
      "text/html": [
       "<div>\n",
       "<style scoped>\n",
       "    .dataframe tbody tr th:only-of-type {\n",
       "        vertical-align: middle;\n",
       "    }\n",
       "\n",
       "    .dataframe tbody tr th {\n",
       "        vertical-align: top;\n",
       "    }\n",
       "\n",
       "    .dataframe thead tr th {\n",
       "        text-align: left;\n",
       "    }\n",
       "\n",
       "    .dataframe thead tr:last-of-type th {\n",
       "        text-align: right;\n",
       "    }\n",
       "</style>\n",
       "<table border=\"1\" class=\"dataframe\">\n",
       "  <thead>\n",
       "    <tr>\n",
       "      <th></th>\n",
       "      <th colspan=\"8\" halign=\"left\">SentimentScore</th>\n",
       "    </tr>\n",
       "    <tr>\n",
       "      <th></th>\n",
       "      <th>count</th>\n",
       "      <th>mean</th>\n",
       "      <th>std</th>\n",
       "      <th>min</th>\n",
       "      <th>25%</th>\n",
       "      <th>50%</th>\n",
       "      <th>75%</th>\n",
       "      <th>max</th>\n",
       "    </tr>\n",
       "    <tr>\n",
       "      <th>GenresBroad</th>\n",
       "      <th></th>\n",
       "      <th></th>\n",
       "      <th></th>\n",
       "      <th></th>\n",
       "      <th></th>\n",
       "      <th></th>\n",
       "      <th></th>\n",
       "      <th></th>\n",
       "    </tr>\n",
       "  </thead>\n",
       "  <tbody>\n",
       "    <tr>\n",
       "      <th>Animation</th>\n",
       "      <td>1.0</td>\n",
       "      <td>1341.000000</td>\n",
       "      <td>NaN</td>\n",
       "      <td>1341.0</td>\n",
       "      <td>1341.00</td>\n",
       "      <td>1341.0</td>\n",
       "      <td>1341.0</td>\n",
       "      <td>1341.0</td>\n",
       "    </tr>\n",
       "    <tr>\n",
       "      <th>Comedy</th>\n",
       "      <td>1.0</td>\n",
       "      <td>380.000000</td>\n",
       "      <td>NaN</td>\n",
       "      <td>380.0</td>\n",
       "      <td>380.00</td>\n",
       "      <td>380.0</td>\n",
       "      <td>380.0</td>\n",
       "      <td>380.0</td>\n",
       "    </tr>\n",
       "    <tr>\n",
       "      <th>Comedy-Drama</th>\n",
       "      <td>5.0</td>\n",
       "      <td>69.200000</td>\n",
       "      <td>682.428897</td>\n",
       "      <td>-1103.0</td>\n",
       "      <td>71.00</td>\n",
       "      <td>316.0</td>\n",
       "      <td>505.0</td>\n",
       "      <td>557.0</td>\n",
       "    </tr>\n",
       "    <tr>\n",
       "      <th>Drama</th>\n",
       "      <td>11.0</td>\n",
       "      <td>-29.090909</td>\n",
       "      <td>595.626805</td>\n",
       "      <td>-1358.0</td>\n",
       "      <td>-233.00</td>\n",
       "      <td>92.0</td>\n",
       "      <td>308.5</td>\n",
       "      <td>789.0</td>\n",
       "    </tr>\n",
       "    <tr>\n",
       "      <th>Mystery Suspense</th>\n",
       "      <td>6.0</td>\n",
       "      <td>90.500000</td>\n",
       "      <td>220.656974</td>\n",
       "      <td>-238.0</td>\n",
       "      <td>-55.75</td>\n",
       "      <td>186.0</td>\n",
       "      <td>215.5</td>\n",
       "      <td>320.0</td>\n",
       "    </tr>\n",
       "  </tbody>\n",
       "</table>\n",
       "</div>"
      ],
      "text/plain": [
       "                 SentimentScore                                            \\\n",
       "                          count         mean         std     min      25%   \n",
       "GenresBroad                                                                 \n",
       "Animation                   1.0  1341.000000         NaN  1341.0  1341.00   \n",
       "Comedy                      1.0   380.000000         NaN   380.0   380.00   \n",
       "Comedy-Drama                5.0    69.200000  682.428897 -1103.0    71.00   \n",
       "Drama                      11.0   -29.090909  595.626805 -1358.0  -233.00   \n",
       "Mystery Suspense            6.0    90.500000  220.656974  -238.0   -55.75   \n",
       "\n",
       "                                          \n",
       "                     50%     75%     max  \n",
       "GenresBroad                               \n",
       "Animation         1341.0  1341.0  1341.0  \n",
       "Comedy             380.0   380.0   380.0  \n",
       "Comedy-Drama       316.0   505.0   557.0  \n",
       "Drama               92.0   308.5   789.0  \n",
       "Mystery Suspense   186.0   215.5   320.0  "
      ]
     },
     "execution_count": 54,
     "metadata": {},
     "output_type": "execute_result"
    }
   ],
   "source": [
    "# sentiment statistics for winners/losers\n",
    "afinn_all.groupby(by=['GenresBroad']).describe()"
   ]
  },
  {
   "cell_type": "code",
   "execution_count": 55,
   "metadata": {},
   "outputs": [
    {
     "data": {
      "text/plain": [
       "Text(0.5, 1.0, 'Boxplot of Sentiment Score by Genre')"
      ]
     },
     "execution_count": 55,
     "metadata": {},
     "output_type": "execute_result"
    },
    {
     "data": {
      "image/png": "[encoded data removed]",
      "text/plain": [
       "<Figure size 1440x576 with 1 Axes>"
      ]
     },
     "metadata": {
      "needs_background": "light"
     },
     "output_type": "display_data"
    }
   ],
   "source": [
    "# boxplot\n",
    "fig_dims = (20, 8)\n",
    "fig, ax = plt.subplots(figsize=fig_dims)\n",
    "sns.boxplot(x='GenresBroad', y=\"SentimentScore\", \n",
    "                 hue='Genres', data=afinn_all, ax=ax,\n",
    "                 palette=\"hls\").set_title('Boxplot of Sentiment Score by Genre')"
   ]
  },
  {
   "cell_type": "code",
   "execution_count": 56,
   "metadata": {},
   "outputs": [
    {
     "data": {
      "text/plain": [
       "Text(0.5, 1.0, 'Bar Plot of Sentiment Score by Genre')"
      ]
     },
     "execution_count": 56,
     "metadata": {},
     "output_type": "execute_result"
    },
    {
     "data": {
      "image/png": "[encoded data removed]",
      "text/plain": [
       "<Figure size 1440x576 with 1 Axes>"
      ]
     },
     "metadata": {
      "needs_background": "light"
     },
     "output_type": "display_data"
    }
   ],
   "source": [
    "# barplot\n",
    "fig_dims = (20, 8)\n",
    "fig, ax = plt.subplots(figsize=fig_dims)\n",
    "sns.barplot(x = \"GenresBroad\", y = \"SentimentScore\", ax=ax, data=afinn_all, \n",
    "            palette=\"hls\", ci=None).set_title('Bar Plot of Sentiment Score by Genre')"
   ]
  },
  {
   "cell_type": "code",
   "execution_count": 57,
   "metadata": {},
   "outputs": [
    {
     "data": {
      "text/plain": [
       "Text(0.5, 1.0, 'Count Plot of Sentiment Score by GenreBroad')"
      ]
     },
     "execution_count": 57,
     "metadata": {},
     "output_type": "execute_result"
    },
    {
     "data": {
      "image/png": "[encoded data removed]",
      "text/plain": [
       "<Figure size 1440x576 with 1 Axes>"
      ]
     },
     "metadata": {
      "needs_background": "light"
     },
     "output_type": "display_data"
    }
   ],
   "source": [
    "# countplot\n",
    "fig_dims = (20, 8)\n",
    "fig, ax = plt.subplots(figsize=fig_dims)\n",
    "sns.countplot(y=\"GenresBroad\", hue=\"SentimentCategory\", data=afinn_all, \n",
    "              ax=ax, palette=\"hls\").set_title('Count Plot of Sentiment Score by GenreBroad')"
   ]
  },
  {
   "cell_type": "markdown",
   "metadata": {},
   "source": [
    "## Topic Modeling -- AS\n",
    "\n",
    "TFIDF\n",
    "\n",
    "### Topic Modeling -- Dialogue"
   ]
  },
  {
   "cell_type": "code",
   "execution_count": null,
   "metadata": {},
   "outputs": [],
   "source": []
  },
  {
   "cell_type": "markdown",
   "metadata": {},
   "source": [
    "### Topic Modeling -- Full Script"
   ]
  },
  {
   "cell_type": "code",
   "execution_count": null,
   "metadata": {},
   "outputs": [],
   "source": []
  },
  {
   "cell_type": "markdown",
   "metadata": {},
   "source": [
    "## K Means Clustering  -- AR\n",
    "\n",
    "Either on CV and TFIDF, or just on NMF\n",
    "\n",
    "https://towardsdatascience.com/k-means-clustering-chardonnay-reviews-using-scikit-learn-nltk-9df3c59527f3\n",
    "\n",
    "https://towardsdatascience.com/k-means-clustering-algorithm-applications-evaluation-methods-and-drawbacks-aa03e644b48a\n",
    "\n",
    "https://towardsdatascience.com/k-means-clustering-with-scikit-learn-6b47a369a83c\n",
    "\n",
    "https://scikit-learn.org/stable/auto_examples/cluster/plot_kmeans_silhouette_analysis.html\n",
    "\n",
    "https://blog.cambridgespark.com/how-to-determine-the-optimal-number-of-clusters-for-k-means-clustering-14f27070048f\n",
    "\n",
    "https://medium.com/@masarudheena/4-best-ways-to-find-optimal-number-of-clusters-for-clustering-with-python-code-706199fa957c\n",
    "\n",
    "https://towardsdatascience.com/10-tips-for-choosing-the-optimal-number-of-clusters-277e93d72d92\n",
    "\n"
   ]
  },
  {
   "cell_type": "code",
   "execution_count": 58,
   "metadata": {},
   "outputs": [],
   "source": [
    "# # BOW all\n",
    "# bow_all_fit\n",
    "# # BOW dialogue\n",
    "# bow_dialogue_fit\n",
    "# # TFIDF all\n",
    "# tfidf_all_fit\n",
    "# # TFIDF dialogue\n",
    "# tfidf_dialogue_fit"
   ]
  },
  {
   "cell_type": "code",
   "execution_count": 59,
   "metadata": {},
   "outputs": [],
   "source": [
    "# NMF - (1,1), (1,2), (2,3)"
   ]
  },
  {
   "cell_type": "code",
   "execution_count": null,
   "metadata": {},
   "outputs": [],
   "source": []
  },
  {
   "cell_type": "code",
   "execution_count": 60,
   "metadata": {},
   "outputs": [],
   "source": [
    "def eval_k(kmeans, centroids, terms):\n",
    "    cluster_terms = []\n",
    "    for i in range(kmeans.n_clusters):\n",
    "        termss = []\n",
    "        for ind in centroids[i, :10]:\n",
    "            termss.append(terms[ind])\n",
    "        cluster_terms.append(termss)\n",
    "    for i in range(kmeans.n_clusters):\n",
    "        print(f'\\tCluster {i+1}: {\" \".join(cluster_terms[i])}')"
   ]
  },
  {
   "cell_type": "markdown",
   "metadata": {},
   "source": [
    "### K Means Clustering -- Dialogue"
   ]
  },
  {
   "cell_type": "markdown",
   "metadata": {},
   "source": [
    "#### CV"
   ]
  },
  {
   "cell_type": "code",
   "execution_count": 61,
   "metadata": {},
   "outputs": [],
   "source": [
    "# get feature names\n",
    "bow_dialogue_feat_names = bow_dialogue.get_feature_names()"
   ]
  },
  {
   "cell_type": "code",
   "execution_count": 62,
   "metadata": {},
   "outputs": [
    {
     "data": {
      "image/png": "[encoded data removed]",
      "text/plain": [
       "<Figure size 432x288 with 1 Axes>"
      ]
     },
     "metadata": {
      "needs_background": "light"
     },
     "output_type": "display_data"
    }
   ],
   "source": [
    "# Elbow Method to determine optimal k in k means clustering\n",
    "# calculate sum of squared distances\n",
    "K = range(1,12)\n",
    "ssd = [KMeans(n_clusters=k).fit(bow_dialogue_fit).inertia_ for k in K]\n",
    "\n",
    "# plot results\n",
    "plt.plot(K, ssd, 'bx-')\n",
    "plt.xlabel('k')\n",
    "plt.ylabel('Sum of Squared Distances')\n",
    "plt.title('Elbow Method for Optimal k with Dialogue Bag of Words')\n",
    "plt.show()"
   ]
  },
  {
   "cell_type": "code",
   "execution_count": 63,
   "metadata": {},
   "outputs": [
    {
     "name": "stdout",
     "output_type": "stream",
     "text": [
      "Count Vectorized Dialogue:\n",
      "\tCluster 1: wa look know like get go back see one right\n",
      "\tCluster 2: la cleo de el se que en un los seora\n"
     ]
    }
   ],
   "source": [
    "# K-Means with Count Vectorized\n",
    "k_bow_dialogue = KMeans(n_clusters = 2, random_state = 0).fit(bow_dialogue_fit)\n",
    "k_bow_dialogue_centroids = k_bow_dialogue.cluster_centers_.argsort()[:, ::-1]\n",
    "k_bow_dialogue_terms = bow_dialogue_feat_names\n",
    "k_bow_dialogue_labels = k_bow_dialogue.labels_\n",
    "\n",
    "print(\"Count Vectorized Dialogue:\")\n",
    "eval_k(k_bow_dialogue, k_bow_dialogue_centroids, k_bow_dialogue_terms)"
   ]
  },
  {
   "cell_type": "markdown",
   "metadata": {},
   "source": [
    "#### TFIDF"
   ]
  },
  {
   "cell_type": "code",
   "execution_count": 64,
   "metadata": {},
   "outputs": [],
   "source": [
    "# get feature names\n",
    "tfidf_dialogue_feat_names = tfidf_dialogue.get_feature_names()"
   ]
  },
  {
   "cell_type": "code",
   "execution_count": 65,
   "metadata": {},
   "outputs": [
    {
     "data": {
      "image/png": "[encoded data removed]",
      "text/plain": [
       "<Figure size 432x288 with 1 Axes>"
      ]
     },
     "metadata": {
      "needs_background": "light"
     },
     "output_type": "display_data"
    }
   ],
   "source": [
    "# Elbow Method to determine optimal k in k means clustering\n",
    "# calculate sum of squared distances\n",
    "K = range(1,12)\n",
    "ssd = [KMeans(n_clusters=k).fit(tfidf_dialogue_fit).inertia_ for k in K]\n",
    "\n",
    "# plot results\n",
    "plt.plot(K, ssd, 'bx-')\n",
    "plt.xlabel('k')\n",
    "plt.ylabel('Sum of Squared Distances')\n",
    "plt.title('Elbow Method for Optimal k with Dialogue TFIDF')\n",
    "plt.show()"
   ]
  },
  {
   "cell_type": "code",
   "execution_count": 66,
   "metadata": {},
   "outputs": [
    {
     "name": "stdout",
     "output_type": "stream",
     "text": [
      "TFIDF Dialogue:\n",
      "\tCluster 1: wa know kumail like yeah na get cheney right well\n",
      "\tCluster 2: look im dont wa like get know back go see\n"
     ]
    }
   ],
   "source": [
    "# K-Means with Count Vectorized\n",
    "k_tfidf_dialogue = KMeans(n_clusters = 2, random_state = 0).fit(tfidf_dialogue_fit)\n",
    "k_tfidf_dialogue_centroids = k_tfidf_dialogue.cluster_centers_.argsort()[:, ::-1]\n",
    "k_tfidf_dialogue_terms = tfidf_dialogue_feat_names\n",
    "k_tfidf_dialogue_labels = k_tfidf_dialogue.labels_\n",
    "\n",
    "print(\"TFIDF Dialogue:\")\n",
    "eval_k(k_tfidf_dialogue, k_tfidf_dialogue_centroids, k_tfidf_dialogue_terms)"
   ]
  },
  {
   "cell_type": "markdown",
   "metadata": {},
   "source": [
    "#### NMF"
   ]
  },
  {
   "cell_type": "code",
   "execution_count": null,
   "metadata": {},
   "outputs": [],
   "source": []
  },
  {
   "cell_type": "markdown",
   "metadata": {},
   "source": [
    "### K Means Clustering -- Full Script"
   ]
  },
  {
   "cell_type": "markdown",
   "metadata": {},
   "source": [
    "#### CV"
   ]
  },
  {
   "cell_type": "code",
   "execution_count": 67,
   "metadata": {},
   "outputs": [],
   "source": [
    "# get feature names\n",
    "bow_all_feat_names = bow_all.get_feature_names()"
   ]
  },
  {
   "cell_type": "code",
   "execution_count": 68,
   "metadata": {},
   "outputs": [
    {
     "data": {
      "image/png": "[encoded data removed]",
      "text/plain": [
       "<Figure size 432x288 with 1 Axes>"
      ]
     },
     "metadata": {
      "needs_background": "light"
     },
     "output_type": "display_data"
    }
   ],
   "source": [
    "# Elbow Method to determine optimal k in k means clustering\n",
    "# calculate sum of squared distances\n",
    "K = range(1,12)\n",
    "ssd = [KMeans(n_clusters=k).fit(bow_all_fit).inertia_ for k in K]\n",
    "\n",
    "# plot results\n",
    "plt.plot(K, ssd, 'bx-')\n",
    "plt.xlabel('k')\n",
    "plt.ylabel('Sum of Squared Distances')\n",
    "plt.title('Elbow Method for Optimal k with Full Script Bag of Words')\n",
    "plt.show()"
   ]
  },
  {
   "cell_type": "code",
   "execution_count": 69,
   "metadata": {},
   "outputs": [
    {
     "name": "stdout",
     "output_type": "stream",
     "text": [
      "Count Vectorized Full Script:\n",
      "\tCluster 1: int look wa get know like back go day see\n",
      "\tCluster 2: la cleo de el seora sofa se que en pepe\n"
     ]
    }
   ],
   "source": [
    "# K-Means with Count Vectorized\n",
    "k_bow_all = KMeans(n_clusters = 2, random_state = 0).fit(bow_all_fit)\n",
    "k_bow_all_centroids = k_bow_all.cluster_centers_.argsort()[:, ::-1]\n",
    "k_bow_all_terms = bow_all_feat_names\n",
    "k_bow_all_labels = k_bow_all.labels_\n",
    "\n",
    "print(\"Count Vectorized Full Script:\")\n",
    "eval_k(k_bow_all, k_bow_all_centroids, k_bow_all_terms)"
   ]
  },
  {
   "cell_type": "markdown",
   "metadata": {},
   "source": [
    "#### TFIDF"
   ]
  },
  {
   "cell_type": "code",
   "execution_count": 70,
   "metadata": {},
   "outputs": [],
   "source": [
    "# get feature names\n",
    "tfidf_all_feat_names = tfidf_all.get_feature_names()"
   ]
  },
  {
   "cell_type": "code",
   "execution_count": 71,
   "metadata": {},
   "outputs": [
    {
     "data": {
      "image/png": "[encoded data removed]",
      "text/plain": [
       "<Figure size 432x288 with 1 Axes>"
      ]
     },
     "metadata": {
      "needs_background": "light"
     },
     "output_type": "display_data"
    }
   ],
   "source": [
    "# Elbow Method to determine optimal k in k means clustering\n",
    "# calculate sum of squared distances\n",
    "K = range(1,12)\n",
    "ssd = [KMeans(n_clusters=k).fit(tfidf_all_fit).inertia_ for k in K]\n",
    "\n",
    "# plot results\n",
    "plt.plot(K, ssd, 'bx-')\n",
    "plt.xlabel('k')\n",
    "plt.ylabel('Sum of Squared Distances')\n",
    "plt.title('Elbow Method for Optimal k with Full Script TFIDF')\n",
    "plt.show()"
   ]
  },
  {
   "cell_type": "code",
   "execution_count": 72,
   "metadata": {},
   "outputs": [
    {
     "name": "stdout",
     "output_type": "stream",
     "text": [
      "TFIDF Full Script:\n",
      "\tCluster 1: dorothea julie jamie lady bird marion abbie kyle danny jenna\n",
      "\tCluster 2: wa int chris know kumail donovan get lee eazy schofield\n"
     ]
    }
   ],
   "source": [
    "# K-Means with Count Vectorized\n",
    "k_tfidf_all = KMeans(n_clusters = 2, random_state = 0).fit(tfidf_all_fit)\n",
    "k_tfidf_all_centroids = k_tfidf_all.cluster_centers_.argsort()[:, ::-1]\n",
    "k_tfidf_all_terms = tfidf_all_feat_names\n",
    "k_tfidf_all_labels = k_tfidf_all.labels_\n",
    "\n",
    "print(\"TFIDF Full Script:\")\n",
    "eval_k(k_tfidf_all, k_tfidf_all_centroids, k_tfidf_all_terms)"
   ]
  },
  {
   "cell_type": "markdown",
   "metadata": {},
   "source": [
    "#### NMF"
   ]
  },
  {
   "cell_type": "code",
   "execution_count": null,
   "metadata": {},
   "outputs": [],
   "source": []
  },
  {
   "cell_type": "code",
   "execution_count": null,
   "metadata": {},
   "outputs": [],
   "source": []
  },
  {
   "cell_type": "code",
   "execution_count": null,
   "metadata": {},
   "outputs": [],
   "source": [
    "# # qualitatively compare results, see if docs make sense \n",
    "# data = {\"article\": list(cleaned_train), \"y\": list(newsgroups_train.target), \n",
    "#         \"kmeans_cv_label\": list(k_cv_labels), \n",
    "#         \"kmeans_tfidf_label\": list(k_tfidf_labels), \n",
    "#         \"kmeans_nmf_label\": list(k_nmf_labels), \n",
    "#         \"agg_cv_label\": list(agg_cv_labels), \n",
    "#         \"agg_tfidf_label\": list(agg_tfidf_labels), \n",
    "#         \"agg_nmf_label\": list(agg_nmf_labels)}\n",
    "\n",
    "# results = pd.DataFrame(data)\n",
    "\n",
    "# # logic for how to match numeric label to category from Stack Overflow\n",
    "# # https://stackoverflow.com/a/61241242/10145953\n",
    "# idxs = [idx for idx, cat in enumerate(newsgroups_train.target_names)]\n",
    "# cats = [cat for idx, cat in enumerate(newsgroups_train.target_names)]\n",
    "# def y_to_name(text):\n",
    "#     for i in idxs:\n",
    "#         if i == text:\n",
    "#             cat = cats[i]\n",
    "#         else:\n",
    "#             pass\n",
    "#     return cat\n",
    "# results['target_names'] = results['y'].apply(lambda x: y_to_name(x))"
   ]
  },
  {
   "cell_type": "markdown",
   "metadata": {},
   "source": [
    "## Cosine similarity\n",
    "\n",
    "https://scikit-learn.org/stable/modules/generated/sklearn.metrics.pairwise.cosine_similarity.html#sklearn.metrics.pairwise.cosine_similarity"
   ]
  },
  {
   "cell_type": "code",
   "execution_count": null,
   "metadata": {},
   "outputs": [],
   "source": []
  },
  {
   "cell_type": "markdown",
   "metadata": {},
   "source": [
    "## Additional Visualizations\n",
    "\n",
    "https://towardsdatascience.com/a-complete-exploratory-data-analysis-and-visualization-for-text-data-29fb1b96fb6a\n",
    "\n",
    "https://towardsdatascience.com/another-twitter-sentiment-analysis-with-python-part-3-zipfs-law-data-visualisation-fc9eadda71e7\n",
    "\n",
    "https://towardsdatascience.com/visualizing-topic-models-with-scatterpies-and-t-sne-f21f228f7b02\n",
    "\n",
    "https://towardsdatascience.com/how-to-use-ggplot2-in-python-74ab8adec129\n",
    "\n",
    "https://itnext.io/basics-of-text-analysis-visualization-1978de48af47\n",
    "\n",
    "https://www.kaggle.com/dhanyajothimani/basic-visualization-and-clustering-in-python\n",
    "\n",
    "https://jakevdp.github.io/PythonDataScienceHandbook/05.11-k-means.html\n",
    "\n",
    "https://www.dummies.com/programming/big-data/data-science/how-to-visualize-the-clusters-in-a-k-means-unsupervised-learning-model/\n",
    "\n"
   ]
  },
  {
   "cell_type": "code",
   "execution_count": null,
   "metadata": {},
   "outputs": [],
   "source": []
  },
  {
   "cell_type": "markdown",
   "metadata": {},
   "source": [
    "## Deprecated Code\n",
    "\n",
    "Code we attempted to leverage in our project but ended up scrapping, for some reason or another"
   ]
  },
  {
   "cell_type": "code",
   "execution_count": 73,
   "metadata": {},
   "outputs": [],
   "source": [
    "# # train-test split all\n",
    "# y_all = movies_df['orig_screen_win']\n",
    "# X_all = movies_df['cleaned_script']\n",
    "# X_train_all, X_test_all, y_train_all, y_test_all = train_test_split(X_all, \n",
    "#                                                                     y_all, \n",
    "#                                                                     test_size=0.2, \n",
    "#                                                                     random_state=16)\n",
    "\n",
    "# print(X_train_all.shape)\n",
    "# print(X_test_all.shape)\n",
    "# print(y_train_all.shape)\n",
    "# print(y_test_all.shape)\n",
    "\n",
    "# # train-test split dialogue\n",
    "# y_dialogue = movies_df['orig_screen_win']\n",
    "# X_dialogue = movies_df['cleaned_dialogue']\n",
    "# X_train_dialogue, X_test_dialogue, y_train_dialogue, y_test_dialogue = train_test_split(X_dialogue, \n",
    "#                                                                                         y_dialogue, \n",
    "#                                                                                         test_size=0.2, \n",
    "#                                                                                         random_state=16)\n",
    "\n",
    "# print(X_train_dialogue.shape)\n",
    "# print(X_test_dialogue.shape)\n",
    "# print(y_train_dialogue.shape)\n",
    "# print(y_test_dialogue.shape)"
   ]
  },
  {
   "cell_type": "code",
   "execution_count": 74,
   "metadata": {},
   "outputs": [],
   "source": [
    "# ## AS \n",
    "\n",
    "# # Create function to prepare text for additional separation by visual cues and speaking parts\n",
    "# def add_PoS(text):\n",
    "#     sentences = [w_tokenize(sent) for sent in text] # tokenize text\n",
    "#     for i in range(len(sentences)):\n",
    "#         sentences[i] = [w for w in sentences[i] if w not in punc] # remove punctuation\n",
    "#     for i in range(len(sentences)):\n",
    "#         sentences[i] = [w for w in sentences[i] if w not in stop_words] # remove stopwords\n",
    "#     pos_text = [nltk.pos_tag(speech) for speech in sentences] # assign PoS to words\n",
    "#     return pos_text"
   ]
  },
  {
   "cell_type": "code",
   "execution_count": 75,
   "metadata": {},
   "outputs": [],
   "source": [
    "# ## AS + AR\n",
    "# def clean_from_PoS(pos_dialogue):\n",
    "#     visuals = []\n",
    "#     dialogue = []\n",
    "#     for t in range(len(pos_dialogue)):\n",
    "#         if len(pos_dialogue[t]) > 2:\n",
    "#             if pos_dialogue[t][1][1] == 'NN' and pos_dialogue[t][2][1] == 'VBZ' or pos_dialogue[t][2][1] == 'VBG':\n",
    "#                 visuals.append(pos_dialogue[t])\n",
    "#             elif (pos_dialogue[t][0][1] == 'VBN' or pos_dialogue[t][0][1] == 'VBG'):\n",
    "#                 visuals.append(pos_dialogue[t])\n",
    "#             elif (pos_dialogue[t][0][1] == 'PRP' or pos_dialogue[t][0][1] == 'NNP') and \\\n",
    "#                 (pos_dialogue[t][1][1] == 'VBP' or pos_dialogue[t][1][1] == 'NN' or pos_dialogue[t][1][1] == 'VBZ' or\\\n",
    "#                  pos_dialogue[t][1][1] == 'NNS' or pos_dialogue[t][1][1] == 'VBG' or pos_dialogue[t][1][1] == 'VBD'):\n",
    "#                 visuals.append(pos_dialogue[t])\n",
    "#             elif (pos_dialogue[t][0][1] == 'IN' or pos_dialogue[t][0][1] == 'DT') and (pos_dialogue[t][1][1] == 'NNP' or\\\n",
    "#                  pos_dialogue[t][1][1] == 'JJ' or pos_dialogue[t][1][1] == 'NN' or pos_dialogue[t][1][1] == 'RB' or\\\n",
    "#                 pos_dialogue[t][1][1] == 'VBZ' or pos_dialogue[t][1][1] == 'VBG' or pos_dialogue[t][1][1] == 'CD'):\n",
    "#                 visuals.append(pos_dialogue[t])\n",
    "#             elif (pos_dialogue[t][0][1] == 'IN' or pos_dialogue[t][0][1] == 'DT')  and pos_dialogue[t][1][1] == 'NNP' and\\\n",
    "#                 pos_dialogue[t][2][1] == 'VBZ':\n",
    "#                 visuals.append(pos_dialogue[t])\n",
    "#             else:\n",
    "#                 dialogue.append(pos_dialogue[t])\n",
    "#     just_dialogue = [d[0][0] for d in dialogue]\n",
    "#     return just_dialogue"
   ]
  },
  {
   "cell_type": "code",
   "execution_count": 76,
   "metadata": {},
   "outputs": [],
   "source": [
    "# # Create functions to better separate visual cues vs. dialogue using PoS\n",
    "\n",
    "# ## Need Help on this One for iterating over all; Each section is functioning and useable; Just need to figure out\n",
    "# # how to define it as one whole function if possible.\n",
    "\n",
    "# # How do I iterate through all titles to use the rules that I have set up per each script?\n",
    "\n",
    "# def double_clean(test, titles):\n",
    "#     vis = []\n",
    "#     dialogue = []\n",
    "# #     for s in range(len(titles)):\n",
    "# #         title = titles[s]\n",
    "# #         Skip = [4, 6, 7, 10, 11, 13, 15, 16, 19, 20]\n",
    "# #         if s in Skip:\n",
    "# #             continue\n",
    "            \n",
    "#                 for t in (range(len(test))):\n",
    "#                     if len(test[t]) > 1:\n",
    "\n",
    "#                         if test[t][0][0].isupper() and test[t][0][1] == 'NNP':\n",
    "#                             dialogue.append(test[t])\n",
    "\n",
    "#                         elif test[t][0][1] == 'NNP' and test[t][2][1] == 'VBZ' or test[t][2][1] == 'VBG':\n",
    "#                              vis.append(test[t])\n",
    "\n",
    "        \n",
    "#                         elif test[t][0][0].isupper() and test[t][0][1] == 'NNP': # script 5\n",
    "#                             dialogue.append(test[t])\n",
    "\n",
    "#                         elif test[t][1][1] == 'NNP' and test[t][2][1] == 'VBZ' or \\\n",
    "#                             test[t][2][1] == 'VBG' or test[t][2][1] == 'VBD':\n",
    "#                             vis.append(test[t])\n",
    "\n",
    "#                         elif test[t][0][0] == 'SERGEANT' and test[t][1][1] != 'NNP':\n",
    "#                             vis.append(test[t])\n",
    "\n",
    "#                         elif test[t][0][1] == 'NNP' and test[t][1][1] == 'NN' or test[t][1][1] == 'NNS':\n",
    "#                             vis.append(test[t])\n",
    "\n",
    "#                         elif test[t][0][1] == 'NNP' and test[t][1][1] == 'RB' or test[t][1][1] == 'NNS':\n",
    "#                             vis.append(test[t])\n",
    "\n",
    "#                         elif test[t][0][1] == 'NNP' and test[t][1][1] == 'NN' and test[t][2][1] != 'VBG':\n",
    "#                             vis.append(test[t])\n",
    "\n",
    "#                         elif test[t][0][1] == 'NNP' and test[t][1][1] == 'VBZ' or test[t][1][1] == 'VBG' or test[t][1][1] == 'VBD':\n",
    "#                             vis.append(test[t])\n",
    "\n",
    "#                         elif test[t][0][1] == 'DT' and test[t][1][1] == 'JJ' or test[t][1][1] == 'NN' or test[t][1][1] == 'NNP':\n",
    "#                             vis.append(test[t])\n",
    "\n",
    "#                         elif test[t][0][0].istitle() and test[t][0][1] == 'PRP' and (test[t][1][1] == 'VBP' or \\\n",
    "#                             test[t][1][1] == 'VBZ'):\n",
    "#                             vis.append(test[t])\n",
    "\n",
    "#                         elif test[t][0][1] == 'IN' and (test[t][1][1] == 'JJ' or test[t][1][1] == 'RB'):\n",
    "#                             vis.append(test[t])\n",
    "\n",
    "#                         elif test[t][0][1] == 'RB' and test[t][1][1] == 'RB' or test[t][1][1] == 'JJ':\n",
    "#                             vis.append(test[t])\n",
    "\n",
    "#                         else:\n",
    "#                             dialogue.append(test[t])\n",
    "\n",
    "#             if s == 1:\n",
    "#                 for t in (range(len(test))):\n",
    "#                     if len(test[t]) > 1:\n",
    "#                         if test[t][1][1] == 'NN' and test[t][2][1] == 'VBZ' or test[t][2][1] == 'VBG':\n",
    "#                             vis.append(test[t])\n",
    "\n",
    "#                         elif test[t][0][0].isupper() and test[t][0][1] == 'NNP' and  test[t][1][0].istitle() == False:\n",
    "#                             vis.append(test[t])\n",
    "\n",
    "#                         elif test[t][0][1].istitle() and test[t][0][1] == 'NNP' and test[t][1][1] == 'NNS':\n",
    "#                             vis.append(test[t])\n",
    "\n",
    "#                         elif test[t][0][0].istitle() and test[t][0][1] == 'NNP' and test[t][1][1] == 'VBD':\n",
    "#                             vis.append(test[t])\n",
    "\n",
    "#                         elif test[t][0][0].istitle() and test[t][0][1] == 'NNP' and test[t][1][1] == 'VBZ':\n",
    "#                             vis.append(test[t])\n",
    "\n",
    "#                         elif test[t][0][0].istitle() and test[t][0][1] == 'NNP' and test[t][1][1] == 'NNS':\n",
    "#                             vis.append(test[t])\n",
    "\n",
    "#                         elif test[t][-1][0].isupper() and test[t][-1][1] == 'NNP':\n",
    "#                             vis.append(test[t])\n",
    "\n",
    "#                         elif test[t][0][0] == r'MOMENTS' and  test[t][1][0] == r'LATER':\n",
    "#                             vis.append(test[t])\n",
    "\n",
    "#                         elif test[t][0][0] == r'LATER':\n",
    "#                             vis.append(test[t])\n",
    "\n",
    "#                         elif test[t][0][0] == r'VISUALS':\n",
    "#                             vis.append(test[t]) \n",
    "\n",
    "#                         elif test[t][0][0].isupper() and test[t][0][1] == 'RB' and  test[t][1][0].isupper() == True:\n",
    "#                             vis.append(test[t])\n",
    "\n",
    "#                         elif test[t][0][0].istitle() and test[t][0][1] == 'RB' and  test[t][1][1] == 'IN' and \\\n",
    "#                             test[t][2][1] == 'PRP$':\n",
    "#                             vis.append(test[t])\n",
    "\n",
    "\n",
    "#                         elif test[t][0][0].istitle() and test[t][0][1] == 'NNP' and test[t][1][1] == 'VBZ' and \\\n",
    "#                             test[t][2][1] != 'VBN' and test[t][3][1] != 'TO':\n",
    "#                             vis.append(test[t])\n",
    "\n",
    "#                         elif test[t][0][0].istitle() and test[t][0][1] == 'PRP' and test[t][1][1] == 'VBD' and \\\n",
    "#                             test[t][1][1] == 'VBP' and test[t][2][1] != 'NNS' and  test[t][2][1] != 'RP' and \\\n",
    "#                             test[t][2][1] != 'DT' and test[t][3][1] != 'VB':\n",
    "#                             vis.append(test[t])\n",
    "\n",
    "#                         elif test[t][0][0].istitle() and test[t][0][1] == 'PRP' and test[t][1][1] == 'VBP' and \\\n",
    "#                             test[t][2][1] == 'VBG':\n",
    "#                             vis.append(test[t])\n",
    "\n",
    "#                         elif test[t][0][0].istitle() and test[t][0][1] == 'PRP' and test[t][1][1] == 'DT' and \\\n",
    "#                             test[t][2][1] == 'VBP':\n",
    "#                             vis.append(test[t])\n",
    "\n",
    "#                         elif test[t][0][0].istitle() and test[t][0][1] == 'PRP' and test[t][1][1] == 'VBP' \\\n",
    "#                             and test[t][2][1] == 'TO':\n",
    "#                             vis.append(test[t])\n",
    "\n",
    "#                         elif test[t][0][0].istitle() and (test[t][0][0] == r'She' or test[t][0][0] == r'He') and \\\n",
    "#                             test[t][0][1] == 'PRP' and (test[t][1][1] == 'VBZ' or test[t][1][1] == 'VBD'):\n",
    "#                             vis.append(test[t])\n",
    "\n",
    "#                         elif test[t][0][0].istitle() and (test[t][0][0] == r'She' or test[t][0][0] == r'He') and \\\n",
    "#                             test[t][0][1] == 'PRP' and (test[t][1][1] == 'VBZ' or test[t][1][1] == 'VBD') and \\\n",
    "#                             test[t][2][1] == 'PDT':\n",
    "#                             vis.append(test[t])\n",
    "\n",
    "#                         elif test[t][0][0].istitle() and test[t][0][0] == r'Dorothea' and test[t][0][1] == 'NNP' and \\\n",
    "#                             test[t][1][1] == ('NNS'):\n",
    "#                             vis.append(test[t])\n",
    "\n",
    "#                         elif test[t][0][0].istitle() and (test[t][0][0] == r'Dorothea' or test[t][0][0] == r'Julie') and \\\n",
    "#                             test[t][0][1] == 'NNP' and test[t][1][1] == ('VBZ'):\n",
    "#                             vis.append(test[t])\n",
    "\n",
    "#                         elif test[t][0][0].istitle() and test[t][0][1] == 'NN' and test[t][1][1] == 'VBZ' and \\\n",
    "#                             test[t][2][1] != 'JJ':\n",
    "#                             vis.append(test[t])\n",
    "\n",
    "#                         elif test[t][0][0].isupper() and test[t][0][1] == 'NN' and test[t][1][1] != ('PRP'):\n",
    "#                             vis.append(test[t])\n",
    "\n",
    "\n",
    "#                         elif test[t][0][0].istitle() and test[t][0][1] == 'DT' and test[t][1][1] == ('NN') and \\\n",
    "#                             test[t][2][1] == ('VBZ'):\n",
    "#                             vis.append(test[t])\n",
    "\n",
    "#                         elif test[t][0][0].istitle() and test[t][0][1] == 'JJ' and test[t][1][1] == ('NN') and \\\n",
    "#                             test[t][2][1] != 'PRP':\n",
    "#                             vis.append(test[t])\n",
    "\n",
    "#                         elif test[t][0][0].istitle() and test[t][0][1] == 'JJ' and test[2][1] != 'PRP' :\n",
    "#                             vis.append(test[t])\n",
    "\n",
    "#                         elif test[t][0][0].istitle() and test[t][0][1] == 'PRP' and test[t][1][1] == 'VBZ':\n",
    "#                             vis.append(test[t])\n",
    "\n",
    "#                         elif test[t][0][0].istitle() and test[t][0][1] == 'NNP' and test[t][1][1] == 'VBZ':\n",
    "#                             vis.append(test[t])\n",
    "\n",
    "#                         elif test[t][0][1] == 'DT' and test[t][1][1] == 'NN' and test[t][2][1] == 'VBG':\n",
    "#                             vis.append(test[t])\n",
    "\n",
    "#                         elif test[t][0][0].isupper() and test[t][0][1] == 'NN' and test[t][1][0].isupper() \\\n",
    "#                             and test[t][1][1] != 'NNP':\n",
    "#                             vis.append(test[t])\n",
    "\n",
    "#                         elif test[t][0][0].isupper() and test[t][0][1] == 'NNP' and test[t][1][0].isupper() \\\n",
    "#                             and test[t][1][1] != 'NNP':\n",
    "#                             vis.append(test[t])\n",
    "\n",
    "#                         elif test[t][0][0].isupper() and test[t][1][0] == r'CONTD' and test[t][1][1] != 'NNP':\n",
    "#                             vis.append(test[t])\n",
    "                \n",
    "#                 # Script 2\n",
    "        \n",
    "#                         if test[t][1][1] == 'NN' and test[t][2][1] == 'VBZ' or test[t][2][1] == 'VBG':\n",
    "#                             vis.append(test[t])\n",
    "            \n",
    "#                         elif  test[t][0][0] == 'INSIDE' or test[t][0][0] == 'DISSOLVE' or test[t][0][0] == 'TITLE' or \\\n",
    "#                             test[t][0][0] == 'NEW' or test[t][0][0] == 'HALLWAY' or test[t][0][0] == 'RECEPTION':\n",
    "#                             vis.append(test[t])\n",
    "\n",
    "#                         elif test[t][0][1].isupper() and test[t][1][1] == 'VBZ': #or test[t][2][1] == 'VBG':\n",
    "#                              vis.append(test[t])\n",
    "\n",
    "#                         elif  test[t][0][0].isupper() and test[t][1][0].isupper() and test[t][2][1] == 'DT':\n",
    "#                             vis.append(test[t])\n",
    "\n",
    "#                         elif  test[t][0][0].isupper() and test[t][1][0].isupper():\n",
    "#                             vis.append(test[t])\n",
    "\n",
    "#                         elif test[t][0][1] == 'DT' and test[t][1][1] == 'JJ':\n",
    "#                             vis.append(test[t]) \n",
    "                \n",
    "#                 # Script 3\n",
    "#                         if test[t][1][1] == 'NN' and test[t][2][1] == 'VBZ' or test[t][2][1] == 'VBG':\n",
    "#                              vis.append(test[t])\n",
    "\n",
    "#                         elif  test[t][0][1] == 'WRB':\n",
    "#                             dialogue.append(test[t])\n",
    "\n",
    "#                         elif  test[t][0][1] == 'WP':\n",
    "#                             dialogue.append(test[t])\n",
    "\n",
    "#                         elif  test[t][0][1] == 'IN' or test[t][0][1] == 'RB':\n",
    "#                             vis.append(test[t])\n",
    "\n",
    "#                         elif  test[t][0][1] == 'IN' and test[t][1][1] == 'NNP':\n",
    "#                             vis.append(test[t])\n",
    "\n",
    "#                         elif  test[t][0][1] == 'NNP' and test[t][1][1] == 'NNP':\n",
    "#                             dialogue.append(test[t])\n",
    "\n",
    "#                         elif test[t][0][1] == 'PRP' and test[t][1][0].startswith('I') and \\\n",
    "#                             test[t][1][1] == 'VBD':\n",
    "#                             dialogue.append(test[t])\n",
    "\n",
    "#                         elif  test[t][0][0].isupper() and  test[t][0][1] == 'NNP':\n",
    "#                             vis.append(test[t])\n",
    "\n",
    "#                         elif  test[t][0][0].startswith('Moments'):\n",
    "#                             vis.append(test[t])\n",
    "\n",
    "#                         elif  test[t][0][0].startswith('CALEB') and test[t][1][1] == 'NNS':\n",
    "#                             vis.append(test[t])\n",
    "\n",
    "\n",
    "#                         elif  test[t][0][1] == 'VBG' or test[t][0][1] == 'VBN':\n",
    "#                             vis.append(test[t])\n",
    "\n",
    "#                         elif test[t][0][1] == 'PRP' and test[t][1][1] == 'VBD' and test[t][2][1] == 'NNS':\n",
    "#                             vis.append(test[t])\n",
    "\n",
    "#                         elif test[t][0][1] == 'PRP' and test[t][1][0].startswith('I') and \\\n",
    "#                             test[t][1][1] == 'VBD' or test[t][1][1] == 'VBP':\n",
    "#                             dialogue.append(test[t])\n",
    "\n",
    "#                         elif test[t][0][1] == 'PRP' and test[t][1][1] == 'VBD' or test[t][1][1] == 'VBZ' or test[t][1][1] == 'VBP':\n",
    "#                             vis.append(test[t])\n",
    "\n",
    "#                         elif test[t][0][1] == 'PRP' and test[t][1][1] == 'RB':\n",
    "#                             vis.append(test[t])\n",
    "\n",
    "#                         elif  test[t][0][1] == 'DT' and test[t][1][1] == 'NNP':\n",
    "#                             vis.append(test[t])\n",
    "\n",
    "#                         elif  test[t][0][1] == 'NNS' and test[t][1][1] == 'JJ':\n",
    "#                             vis.append(test[t])\n",
    "\n",
    "#                         elif  test[t][0][1] == 'TO' and test[t][1][1] == 'VB':\n",
    "#                             vis.append(test[t])\n",
    "\n",
    "#                         elif  test[t][0][1] == 'EX' and test[t][1][1] == 'JJ':\n",
    "#                             vis.append(test[t])\n",
    "\n",
    "#                         elif test[t][0][1] == 'DT' and test[t][1][1] == 'JJ':\n",
    "#                             vis.append(test[t])\n",
    "\n",
    "#                         elif test[t][0][1] == 'CD':\n",
    "#                             vis.append(test[t])\n",
    "\n",
    "#                         elif test[t][0][1] == 'CC' and test[t][1][1] == 'NNS':\n",
    "#                             vis.append(test[t])\n",
    "\n",
    "\n",
    "            \n",
    "            \n",
    "#              # Script # 5        \n",
    "#                         if test[t][1][1] == 'NN' and (test[t][2][1] == 'VBZ' or test[t][2][1] == 'VBG'):\n",
    "#                                  vis.append(test[t])\n",
    "\n",
    "#                         elif test[t][0][1] == 'IN' and test[t][1][1] == 'NNP':\n",
    "#                             vis.append(test[t])\n",
    "\n",
    "\n",
    "#                         elif test[t][0][1] == 'PRP' and test[t][1][1] == 'VBP':\n",
    "#                             vis.append(test[t])\n",
    "\n",
    "#                         elif test[t][0][1] == 'NNP' and test[t][1][1] == 'VBZ':\n",
    "#                             vis.append(test[t])\n",
    "\n",
    "#                         elif test[t][0][1] == 'NNP' and test[t][1][1] == 'WP':\n",
    "#                             dialogue.append(test[t])\n",
    "\n",
    "#                         elif test[t][0][0] == 'TUTORIAL' or test[t][0][0] == 'TITLE':\n",
    "#                             vis.append(test[t])\n",
    "\n",
    "#                         elif test[t][0][0].isupper() and test[t][1][1] == 'NNP':\n",
    "#                             dialogue.append(test[t])\n",
    "\n",
    "#                         elif test[t][0][1] == 'EX' and test[t][1][1] == 'JJ':\n",
    "#                             vis.append(test[t])\n",
    "                        \n",
    "#                         else:\n",
    "#                             dialogue.append(test[t])\n",
    "            \n",
    "\n",
    "\n",
    "#             # Script # 8\n",
    "#                         if test[t][1][1] == 'NN' and (test[t][2][1] == 'VBZ' or test[t][2][1] == 'VBG'):\n",
    "#                              vis.append(test[t])\n",
    "\n",
    "#                         elif test[t][0][1] == 'NN' and (test[t][1][1] == 'VBZ' or test[t][1][1] == 'VBG'):\n",
    "#                              vis.append(test[t])\n",
    "\n",
    "#                         elif test[t][0][0] == 'LATER' or test[t][0][0] == 'ON' or test[t][0][0] == 'FLASH' or \\\n",
    "#                             test[t][0][0] == 'INSERT' or test[t][0][0] == 'POP' or test[t][0][0] == 'POOF' or \\\n",
    "#                             test[t][0][0] == 'BOOM' or test[t][0][0] == 'QUICK':\n",
    "#                             vis.append(test[t])\n",
    "\n",
    "#                         elif test[t][0][1] == 'IN' and (test[t][1][1] == 'JJ' or test[t][1][1] == 'RB'):\n",
    "#                             vis.append(test[t])\n",
    "\n",
    "#                         elif test[t][0][1] == 'DT' and (test[t][1][1] == 'NNS' or test[t][1][1] == 'JJ' or \n",
    "#                                                         test[t][1][1] == 'NN' or test[t][1][1] == 'NNP'):\n",
    "#                             vis.append(test[t])\n",
    "\n",
    "#                         elif test[t][0][1] == 'NNP' and test[t][1][1] == 'VBZ' and test[t][2][1] == 'NN':\n",
    "#                             vis.append(test[t])\n",
    "\n",
    "#                         elif test[t][0][1] == 'NNP' and (test[t][1][1] == 'VBZ' or test[t][1][1] == 'NNS' or test[t][1][1] == 'NN'):\n",
    "#                             vis.append(test[t])  \n",
    "\n",
    "#                         elif  test[t][0][1] == 'DT' and test[t][1][0].isupper() and (test[t][1][1] == 'JJ' or test[t][1][1] == 'NN' or\n",
    "#                                                                                     test[t][1][1] == 'NNP'):\n",
    "#                             vis.append(test[t])\n",
    "\n",
    "#                         elif test[t][0][1] == 'PRP' and (test[t][1][1] == 'VBZ' or test[t][1][1] == 'VBP' or test[t][1][1] == 'VBD'):\n",
    "#                             vis.append(test[t])\n",
    "\n",
    "#                         else:\n",
    "#                             dialogue.append(test[t])\n",
    "            \n",
    "#                   # Script # 9          \n",
    "#                         if test[t][0][1] == 'UH':\n",
    "#                             dialogue.append(test[t])\n",
    "\n",
    "#                         elif test[t][0][0] == 'CUT' or test[t][0][0] == 'Cut' or test[t][0][0] == 'MINUTES':\n",
    "#                             vis.append(test[t])\n",
    "\n",
    "#                         elif test[t][0][0].isupper() and (test[t][0][1] == 'NNP' or test[t][0][1] == 'NN'):\n",
    "#                             vis.append(test[t])\n",
    "\n",
    "#                         elif test[t][0][1] == 'VBG':\n",
    "#                             vis.append(test[t])\n",
    "\n",
    "#                         elif (test[t][0][1] == 'NNP' or test[t][0][1] == 'PRP' or test[t][0][1] == 'DT' or test[t][0][1] == 'JJ') and \\\n",
    "#                             (test[t][1][1] == 'NN' or test[t][1][1] == 'NNS' or test[t][1][1] == 'NNS' or \\\n",
    "#                             test[t][1][1] == 'RB' or test[t][1][1] == 'VBG' or\\\n",
    "#                             test[t][1][1] == 'VBZ'):\n",
    "#                             vis.append(test[t])\n",
    "\n",
    "#                         elif test[t][0][1] == 'CC' and (test[t][1][1] != 'VBG'):\n",
    "#                             vis.append(test[t])\n",
    "\n",
    "#                         elif test[t][1][1] == 'NN' and (test[t][2][1] == 'VBZ' or test[t][2][1] == 'VBG'):\n",
    "#                              vis.append(test[t])\n",
    "\n",
    "#                         elif test[t][0][1] == 'IN' and (test[t][1][1] == 'JJ' or test[t][1][1] == 'VBN'):\n",
    "#                             vis.append(test[t])\n",
    "\n",
    "\n",
    "#                         else:\n",
    "#                             dialogue.append(test[t])\n",
    "\n",
    "#         # Script # 12  \n",
    "#                         if test[t][1][1] == 'NN' and test[t][2][1] == 'VBZ' or test[t][2][1] == 'VBG':\n",
    "#                              vis.append(test[t])\n",
    "\n",
    "#                         elif (test[t][0][1] == 'NNP' or test[t][0][1] == 'PRP') and (test[t][1][1] == 'VBZ' or test[t][1][1] == 'NNS'):\n",
    "#                             vis.append(test[t])\n",
    "\n",
    "#                         elif test[t][0][0] == r'LATER' or test[t][0][0] == r'IN' or test[t][0][0] == r'AT':\n",
    "#                             vis.append(test[t])\n",
    "\n",
    "#                         elif test[t][1][0].isupper():\n",
    "#                             vis.append(test[t])\n",
    "\n",
    "#                         elif test[t][0][1] == 'DT' and  test[t][1][1] == 'NN' and (test[t][2][1] == 'NNPS' or test[t][2][1] == 'VB'):\n",
    "#                             dialogue.append(test[t])\n",
    "\n",
    "#                         elif test[t][0][1] == 'DT' and (test[t][1][1] == 'JJ' or test[t][1][1] == 'NN' or\\\n",
    "#                                                         test[t][1][0] == 'BARTENDER' or test[t][1][1] == 'NNS'):\n",
    "#                             vis.append(test[t])\n",
    "\n",
    "#                         elif test[t][0][1] == 'IN' and (test[t][1][1] == 'JJ' or test[t][1][1] == 'RB' or test[t][1][1] == 'NN'):\n",
    "#                             vis.append(test[t])\n",
    "\n",
    "\n",
    "#                         else:\n",
    "#                             dialogue.append(test[t])\n",
    "\n",
    "            \n",
    "#         # Script 14 - Parasite\n",
    "#                          if test[t][1][1] == 'NN' and (test[t][2][1] == 'VBZ' or test[t][2][1] == 'VBG'):\n",
    "#                              vis.append(test[t])\n",
    "\n",
    "#                         elif test[t][0][0] == 'SLOW' or test[t][2][0] == 'MUSIC' or test[t][0][0] == 'CAMERA' or \\\n",
    "#                             test[t][0][0] == 'Moments' or test[t][0][0] == 'REVEAL':\n",
    "#                             vis.append(test[t]) \n",
    "\n",
    "#                         elif (test[t][0][1] == 'PRP' or test[t][0][1] == 'NN' or test[t][0][1] == 'NNP') and\\\n",
    "#                             (test[t][1][1] == 'VBZ' or test[t][1][1] == 'VBP' or test[t][1][1] == 'VBG' or \\\n",
    "#                             test[t][1][1] == 'NNS') or test[t][2][1] == 'VBZ':\n",
    "#                              vis.append(test[t])\n",
    "\n",
    "#                         elif (test[t][0][1] == 'IN' or test[t][0][1] == 'DT' or \\\n",
    "#                               test[t][0][1] == 'PRP' or test[t][0][1] == 'RB') and test[t][1][0].isupper():\n",
    "#                             vis.append(test[t])\n",
    "\n",
    "#                         elif (test[t][0][1] == 'IN' or test[t][0][1] == 'DT') and (test[t][1][1] == 'JJ' or test[t][1][1] == 'RB' or \\\n",
    "#                             test[t][1][1] == 'NN' or test[t][1][1] == 'NNS'):\n",
    "#                             vis.append(test[t])\n",
    "\n",
    "#                         elif test[t][0][1] == 'NNP' and (test[t][1][1] == 'NN' or test[t][1][1] == 'NNS' or \\\n",
    "#                                                          test[t][1][1] == 'RB' or test[t][1][1] == 'VBD'):\n",
    "#                              vis.append(test[t])\n",
    "\n",
    "#                         elif test[t][0][1] == 'VBG' and (test[t][1][1] == 'NN' or test[t][1][1] == 'NNP' or \\\n",
    "#                                                          test[t][1][1] == 'NNS'):\n",
    "#                              vis.append(test[t])\n",
    "\n",
    "#                         elif test[t][0][1] == 'RB' and (test[t][1][1] == 'VBG' or test[t][1][1] == 'NNP'):\n",
    "#                              vis.append(test[t])\n",
    "\n",
    "#                         else:\n",
    "#                             dialogue.append(test[t])\n",
    "            \n",
    "\n",
    "#         # Script 17 - Spotlight - Really mixed together\n",
    "   \n",
    "#                         if test[t][1][1] == 'NN' and (test[t][2][1] == 'VBZ' or test[t][2][1] == 'VBG'):\n",
    "#                              vis.append(test[t])\n",
    "\n",
    "#                         elif  test[t][0][0] == 'FADE' or test[t][0][0] == 'INT':\n",
    "#                             vis.append(test[t])\n",
    "\n",
    "#                         elif test[t][0][1] == 'NNS' and test[t][1][1] == 'IN':\n",
    "#                              vis.append(test[t])\n",
    "        \n",
    "\n",
    "#                         else:\n",
    "#                             dialogue.append(test[t])\n",
    "            \n",
    "#             # Script #18 - Straight Outta            \n",
    "#                          if test[t][1][1] == 'NN' and test[t][2][1] == 'VBZ' or test[t][2][1] == 'VBG':\n",
    "#                              vis.append(test[t])\n",
    "\n",
    "#                         elif (test[t][0][1] == 'VBN' or test[t][0][1] == 'VBG'):\n",
    "#                             vis.append(test[t])\n",
    "\n",
    "#                         elif test[t][0][0] == 'Eazy' or test[t][0][0] == 'Suddenly' or \\\n",
    "#                             test[t][0][0] == 'FOLLOW' or test[t][0][0] == 'Cut':\n",
    "#                             vis.append(test[t])\n",
    "\n",
    "\n",
    "#                         elif (test[t][0][1] == 'PRP' or test[t][0][1] == 'NNP') and \\\n",
    "#                             (test[t][1][1] == 'VBP' or test[t][1][1] == 'NN' or test[t][1][1] == 'VBZ' or\\\n",
    "#                              test[t][1][1] == 'NNS' or test[t][1][1] == 'VBG' or test[t][1][1] == 'VBD'):\n",
    "#                             vis.append(test[t])\n",
    "\n",
    "#                         elif (test[t][0][1] == 'IN' or test[t][0][1] == 'DT') and (test[t][1][1] == 'NNP' or\\\n",
    "#                              test[t][1][1] == 'JJ' or test[t][1][1] == 'NN' or test[t][1][1] == 'RB' or\\\n",
    "#                             test[t][1][1] == 'VBZ' or test[t][1][1] == 'VBG' or test[t][1][1] == 'CD'):\n",
    "#                             vis.append(test[t])\n",
    "\n",
    "\n",
    "#                         elif (test[t][0][1] == 'IN' or test[t][0][1] == 'DT')  and test[t][1][1] == 'NNP' and\\\n",
    "#                             test[t][2][1] == 'VBZ':\n",
    "#                             vis.append(test[t])\n",
    "\n",
    "#                         else:\n",
    "#                             dialogue.append(test[t])\n",
    "      \n",
    "    \n",
    "#                         # SCript 21\n",
    "#                         if test[t][1][1] == 'NN' and test[t][2][1] == 'VBZ' or test[t][2][1] == 'VBG':\n",
    "#                                  vis.append(test[t])\n",
    "\n",
    "#                             elif (test[t][0][1] == 'VBN' or test[t][0][1] == 'VBG'):\n",
    "#                                 vis.append(test[t])\n",
    "\n",
    "\n",
    "#                             elif (test[t][0][1] == 'PRP' or test[t][0][1] == 'NNP') and \\\n",
    "#                                 (test[t][1][1] == 'NN' or test[t][1][1] == 'VBZ' or\\\n",
    "#                                  test[t][1][1] == 'NNS' or test[t][1][1] == 'VBG' or test[t][1][1] == 'VBD'):\n",
    "#                                 vis.append(test[t])\n",
    "\n",
    "#                             elif (test[t][0][1] == 'IN' or test[t][0][1] == 'DT') and (test[t][1][1] == 'NNP' or\\\n",
    "#                                  test[t][1][1] == 'JJ'  or test[t][1][1] == 'RB' or\\\n",
    "#                                 test[t][1][1] == 'VBZ' or test[t][1][1] == 'VBG' or test[t][1][1] == 'CD'):\n",
    "#                                 vis.append(test[t])\n",
    "\n",
    "\n",
    "#                             elif (test[t][0][1] == 'IN' or test[t][0][1] == 'DT')  and test[t][1][1] == 'NNP' and\\\n",
    "#                                 test[t][2][1] == 'VBZ':\n",
    "#                                 vis.append(test[t])\n",
    "\n",
    "#                             else:\n",
    "#                                 dialogue.append(test[t])\n",
    "\n",
    "\n",
    "\n",
    "#     return vis\n",
    "                        "
   ]
  },
  {
   "cell_type": "code",
   "execution_count": 77,
   "metadata": {},
   "outputs": [],
   "source": [
    "## OLD CLEANER --- OBSOLETE FUNCTIONS\n",
    "\n",
    "\n",
    "\n",
    "# titles = list(ACS['Title'])\n",
    "# def multi_clean(text, titles):\n",
    "#     for title in titles:\n",
    "#         if titles[0]:\n",
    "#             text = re.sub('\\n\\n\\\\x0c\\s+\\d+\\.','', text)\n",
    "#             text = re.sub('^\\s+','',text)\n",
    "#             text = re.sub('\\s+\\d\\.', '', text)\n",
    "#             text = re.sub('\\d\\.', '', text)\n",
    "#             text = re.sub('\\n\\s\\d+\\.\\n', ' ', text)\n",
    "#             text = re.sub(\"\\(CONTINUED:\\)|\\(CONTINUED\\)|CONTINUED:|COUNTINUOUS| CONTINUOUS|CONT'D|\\(CONT'D\\)\", ' ', text)\n",
    "#             text = re.sub('\\s+\\d', '', text)\n",
    "#             text = re.sub('\\(\\d+\\)', '', text)\n",
    "#             text = re.sub('\\d', '', text)\n",
    "#             text = re.sub(' +', ' ', text)\n",
    "#             text = re.sub('\\(MORE\\)', '', text)\n",
    "#             text = re.sub('\\(V\\.O\\.\\)|\\(O\\.S\\.\\)|\\(O\\.C\\.\\)| V.O.', '', text)\n",
    "#             text = re.sub(\"\\(CONT’D\\)|\\(CONT'D\\)|\\(CONT'D\\)|\\s\\(CONT'D\\)\\s+| (CONT’D)\",'',text)\n",
    "#             text = re.sub('\\n\\n\\\\x0c\\s+\\d+\\.','', text)\n",
    "#             text = re.sub('\\\\x0c','',text)\n",
    "#         elif titles[1]:\n",
    "#             text = re.sub(\"\\(CONT’D\\)|\\(CONT'D\\)|\\(CONT'D\\)|\\s\\(CONT'D\\)\\s+| (CONT’D)\",'',text)\n",
    "#             text = re.sub('\\n\\n\\\\x0c\\s+\\d+\\.','', text)\n",
    "#             text = re.sub('\\\\x0c','',text)\n",
    "#             text = re.sub('\\n*\\s+\\\\n+\\d+\\.', ' ', text)\n",
    "#             text = re.sub('\\d+\\.', '',text)\n",
    "#             text = re.sub(' +', ' ', text)\n",
    "#             text = re.sub('\\(V\\.O\\.\\)|\\(O\\.S\\.\\)|O\\.S\\.|V\\.O\\.|\\sV\\.O\\.', '', text)\n",
    "#             text = re.sub('[-/\\]', '', text)\n",
    "#         elif titles[2]:\n",
    "#             text = re.sub(r'14 FINAL SHOOTING SCRIPT  |\\n 12.17.14 FINAL SHOOTING SCRIPT \\d+\\.|\\n 12.17.14 FINAL SHOOTING SCRIPT |\\n+ \\d+ FINAL SHOOTING SCRIPT  \\n+', '', text)\n",
    "#             text = re.sub(\"\\(CONTINUED:\\)|\\s\\(CONT’D\\)\\n| \\(CONT’D\\) \\n|\\(CONTINUED\\)|CONTINUED:|COUNTINUOUS| CONTINUOUS|CONT'D|\\(CONT'D\\)| \\(CONT'D\\)|\\(CONT..\\d\\;D\\)\", ' ', text)\n",
    "#             text = re.sub('\\nPage \\d+\\/124', '', text)\n",
    "#             text = re.sub('\\n\\/Page', '', text)\n",
    "#             text = re.sub('\\\\x0c|\\\\x0c ', '', text)\n",
    "#             text = re.sub('\\d+\\.', '',text)\n",
    "#             text = re.sub('TITLES:', '', text)\n",
    "#             text = re.sub(' +', ' ', text)\n",
    "#             text = re.sub('\\(V\\.O\\.\\)|\\(O\\.S\\.\\)', '', text)\n",
    "#         elif titles[3]:\n",
    "#             text = re.sub('\\d+\\n+\\d+\\w\\n+\\d|\\n+\\d+', '', text)\n",
    "#             text = re.sub('\\n+\\\\x0c\\d+','', text)\n",
    "#             text = re.sub(\"\\(CONT’D\\)| \\(CONT'D\\)\",'', text)\n",
    "#             text = re.sub(' +', ' ', text)\n",
    "#             text = re.sub('\\(V\\.O\\.\\)|\\(O\\.S\\.\\)', '', text)\n",
    "#         elif titles[4]:\n",
    "#             text = re.sub('\\nPage \\d+\\/94', '', text)\n",
    "#             text = re.sub('\\\\x0c', '', text)\n",
    "#             text = re.sub('\\n\\d+\\.', '', text)\n",
    "#             text = re.sub(' +', ' ', text)\n",
    "#             text = re.sub('\\(V\\.O\\.\\)|\\(O\\.S\\.\\)', '', text)\n",
    "#         elif titles[5]:\n",
    "#             text = re.sub(\"\\(CONT’D\\)| \\(CONT'D\\)\",'', text)\n",
    "#             text = re.sub('\\\\x0c', ' ', text)\n",
    "#             text = re.sub('\\n\\d+\\.', ' ', text)\n",
    "#             text = re.sub(' +', ' ', text)\n",
    "#             text = re.sub('\\(V\\.O\\.\\)|\\(O\\.S\\.\\)', '', text)\n",
    "#         elif titles[6]:\n",
    "#             text = re.sub('^\\s', '', text)\n",
    "#             text = re.sub('\\\\x0c', ' ', text)\n",
    "#             text = re.sub('\\n\\d+\\.|\\n \\d+\\.', ' ', text)\n",
    "#             text = re.sub('\\(MORE\\)', '', text)\n",
    "#             text = re.sub(' +', ' ', text)\n",
    "#             text = re.sub('\\(V\\.O\\.\\)|\\(O\\.S\\.\\)', '', text)\n",
    "#         elif titles[7]:\n",
    "#             text  = re.sub('\\n\\*\\n', '', text)\n",
    "#             text = re.sub('\\\\x0c', ' ', text)\n",
    "#             text = re.sub('\\n +', ' ', text)\n",
    "#             text = re.sub(\"\\(CONT’D\\)| \\(CONT'D\\)| \\(CONT\\\\'D\\)\",'', text)\n",
    "#             text = re.sub('\\n\\d+\\.|\\n \\d+\\.', ' ', text)\n",
    "#             text = re.sub(' +', ' ', text)\n",
    "#             text = re.sub('\\(V\\.O\\.\\)|\\(O\\.S\\.\\)', '', text)\n",
    "#         elif titles[8]:\n",
    "#             text = re.sub('^\\s', '', text)\n",
    "#             text = re.sub('\\\\x0c\\d\\.', ' ', text)\n",
    "#             text = re.sub('\\\\x0c', ' ', text)\n",
    "#             text = re.sub(\"\\(CONT’D\\)| \\(CONT'D\\)| \\(CONT\\\\'D\\)\",'', text)\n",
    "#             text = re.sub('\\n\\d+|\\n\\d+\\.| \\d+\\n| \\d+\\.', '', text)\n",
    "#             text = re.sub(' +', ' ', text)\n",
    "#             text = re.sub('\\(V\\.O\\.\\)|\\(O\\.S\\.\\)', '', text)\n",
    "#         elif titles[9]:\n",
    "#             text = re.sub('\\nPage \\d+\\/152', '', text)\n",
    "#             text = re.sub('\\\\x0c', ' ', text)\n",
    "#             text = re.sub('\\n11/26/14', '', text)\n",
    "#             text = re.sub('\\d+\\.|\\d+', '', text)\n",
    "#             text = re.sub(\"\\(CONT\\’D\\)| \\(CONT\\'D\\)| \\(CONT\\'D\\)\\s+| \\(CONT\\\\'D\\)\",' ', text)\n",
    "#             text = re.sub('\\(V\\.O\\.\\)|\\(O\\.S\\.\\)|\\(O\\.C\\.\\)', '', text)\n",
    "#         elif titles[10]:\n",
    "#             text = re.sub('^\\n\\(\\)- ', '', text)\n",
    "#             text = re.sub('^\\n\\(d+\\)d+\\-d+ ', '', text)\n",
    "#             text = re.sub('\\\\x0c', ' ', text)\n",
    "#             text = re.sub('\\n\\d\\.| \\d\\.|\\n \\d+\\.|\\n\\d+\\.', '', text)\n",
    "#             text = re.sub(\"\\(CONT’D\\)| \\(CONT'D\\)| \\(CONT\\\\'D\\)\",' ', text)\n",
    "#             text = re.sub('\\(MORE\\)', '', text)\n",
    "#             text = re.sub('\\(V\\.O\\.\\)|\\(O\\.S\\.\\)', '', text)\n",
    "#         elif titles[11]:\n",
    "#             text = re.sub('\\\\x0c', ' ', text)\n",
    "#             text = re.sub('^\\s+', '', text)\n",
    "#             text = re.sub('^Films\\n+ \\d\\n\\n', '', text)\n",
    "#             text = re.sub(\"\\(CONT’D\\)| \\(CONT'D\\)| \\(CONT\\\\'D\\)\",' ', text)\n",
    "#             text = re.sub('\\n\\d\\.| \\d\\.|\\n \\d+\\.|\\n\\d+\\.| \\d\\n|\\n\\d|\\n\\d |\\n\\d\\n', '', text)\n",
    "#             text = re.sub('\\(V\\.O\\.\\)|\\(O\\.S\\.\\)', '', text)\n",
    "#         text = expand_contractions(text)\n",
    "#         return text\n",
    "    \n",
    "\n",
    "# ## Attempts at LookArounds\n",
    "    \n",
    "# def speaking_parts(text):\n",
    "#     speaking = []\n",
    "#     visual = []\n",
    "#     # split on combo of caps and new lines\n",
    "#     #text = re.split(\"\\\\n[A-Z]*\\s?\\\\n\", text)\n",
    "#     #for line in text:\n",
    "#         #if line.isupper() == True:\n",
    "#     pattern = re.compile('[A-Z]+.+[A-Z] \\n\\n(\\w.+\\.)(?= \\n\\n)')\n",
    "#     pattern2 = re.compile('[A-Z]+.+[A-Z]()(?= \\n\\n)')\n",
    "#     pattern3 = re.compile('(?<=\\n\\nVISUALS\\s)([A-Z]+.+)(?=\\n\\n)')\n",
    "#     pattern4 = re.compile('(?<=\\n\\nVISUALS\\s)([A-Z]+.+)(?=\\n)')\n",
    "#     pattern5 = re.compile('(?<=\\n\\nVISUALS\\s)([A-Z]+.+)(?=\\n)')\n",
    "#     pattern6 = re.compile('(?<=\\n\\n[A-Z] \\n\\n)(\\w+.+\\n+\\w.+)(?=\\.|\\?|\\!)')\n",
    "#     pattern7 = re.compile('(?<=\\n\\n\\DOROTHEA\\s\\n\\n)\\w.*\\w+')\n",
    "#     text = re.sub(' \\n', ' ', text)\n",
    "#     text = re.sub('\\n', '', text)\n",
    "#     text = re.sub('[)/\\-;(] ','', text)\n",
    "#     # gets all capital words\n",
    "#     vis = re.findall(pattern7, text)\n",
    "    \n",
    "#     #pattern_a = re.compile('(?<=\\n\\n[A-Z] \\n)(\\w.+\\w.)')\n",
    "#     #vis2 = re.findall()\n",
    "    \n",
    "\n",
    "#     return text\n",
    "\n",
    "\n",
    "\n",
    "# # Manual Cleaning\n",
    "\n",
    "# #def Manual_Clean(text):\n",
    "# visuals = []\n",
    "# for t in range(len(test)):\n",
    "#     if t == 3:\n",
    "#         vis = test[1:5]\n",
    "#         visuals.append(vis)\n",
    "#     if t == 5:\n",
    "        \n",
    "#         vis = test[0]\n",
    "#         visuals.append(vis)\n",
    "        \n",
    "\n",
    "# print (visuals)\n",
    "            "
   ]
  }
 ],
 "metadata": {
  "kernelspec": {
   "display_name": "Python 3",
   "language": "python",
   "name": "python3"
  },
  "language_info": {
   "codemirror_mode": {
    "name": "ipython",
    "version": 3
   },
   "file_extension": ".py",
   "mimetype": "text/x-python",
   "name": "python",
   "nbconvert_exporter": "python",
   "pygments_lexer": "ipython3",
   "version": "3.7.4"
  }
 },
 "nbformat": 4,
 "nbformat_minor": 2
}
