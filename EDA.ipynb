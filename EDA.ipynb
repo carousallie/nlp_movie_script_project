{
 "cells": [
  {
   "cell_type": "markdown",
   "metadata": {},
   "source": [
    "### Gathering Data\n",
    "\n",
    "Scrape PDFs from [gointothestory](https://gointothestory.blcklst.com/script-download-links-9313356d361c)\n",
    "\n",
    "Libraries for scraping PDF:\n",
    "- PDFQuery (https://www.reddit.com/r/Python/comments/4bnjha/scraping_pdf_files_with_python/)\n",
    "- PyPDF2 (https://www.reddit.com/r/learnpython/comments/7ti85j/scraping_numbers_from_a_pdf_table/)\n",
    "\n",
    "https://automatetheboringstuff.com/chapter13/\n",
    "\n",
    "https://medium.com/@umerfarooq_26378/python-for-pdf-ef0fac2808b0\n",
    "\n",
    "https://stackoverflow.com/questions/52683133/text-scraping-a-pdf-with-python-pdfquery"
   ]
  },
  {
   "cell_type": "code",
   "execution_count": null,
   "metadata": {},
   "outputs": [],
   "source": [
    "# locations are bolded, at least in Greenbook script"
   ]
  },
  {
   "cell_type": "code",
   "execution_count": 3,
   "metadata": {},
   "outputs": [],
   "source": [
    "# Import Libraries\n",
    "import pdfquery\n",
    "# !pip install pdfquery\n",
    "from lxml import etree"
   ]
  },
  {
   "cell_type": "code",
   "execution_count": 4,
   "metadata": {},
   "outputs": [],
   "source": [
    "PDF_FILE = './Scripts/1917.pdf'\n",
    "\n",
    "pdf = pdfquery.PDFQuery(PDF_FILE)\n",
    "pdf.load()"
   ]
  },
  {
   "cell_type": "code",
   "execution_count": 6,
   "metadata": {},
   "outputs": [
    {
     "data": {
      "text/plain": [
       "pdfquery.pdfquery.PDFQuery"
      ]
     },
     "execution_count": 6,
     "metadata": {},
     "output_type": "execute_result"
    }
   ],
   "source": [
    "type(pdf)"
   ]
  },
  {
   "cell_type": "code",
   "execution_count": 7,
   "metadata": {},
   "outputs": [
    {
     "data": {
      "text/plain": [
       "[<PDFPage: Resources={'ProcSet': [/'PDF', /'Text'], 'ColorSpace': {'Cs1': <PDFObjRef:7>}, 'Font': {'TT1': <PDFObjRef:8>}}, MediaBox=[0, 0, 612, 792]>,\n",
       " <PDFPage: Resources={'ProcSet': [/'PDF', /'Text'], 'ColorSpace': {'Cs1': <PDFObjRef:7>}, 'Font': {'TT2': <PDFObjRef:15>, 'TT1': <PDFObjRef:8>}}, MediaBox=[0, 0, 612, 792]>,\n",
       " <PDFPage: Resources={'ProcSet': [/'PDF', /'Text'], 'ColorSpace': {'Cs1': <PDFObjRef:7>}, 'Font': {'TT1': <PDFObjRef:8>}}, MediaBox=[0, 0, 612, 792]>,\n",
       " <PDFPage: Resources={'ProcSet': [/'PDF', /'Text'], 'ColorSpace': {'Cs1': <PDFObjRef:7>}, 'Font': {'TT3': <PDFObjRef:24>, 'TT1': <PDFObjRef:8>}}, MediaBox=[0, 0, 612, 792]>,\n",
       " <PDFPage: Resources={'ProcSet': [/'PDF', /'Text'], 'ColorSpace': {'Cs1': <PDFObjRef:7>}, 'Font': {'TT3': <PDFObjRef:24>, 'TT1': <PDFObjRef:8>}}, MediaBox=[0, 0, 612, 792]>,\n",
       " <PDFPage: Resources={'ProcSet': [/'PDF', /'Text'], 'ColorSpace': {'Cs1': <PDFObjRef:7>}, 'Font': {'TT3': <PDFObjRef:24>, 'TT1': <PDFObjRef:8>}}, MediaBox=[0, 0, 612, 792]>,\n",
       " <PDFPage: Resources={'ProcSet': [/'PDF', /'Text'], 'ColorSpace': {'Cs1': <PDFObjRef:7>}, 'Font': {'TT3': <PDFObjRef:24>, 'TT1': <PDFObjRef:8>}}, MediaBox=[0, 0, 612, 792]>,\n",
       " <PDFPage: Resources={'ProcSet': [/'PDF', /'Text'], 'ColorSpace': {'Cs1': <PDFObjRef:7>}, 'Font': {'TT3': <PDFObjRef:24>, 'TT1': <PDFObjRef:8>}}, MediaBox=[0, 0, 612, 792]>,\n",
       " <PDFPage: Resources={'ProcSet': [/'PDF', /'Text'], 'ColorSpace': {'Cs1': <PDFObjRef:7>}, 'Font': {'TT3': <PDFObjRef:24>, 'TT1': <PDFObjRef:8>}}, MediaBox=[0, 0, 612, 792]>,\n",
       " <PDFPage: Resources={'ProcSet': [/'PDF', /'Text'], 'ColorSpace': {'Cs1': <PDFObjRef:7>}, 'Font': {'TT3': <PDFObjRef:24>, 'TT1': <PDFObjRef:8>}}, MediaBox=[0, 0, 612, 792]>,\n",
       " <PDFPage: Resources={'ProcSet': [/'PDF', /'Text'], 'ColorSpace': {'Cs1': <PDFObjRef:7>}, 'Font': {'TT3': <PDFObjRef:24>, 'TT1': <PDFObjRef:8>}}, MediaBox=[0, 0, 612, 792]>,\n",
       " <PDFPage: Resources={'ProcSet': [/'PDF', /'Text'], 'ColorSpace': {'Cs1': <PDFObjRef:7>}, 'Font': {'TT2': <PDFObjRef:15>, 'TT3': <PDFObjRef:24>, 'TT1': <PDFObjRef:8>}}, MediaBox=[0, 0, 612, 792]>,\n",
       " <PDFPage: Resources={'ProcSet': [/'PDF', /'Text'], 'ColorSpace': {'Cs1': <PDFObjRef:7>}, 'Font': {'TT2': <PDFObjRef:15>, 'TT3': <PDFObjRef:24>, 'TT1': <PDFObjRef:8>}}, MediaBox=[0, 0, 612, 792]>,\n",
       " <PDFPage: Resources={'ProcSet': [/'PDF', /'Text'], 'ColorSpace': {'Cs1': <PDFObjRef:7>}, 'Font': {'TT2': <PDFObjRef:15>, 'TT3': <PDFObjRef:24>, 'TT1': <PDFObjRef:8>}}, MediaBox=[0, 0, 612, 792]>,\n",
       " <PDFPage: Resources={'ProcSet': [/'PDF', /'Text'], 'ColorSpace': {'Cs1': <PDFObjRef:7>}, 'Font': {'TT2': <PDFObjRef:15>, 'TT3': <PDFObjRef:24>, 'TT1': <PDFObjRef:8>}}, MediaBox=[0, 0, 612, 792]>,\n",
       " <PDFPage: Resources={'ProcSet': [/'PDF', /'Text'], 'ColorSpace': {'Cs1': <PDFObjRef:7>}, 'Font': {'TT2': <PDFObjRef:15>, 'TT3': <PDFObjRef:24>, 'TT1': <PDFObjRef:8>}}, MediaBox=[0, 0, 612, 792]>,\n",
       " <PDFPage: Resources={'ProcSet': [/'PDF', /'Text'], 'ColorSpace': {'Cs1': <PDFObjRef:7>}, 'Font': {'TT3': <PDFObjRef:24>, 'TT1': <PDFObjRef:8>}}, MediaBox=[0, 0, 612, 792]>,\n",
       " <PDFPage: Resources={'ProcSet': [/'PDF', /'Text'], 'ColorSpace': {'Cs1': <PDFObjRef:7>}, 'Font': {'TT3': <PDFObjRef:24>, 'TT1': <PDFObjRef:8>}}, MediaBox=[0, 0, 612, 792]>,\n",
       " <PDFPage: Resources={'ProcSet': [/'PDF', /'Text'], 'ColorSpace': {'Cs1': <PDFObjRef:7>}, 'Font': {'TT3': <PDFObjRef:24>, 'TT1': <PDFObjRef:8>}}, MediaBox=[0, 0, 612, 792]>,\n",
       " <PDFPage: Resources={'ProcSet': [/'PDF', /'Text'], 'ColorSpace': {'Cs1': <PDFObjRef:7>}, 'Font': {'TT3': <PDFObjRef:24>, 'TT1': <PDFObjRef:8>}}, MediaBox=[0, 0, 612, 792]>,\n",
       " <PDFPage: Resources={'ProcSet': [/'PDF', /'Text'], 'ColorSpace': {'Cs1': <PDFObjRef:7>}, 'Font': {'TT2': <PDFObjRef:15>, 'TT3': <PDFObjRef:24>, 'TT1': <PDFObjRef:8>}}, MediaBox=[0, 0, 612, 792]>,\n",
       " <PDFPage: Resources={'ProcSet': [/'PDF', /'Text'], 'ColorSpace': {'Cs1': <PDFObjRef:7>}, 'Font': {'TT3': <PDFObjRef:24>, 'TT1': <PDFObjRef:8>}}, MediaBox=[0, 0, 612, 792]>,\n",
       " <PDFPage: Resources={'ProcSet': [/'PDF', /'Text'], 'ColorSpace': {'Cs1': <PDFObjRef:7>}, 'Font': {'TT3': <PDFObjRef:24>, 'TT1': <PDFObjRef:8>}}, MediaBox=[0, 0, 612, 792]>,\n",
       " <PDFPage: Resources={'ProcSet': [/'PDF', /'Text'], 'ColorSpace': {'Cs1': <PDFObjRef:7>}, 'Font': {'TT3': <PDFObjRef:24>, 'TT1': <PDFObjRef:8>}}, MediaBox=[0, 0, 612, 792]>,\n",
       " <PDFPage: Resources={'ProcSet': [/'PDF', /'Text'], 'ColorSpace': {'Cs1': <PDFObjRef:7>}, 'Font': {'TT3': <PDFObjRef:24>, 'TT1': <PDFObjRef:8>}}, MediaBox=[0, 0, 612, 792]>,\n",
       " <PDFPage: Resources={'ProcSet': [/'PDF', /'Text'], 'ColorSpace': {'Cs1': <PDFObjRef:7>}, 'Font': {'TT2': <PDFObjRef:15>, 'TT3': <PDFObjRef:24>, 'TT1': <PDFObjRef:8>}}, MediaBox=[0, 0, 612, 792]>,\n",
       " <PDFPage: Resources={'ProcSet': [/'PDF', /'Text'], 'ColorSpace': {'Cs1': <PDFObjRef:7>}, 'Font': {'TT3': <PDFObjRef:24>, 'TT1': <PDFObjRef:8>}}, MediaBox=[0, 0, 612, 792]>,\n",
       " <PDFPage: Resources={'ProcSet': [/'PDF', /'Text'], 'ColorSpace': {'Cs1': <PDFObjRef:7>}, 'Font': {'TT3': <PDFObjRef:24>, 'TT1': <PDFObjRef:8>}}, MediaBox=[0, 0, 612, 792]>,\n",
       " <PDFPage: Resources={'ProcSet': [/'PDF', /'Text'], 'ColorSpace': {'Cs1': <PDFObjRef:7>}, 'Font': {'TT3': <PDFObjRef:24>, 'TT1': <PDFObjRef:8>}}, MediaBox=[0, 0, 612, 792]>,\n",
       " <PDFPage: Resources={'ProcSet': [/'PDF', /'Text'], 'ColorSpace': {'Cs1': <PDFObjRef:7>}, 'Font': {'TT3': <PDFObjRef:24>, 'TT1': <PDFObjRef:8>}}, MediaBox=[0, 0, 612, 792]>,\n",
       " <PDFPage: Resources={'ProcSet': [/'PDF', /'Text'], 'ColorSpace': {'Cs1': <PDFObjRef:7>}, 'Font': {'TT3': <PDFObjRef:24>, 'TT1': <PDFObjRef:8>}}, MediaBox=[0, 0, 612, 792]>,\n",
       " <PDFPage: Resources={'ProcSet': [/'PDF', /'Text'], 'ColorSpace': {'Cs1': <PDFObjRef:7>}, 'Font': {'TT3': <PDFObjRef:24>, 'TT1': <PDFObjRef:8>}}, MediaBox=[0, 0, 612, 792]>,\n",
       " <PDFPage: Resources={'ProcSet': [/'PDF', /'Text'], 'ColorSpace': {'Cs1': <PDFObjRef:7>}, 'Font': {'TT3': <PDFObjRef:24>, 'TT1': <PDFObjRef:8>}}, MediaBox=[0, 0, 612, 792]>,\n",
       " <PDFPage: Resources={'ProcSet': [/'PDF', /'Text'], 'ColorSpace': {'Cs1': <PDFObjRef:7>}, 'Font': {'TT3': <PDFObjRef:24>, 'TT1': <PDFObjRef:8>}}, MediaBox=[0, 0, 612, 792]>,\n",
       " <PDFPage: Resources={'ProcSet': [/'PDF', /'Text'], 'ColorSpace': {'Cs1': <PDFObjRef:7>}, 'Font': {'TT3': <PDFObjRef:24>, 'TT1': <PDFObjRef:8>}}, MediaBox=[0, 0, 612, 792]>,\n",
       " <PDFPage: Resources={'ProcSet': [/'PDF', /'Text'], 'ColorSpace': {'Cs1': <PDFObjRef:7>}, 'Font': {'TT3': <PDFObjRef:24>, 'TT1': <PDFObjRef:8>}}, MediaBox=[0, 0, 612, 792]>,\n",
       " <PDFPage: Resources={'ProcSet': [/'PDF', /'Text'], 'ColorSpace': {'Cs1': <PDFObjRef:7>}, 'Font': {'TT3': <PDFObjRef:24>, 'TT1': <PDFObjRef:8>}}, MediaBox=[0, 0, 612, 792]>,\n",
       " <PDFPage: Resources={'ProcSet': [/'PDF', /'Text'], 'ColorSpace': {'Cs1': <PDFObjRef:7>}, 'Font': {'TT3': <PDFObjRef:24>, 'TT1': <PDFObjRef:8>}}, MediaBox=[0, 0, 612, 792]>,\n",
       " <PDFPage: Resources={'ProcSet': [/'PDF', /'Text'], 'ColorSpace': {'Cs1': <PDFObjRef:7>}, 'Font': {'TT3': <PDFObjRef:24>, 'TT1': <PDFObjRef:8>}}, MediaBox=[0, 0, 612, 792]>,\n",
       " <PDFPage: Resources={'ProcSet': [/'PDF', /'Text'], 'ColorSpace': {'Cs1': <PDFObjRef:7>}, 'Font': {'TT3': <PDFObjRef:24>, 'TT1': <PDFObjRef:8>}}, MediaBox=[0, 0, 612, 792]>,\n",
       " <PDFPage: Resources={'ProcSet': [/'PDF', /'Text'], 'ColorSpace': {'Cs1': <PDFObjRef:7>}, 'Font': {'TT2': <PDFObjRef:15>, 'TT3': <PDFObjRef:24>, 'TT1': <PDFObjRef:8>}}, MediaBox=[0, 0, 612, 792]>,\n",
       " <PDFPage: Resources={'ProcSet': [/'PDF', /'Text'], 'ColorSpace': {'Cs1': <PDFObjRef:7>}, 'Font': {'TT3': <PDFObjRef:24>, 'TT1': <PDFObjRef:8>}}, MediaBox=[0, 0, 612, 792]>,\n",
       " <PDFPage: Resources={'ProcSet': [/'PDF', /'Text'], 'ColorSpace': {'Cs1': <PDFObjRef:7>}, 'Font': {'TT3': <PDFObjRef:24>, 'TT1': <PDFObjRef:8>}}, MediaBox=[0, 0, 612, 792]>,\n",
       " <PDFPage: Resources={'ProcSet': [/'PDF', /'Text'], 'ColorSpace': {'Cs1': <PDFObjRef:7>}, 'Font': {'TT2': <PDFObjRef:15>, 'TT3': <PDFObjRef:24>, 'TT1': <PDFObjRef:8>}}, MediaBox=[0, 0, 612, 792]>,\n",
       " <PDFPage: Resources={'ProcSet': [/'PDF', /'Text'], 'ColorSpace': {'Cs1': <PDFObjRef:7>}, 'Font': {'TT2': <PDFObjRef:15>, 'TT3': <PDFObjRef:24>, 'TT1': <PDFObjRef:8>}}, MediaBox=[0, 0, 612, 792]>,\n",
       " <PDFPage: Resources={'ProcSet': [/'PDF', /'Text'], 'ColorSpace': {'Cs1': <PDFObjRef:7>}, 'Font': {'TT3': <PDFObjRef:24>, 'TT1': <PDFObjRef:8>}}, MediaBox=[0, 0, 612, 792]>,\n",
       " <PDFPage: Resources={'ProcSet': [/'PDF', /'Text'], 'ColorSpace': {'Cs1': <PDFObjRef:7>}, 'Font': {'TT3': <PDFObjRef:24>, 'TT1': <PDFObjRef:8>}}, MediaBox=[0, 0, 612, 792]>,\n",
       " <PDFPage: Resources={'ProcSet': [/'PDF', /'Text'], 'ColorSpace': {'Cs1': <PDFObjRef:7>}, 'Font': {'TT3': <PDFObjRef:24>, 'TT1': <PDFObjRef:8>}}, MediaBox=[0, 0, 612, 792]>,\n",
       " <PDFPage: Resources={'ProcSet': [/'PDF', /'Text'], 'ColorSpace': {'Cs1': <PDFObjRef:7>}, 'Font': {'TT3': <PDFObjRef:24>, 'TT1': <PDFObjRef:8>}}, MediaBox=[0, 0, 612, 792]>,\n",
       " <PDFPage: Resources={'ProcSet': [/'PDF', /'Text'], 'ColorSpace': {'Cs1': <PDFObjRef:7>}, 'Font': {'TT3': <PDFObjRef:24>, 'TT1': <PDFObjRef:8>}}, MediaBox=[0, 0, 612, 792]>,\n",
       " <PDFPage: Resources={'ProcSet': [/'PDF', /'Text'], 'ColorSpace': {'Cs1': <PDFObjRef:7>}, 'Font': {'TT3': <PDFObjRef:24>, 'TT1': <PDFObjRef:8>}}, MediaBox=[0, 0, 612, 792]>,\n",
       " <PDFPage: Resources={'ProcSet': [/'PDF', /'Text'], 'ColorSpace': {'Cs1': <PDFObjRef:7>}, 'Font': {'TT3': <PDFObjRef:24>, 'TT1': <PDFObjRef:8>}}, MediaBox=[0, 0, 612, 792]>,\n",
       " <PDFPage: Resources={'ProcSet': [/'PDF', /'Text'], 'ColorSpace': {'Cs1': <PDFObjRef:7>}, 'Font': {'TT3': <PDFObjRef:24>, 'TT1': <PDFObjRef:8>}}, MediaBox=[0, 0, 612, 792]>,\n",
       " <PDFPage: Resources={'ProcSet': [/'PDF', /'Text'], 'ColorSpace': {'Cs1': <PDFObjRef:7>}, 'Font': {'TT2': <PDFObjRef:15>, 'TT3': <PDFObjRef:24>, 'TT1': <PDFObjRef:8>}}, MediaBox=[0, 0, 612, 792]>,\n",
       " <PDFPage: Resources={'ProcSet': [/'PDF', /'Text'], 'ColorSpace': {'Cs1': <PDFObjRef:7>}, 'Font': {'TT2': <PDFObjRef:15>, 'TT3': <PDFObjRef:24>, 'TT1': <PDFObjRef:8>}}, MediaBox=[0, 0, 612, 792]>,\n",
       " <PDFPage: Resources={'ProcSet': [/'PDF', /'Text'], 'ColorSpace': {'Cs1': <PDFObjRef:7>}, 'Font': {'TT3': <PDFObjRef:24>, 'TT1': <PDFObjRef:8>}}, MediaBox=[0, 0, 612, 792]>,\n",
       " <PDFPage: Resources={'ProcSet': [/'PDF', /'Text'], 'ColorSpace': {'Cs1': <PDFObjRef:7>}, 'Font': {'TT3': <PDFObjRef:24>, 'TT1': <PDFObjRef:8>}}, MediaBox=[0, 0, 612, 792]>,\n",
       " <PDFPage: Resources={'ProcSet': [/'PDF', /'Text'], 'ColorSpace': {'Cs1': <PDFObjRef:7>}, 'Font': {'TT3': <PDFObjRef:24>, 'TT1': <PDFObjRef:8>}}, MediaBox=[0, 0, 612, 792]>,\n",
       " <PDFPage: Resources={'ProcSet': [/'PDF', /'Text'], 'ColorSpace': {'Cs1': <PDFObjRef:7>}, 'Font': {'TT3': <PDFObjRef:24>, 'TT1': <PDFObjRef:8>}}, MediaBox=[0, 0, 612, 792]>,\n",
       " <PDFPage: Resources={'ProcSet': [/'PDF', /'Text'], 'ColorSpace': {'Cs1': <PDFObjRef:7>}, 'Font': {'TT2': <PDFObjRef:15>, 'TT3': <PDFObjRef:24>, 'TT1': <PDFObjRef:8>}}, MediaBox=[0, 0, 612, 792]>,\n",
       " <PDFPage: Resources={'ProcSet': [/'PDF', /'Text'], 'ColorSpace': {'Cs1': <PDFObjRef:7>}, 'Font': {'TT3': <PDFObjRef:24>, 'TT1': <PDFObjRef:8>}}, MediaBox=[0, 0, 612, 792]>,\n",
       " <PDFPage: Resources={'ProcSet': [/'PDF', /'Text'], 'ColorSpace': {'Cs1': <PDFObjRef:7>}, 'Font': {'TT3': <PDFObjRef:24>, 'TT1': <PDFObjRef:8>}}, MediaBox=[0, 0, 612, 792]>,\n",
       " <PDFPage: Resources={'ProcSet': [/'PDF', /'Text'], 'ColorSpace': {'Cs1': <PDFObjRef:7>}, 'Font': {'TT3': <PDFObjRef:24>, 'TT1': <PDFObjRef:8>}}, MediaBox=[0, 0, 612, 792]>,\n",
       " <PDFPage: Resources={'ProcSet': [/'PDF', /'Text'], 'ColorSpace': {'Cs1': <PDFObjRef:7>}, 'Font': {'TT3': <PDFObjRef:24>, 'TT1': <PDFObjRef:8>}}, MediaBox=[0, 0, 612, 792]>,\n",
       " <PDFPage: Resources={'ProcSet': [/'PDF', /'Text'], 'ColorSpace': {'Cs1': <PDFObjRef:7>}, 'Font': {'TT3': <PDFObjRef:24>, 'TT1': <PDFObjRef:8>}}, MediaBox=[0, 0, 612, 792]>,\n",
       " <PDFPage: Resources={'ProcSet': [/'PDF', /'Text'], 'ColorSpace': {'Cs1': <PDFObjRef:7>}, 'Font': {'TT3': <PDFObjRef:24>, 'TT1': <PDFObjRef:8>}}, MediaBox=[0, 0, 612, 792]>,\n",
       " <PDFPage: Resources={'ProcSet': [/'PDF', /'Text'], 'ColorSpace': {'Cs1': <PDFObjRef:7>}, 'Font': {'TT2': <PDFObjRef:15>, 'TT3': <PDFObjRef:24>, 'TT1': <PDFObjRef:8>}}, MediaBox=[0, 0, 612, 792]>,\n",
       " <PDFPage: Resources={'ProcSet': [/'PDF', /'Text'], 'ColorSpace': {'Cs1': <PDFObjRef:7>}, 'Font': {'TT3': <PDFObjRef:24>, 'TT1': <PDFObjRef:8>}}, MediaBox=[0, 0, 612, 792]>,\n",
       " <PDFPage: Resources={'ProcSet': [/'PDF', /'Text'], 'ColorSpace': {'Cs1': <PDFObjRef:7>}, 'Font': {'TT3': <PDFObjRef:24>, 'TT1': <PDFObjRef:8>}}, MediaBox=[0, 0, 612, 792]>,\n",
       " <PDFPage: Resources={'ProcSet': [/'PDF', /'Text'], 'ColorSpace': {'Cs1': <PDFObjRef:7>}, 'Font': {'TT3': <PDFObjRef:24>, 'TT1': <PDFObjRef:8>}}, MediaBox=[0, 0, 612, 792]>,\n",
       " <PDFPage: Resources={'ProcSet': [/'PDF', /'Text'], 'ColorSpace': {'Cs1': <PDFObjRef:7>}, 'Font': {'TT3': <PDFObjRef:24>, 'TT1': <PDFObjRef:8>}}, MediaBox=[0, 0, 612, 792]>,\n",
       " <PDFPage: Resources={'ProcSet': [/'PDF', /'Text'], 'ColorSpace': {'Cs1': <PDFObjRef:7>}, 'Font': {'TT3': <PDFObjRef:24>, 'TT1': <PDFObjRef:8>}}, MediaBox=[0, 0, 612, 792]>,\n",
       " <PDFPage: Resources={'ProcSet': [/'PDF', /'Text'], 'ColorSpace': {'Cs1': <PDFObjRef:7>}, 'Font': {'TT3': <PDFObjRef:24>, 'TT1': <PDFObjRef:8>}}, MediaBox=[0, 0, 612, 792]>,\n",
       " <PDFPage: Resources={'ProcSet': [/'PDF', /'Text'], 'ColorSpace': {'Cs1': <PDFObjRef:7>}, 'Font': {'TT2': <PDFObjRef:15>, 'TT3': <PDFObjRef:24>, 'TT1': <PDFObjRef:8>}}, MediaBox=[0, 0, 612, 792]>,\n",
       " <PDFPage: Resources={'ProcSet': [/'PDF', /'Text'], 'ColorSpace': {'Cs1': <PDFObjRef:7>}, 'Font': {'TT3': <PDFObjRef:24>, 'TT1': <PDFObjRef:8>}}, MediaBox=[0, 0, 612, 792]>,\n",
       " <PDFPage: Resources={'ProcSet': [/'PDF', /'Text'], 'ColorSpace': {'Cs1': <PDFObjRef:7>}, 'Font': {'TT2': <PDFObjRef:15>, 'TT3': <PDFObjRef:24>, 'TT1': <PDFObjRef:8>}}, MediaBox=[0, 0, 612, 792]>,\n",
       " <PDFPage: Resources={'ProcSet': [/'PDF', /'Text'], 'ColorSpace': {'Cs1': <PDFObjRef:7>}, 'Font': {'TT3': <PDFObjRef:24>, 'TT1': <PDFObjRef:8>}}, MediaBox=[0, 0, 612, 792]>,\n",
       " <PDFPage: Resources={'ProcSet': [/'PDF', /'Text'], 'ColorSpace': {'Cs1': <PDFObjRef:7>}, 'Font': {'TT3': <PDFObjRef:24>, 'TT1': <PDFObjRef:8>}}, MediaBox=[0, 0, 612, 792]>,\n",
       " <PDFPage: Resources={'ProcSet': [/'PDF', /'Text'], 'ColorSpace': {'Cs1': <PDFObjRef:7>}, 'Font': {'TT3': <PDFObjRef:24>, 'TT1': <PDFObjRef:8>}}, MediaBox=[0, 0, 612, 792]>,\n",
       " <PDFPage: Resources={'ProcSet': [/'PDF', /'Text'], 'ColorSpace': {'Cs1': <PDFObjRef:7>}, 'Font': {'TT3': <PDFObjRef:24>, 'TT1': <PDFObjRef:8>}}, MediaBox=[0, 0, 612, 792]>,\n",
       " <PDFPage: Resources={'ProcSet': [/'PDF', /'Text'], 'ColorSpace': {'Cs1': <PDFObjRef:7>}, 'Font': {'TT3': <PDFObjRef:24>, 'TT1': <PDFObjRef:8>}}, MediaBox=[0, 0, 612, 792]>,\n",
       " <PDFPage: Resources={'ProcSet': [/'PDF', /'Text'], 'ColorSpace': {'Cs1': <PDFObjRef:7>}, 'Font': {'TT3': <PDFObjRef:24>, 'TT1': <PDFObjRef:8>}}, MediaBox=[0, 0, 612, 792]>,\n",
       " <PDFPage: Resources={'ProcSet': [/'PDF', /'Text'], 'ColorSpace': {'Cs1': <PDFObjRef:7>}, 'Font': {'TT3': <PDFObjRef:24>, 'TT1': <PDFObjRef:8>}}, MediaBox=[0, 0, 612, 792]>,\n",
       " <PDFPage: Resources={'ProcSet': [/'PDF', /'Text'], 'ColorSpace': {'Cs1': <PDFObjRef:7>}, 'Font': {'TT3': <PDFObjRef:24>, 'TT1': <PDFObjRef:8>}}, MediaBox=[0, 0, 612, 792]>,\n",
       " <PDFPage: Resources={'ProcSet': [/'PDF', /'Text'], 'ColorSpace': {'Cs1': <PDFObjRef:7>}, 'Font': {'TT2': <PDFObjRef:15>, 'TT3': <PDFObjRef:24>, 'TT1': <PDFObjRef:8>}}, MediaBox=[0, 0, 612, 792]>,\n",
       " <PDFPage: Resources={'ProcSet': [/'PDF', /'Text'], 'ColorSpace': {'Cs1': <PDFObjRef:7>}, 'Font': {'TT2': <PDFObjRef:15>, 'TT3': <PDFObjRef:24>, 'TT1': <PDFObjRef:8>}}, MediaBox=[0, 0, 612, 792]>,\n",
       " <PDFPage: Resources={'ProcSet': [/'PDF', /'Text'], 'ColorSpace': {'Cs1': <PDFObjRef:7>}, 'Font': {'TT2': <PDFObjRef:15>, 'TT3': <PDFObjRef:24>, 'TT1': <PDFObjRef:8>}}, MediaBox=[0, 0, 612, 792]>,\n",
       " <PDFPage: Resources={'ProcSet': [/'PDF', /'Text'], 'ColorSpace': {'Cs1': <PDFObjRef:7>}, 'Font': {'TT2': <PDFObjRef:15>, 'TT3': <PDFObjRef:24>, 'TT1': <PDFObjRef:8>}}, MediaBox=[0, 0, 612, 792]>,\n",
       " <PDFPage: Resources={'ProcSet': [/'PDF', /'Text'], 'ColorSpace': {'Cs1': <PDFObjRef:7>}, 'Font': {'TT2': <PDFObjRef:15>, 'TT3': <PDFObjRef:24>, 'TT1': <PDFObjRef:8>}}, MediaBox=[0, 0, 612, 792]>,\n",
       " <PDFPage: Resources={'ProcSet': [/'PDF', /'Text'], 'ColorSpace': {'Cs1': <PDFObjRef:7>}, 'Font': {'TT2': <PDFObjRef:15>, 'TT3': <PDFObjRef:24>, 'TT1': <PDFObjRef:8>}}, MediaBox=[0, 0, 612, 792]>,\n",
       " <PDFPage: Resources={'ProcSet': [/'PDF', /'Text'], 'ColorSpace': {'Cs1': <PDFObjRef:7>}, 'Font': {'TT3': <PDFObjRef:24>, 'TT1': <PDFObjRef:8>}}, MediaBox=[0, 0, 612, 792]>,\n",
       " <PDFPage: Resources={'ProcSet': [/'PDF', /'Text'], 'ColorSpace': {'Cs1': <PDFObjRef:7>}, 'Font': {'TT2': <PDFObjRef:15>, 'TT3': <PDFObjRef:24>, 'TT1': <PDFObjRef:8>}}, MediaBox=[0, 0, 612, 792]>,\n",
       " <PDFPage: Resources={'ProcSet': [/'PDF', /'Text'], 'ColorSpace': {'Cs1': <PDFObjRef:7>}, 'Font': {'TT2': <PDFObjRef:15>, 'TT3': <PDFObjRef:24>, 'TT1': <PDFObjRef:8>}}, MediaBox=[0, 0, 612, 792]>,\n",
       " <PDFPage: Resources={'ProcSet': [/'PDF', /'Text'], 'ColorSpace': {'Cs1': <PDFObjRef:7>}, 'Font': {'TT2': <PDFObjRef:15>, 'TT3': <PDFObjRef:24>, 'TT1': <PDFObjRef:8>}}, MediaBox=[0, 0, 612, 792]>,\n",
       " <PDFPage: Resources={'ProcSet': [/'PDF', /'Text'], 'ColorSpace': {'Cs1': <PDFObjRef:7>}, 'Font': {'TT3': <PDFObjRef:24>, 'TT1': <PDFObjRef:8>}}, MediaBox=[0, 0, 612, 792]>,\n",
       " <PDFPage: Resources={'ProcSet': [/'PDF', /'Text'], 'ColorSpace': {'Cs1': <PDFObjRef:7>}, 'Font': {'TT3': <PDFObjRef:24>, 'TT1': <PDFObjRef:8>}}, MediaBox=[0, 0, 612, 792]>,\n",
       " <PDFPage: Resources={'ProcSet': [/'PDF', /'Text'], 'ColorSpace': {'Cs1': <PDFObjRef:7>}, 'Font': {'TT3': <PDFObjRef:24>, 'TT1': <PDFObjRef:8>}}, MediaBox=[0, 0, 612, 792]>,\n",
       " <PDFPage: Resources={'ProcSet': [/'PDF', /'Text'], 'ColorSpace': {'Cs1': <PDFObjRef:7>}, 'Font': {'TT2': <PDFObjRef:15>, 'TT3': <PDFObjRef:24>, 'TT1': <PDFObjRef:8>}}, MediaBox=[0, 0, 612, 792]>,\n",
       " <PDFPage: Resources={'ProcSet': [/'PDF', /'Text'], 'ColorSpace': {'Cs1': <PDFObjRef:7>}, 'Font': {'TT3': <PDFObjRef:24>, 'TT1': <PDFObjRef:8>}}, MediaBox=[0, 0, 612, 792]>,\n",
       " <PDFPage: Resources={'ProcSet': [/'PDF', /'Text'], 'ColorSpace': {'Cs1': <PDFObjRef:7>}, 'Font': {'TT2': <PDFObjRef:15>, 'TT3': <PDFObjRef:24>, 'TT1': <PDFObjRef:8>}}, MediaBox=[0, 0, 612, 792]>,\n",
       " <PDFPage: Resources={'ProcSet': [/'PDF', /'Text'], 'ColorSpace': {'Cs1': <PDFObjRef:7>}, 'Font': {'TT3': <PDFObjRef:24>, 'TT1': <PDFObjRef:8>}}, MediaBox=[0, 0, 612, 792]>,\n",
       " <PDFPage: Resources={'ProcSet': [/'PDF', /'Text'], 'ColorSpace': {'Cs1': <PDFObjRef:7>}, 'Font': {'TT3': <PDFObjRef:24>, 'TT1': <PDFObjRef:8>}}, MediaBox=[0, 0, 612, 792]>,\n",
       " <PDFPage: Resources={'ProcSet': [/'PDF', /'Text'], 'ColorSpace': {'Cs1': <PDFObjRef:7>}, 'Font': {'TT2': <PDFObjRef:15>, 'TT3': <PDFObjRef:24>, 'TT1': <PDFObjRef:8>}}, MediaBox=[0, 0, 612, 792]>,\n",
       " <PDFPage: Resources={'ProcSet': [/'PDF', /'Text'], 'ColorSpace': {'Cs1': <PDFObjRef:7>}, 'Font': {'TT3': <PDFObjRef:24>, 'TT1': <PDFObjRef:8>}}, MediaBox=[0, 0, 612, 792]>,\n",
       " <PDFPage: Resources={'ProcSet': [/'PDF', /'Text'], 'ColorSpace': {'Cs1': <PDFObjRef:7>}, 'Font': {'TT3': <PDFObjRef:24>, 'TT1': <PDFObjRef:8>}}, MediaBox=[0, 0, 612, 792]>,\n",
       " <PDFPage: Resources={'ProcSet': [/'PDF', /'Text'], 'ColorSpace': {'Cs1': <PDFObjRef:7>}, 'Font': {'TT3': <PDFObjRef:24>, 'TT1': <PDFObjRef:8>}}, MediaBox=[0, 0, 612, 792]>,\n",
       " <PDFPage: Resources={'ProcSet': [/'PDF', /'Text'], 'ColorSpace': {'Cs1': <PDFObjRef:7>}, 'Font': {'TT3': <PDFObjRef:24>, 'TT1': <PDFObjRef:8>}}, MediaBox=[0, 0, 612, 792]>,\n",
       " <PDFPage: Resources={'ProcSet': [/'PDF', /'Text'], 'ColorSpace': {'Cs1': <PDFObjRef:7>}, 'Font': {'TT3': <PDFObjRef:24>, 'TT1': <PDFObjRef:8>}}, MediaBox=[0, 0, 612, 792]>,\n",
       " <PDFPage: Resources={'ProcSet': [/'PDF', /'Text'], 'ColorSpace': {'Cs1': <PDFObjRef:7>}, 'Font': {'TT3': <PDFObjRef:24>, 'TT1': <PDFObjRef:8>}}, MediaBox=[0, 0, 612, 792]>,\n",
       " <PDFPage: Resources={'ProcSet': [/'PDF', /'Text'], 'ColorSpace': {'Cs1': <PDFObjRef:7>}, 'Font': {'TT3': <PDFObjRef:24>, 'TT1': <PDFObjRef:8>}}, MediaBox=[0, 0, 612, 792]>,\n",
       " <PDFPage: Resources={'ProcSet': [/'PDF', /'Text'], 'ColorSpace': {'Cs1': <PDFObjRef:7>}, 'Font': {'TT3': <PDFObjRef:24>, 'TT1': <PDFObjRef:8>}}, MediaBox=[0, 0, 612, 792]>,\n",
       " <PDFPage: Resources={'ProcSet': [/'PDF', /'Text'], 'ColorSpace': {'Cs1': <PDFObjRef:7>}, 'Font': {'TT3': <PDFObjRef:24>, 'TT1': <PDFObjRef:8>}}, MediaBox=[0, 0, 612, 792]>,\n",
       " <PDFPage: Resources={'ProcSet': [/'PDF', /'Text'], 'ColorSpace': {'Cs1': <PDFObjRef:7>}, 'Font': {'TT2': <PDFObjRef:15>, 'TT3': <PDFObjRef:24>, 'TT1': <PDFObjRef:8>}}, MediaBox=[0, 0, 612, 792]>,\n",
       " <PDFPage: Resources={'ProcSet': [/'PDF', /'Text'], 'ColorSpace': {'Cs1': <PDFObjRef:7>}, 'Font': {'TT3': <PDFObjRef:24>, 'TT1': <PDFObjRef:8>}}, MediaBox=[0, 0, 612, 792]>,\n",
       " <PDFPage: Resources={'ProcSet': [/'PDF', /'Text'], 'ColorSpace': {'Cs1': <PDFObjRef:7>}, 'Font': {'TT3': <PDFObjRef:24>, 'TT1': <PDFObjRef:8>}}, MediaBox=[0, 0, 612, 792]>,\n",
       " <PDFPage: Resources={'ProcSet': [/'PDF', /'Text'], 'ColorSpace': {'Cs1': <PDFObjRef:7>}, 'Font': {'TT3': <PDFObjRef:24>, 'TT1': <PDFObjRef:8>}}, MediaBox=[0, 0, 612, 792]>,\n",
       " <PDFPage: Resources={'ProcSet': [/'PDF', /'Text'], 'ColorSpace': {'Cs1': <PDFObjRef:7>}, 'Font': {'TT3': <PDFObjRef:24>, 'TT1': <PDFObjRef:8>}}, MediaBox=[0, 0, 612, 792]>,\n",
       " <PDFPage: Resources={'ProcSet': [/'PDF', /'Text'], 'ColorSpace': {'Cs1': <PDFObjRef:7>}, 'Font': {'TT3': <PDFObjRef:24>, 'TT1': <PDFObjRef:8>}}, MediaBox=[0, 0, 612, 792]>,\n",
       " <PDFPage: Resources={'ProcSet': [/'PDF', /'Text'], 'ColorSpace': {'Cs1': <PDFObjRef:7>}, 'Font': {'TT3': <PDFObjRef:24>, 'TT1': <PDFObjRef:8>}}, MediaBox=[0, 0, 612, 792]>,\n",
       " <PDFPage: Resources={'ProcSet': [/'PDF', /'Text'], 'ColorSpace': {'Cs1': <PDFObjRef:7>}, 'Font': {'TT3': <PDFObjRef:24>, 'TT1': <PDFObjRef:8>}}, MediaBox=[0, 0, 612, 792]>]"
      ]
     },
     "execution_count": 7,
     "metadata": {},
     "output_type": "execute_result"
    }
   ],
   "source": [
    "pdf._pages"
   ]
  }
 ],
 "metadata": {
  "kernelspec": {
   "display_name": "Python 3",
   "language": "python",
   "name": "python3"
  },
  "language_info": {
   "codemirror_mode": {
    "name": "ipython",
    "version": 3
   },
   "file_extension": ".py",
   "mimetype": "text/x-python",
   "name": "python",
   "nbconvert_exporter": "python",
   "pygments_lexer": "ipython3",
   "version": "3.7.4"
  }
 },
 "nbformat": 4,
 "nbformat_minor": 4
}
