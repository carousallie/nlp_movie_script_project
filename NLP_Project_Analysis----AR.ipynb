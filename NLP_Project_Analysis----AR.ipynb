{
 "cells": [
  {
   "cell_type": "markdown",
   "metadata": {},
   "source": [
    "# What Makes A Best Original Screenplay?\n",
    "\n",
    "    By Allison Ragan and Allison Shafer\n",
    "    American University\n",
    "    STAT-696 Applied Natural Language Processing\n",
    "\n",
    "# Analysis\n",
    "\n",
    "# Table of Contents\n",
    "\n",
    "    I. Package Imports\n",
    "    II. NLP Transformations\n",
    "        i. CountVectorized\n",
    "        ii. TFIDF\n",
    "    III. Sentiment Analysis\n",
    "        i. Sentiment Analysis -- Dialogue\n",
    "        ii. Sentiment Analysis -- Full Script\n",
    "    IV. Topic Modeling\n",
    "        i. Topic Modeling -- Dialogue\n",
    "        ii. Topic Modeling -- Full Script\n",
    "    V. K-Means Clustering\n",
    "        i. K-Means Clustering -- Dialogue\n",
    "        ii. K-Means Clustering -- Full Script\n",
    "    VI. Results\n",
    "\n",
    "## Package Imports"
   ]
  },
  {
   "cell_type": "code",
   "execution_count": 4,
   "metadata": {},
   "outputs": [],
   "source": [
    "import pandas as pd \n",
    "import numpy as np\n",
    "import re\n",
    "import nltk\n",
    "from sklearn.feature_extraction.text import CountVectorizer, TfidfVectorizer\n",
    "from sklearn.decomposition import NMF \n",
    "from sklearn.model_selection import train_test_split, cross_val_score, GridSearchCV\n",
    "from sklearn.model_selection import GridSearchCV\n",
    "from sklearn.pipeline import Pipeline, FeatureUnion\n",
    "from sklearn.decomposition import NMF as nmf\n",
    "from sklearn.cluster import KMeans\n",
    "import seaborn as sns\n",
    "import matplotlib\n",
    "import matplotlib.pyplot as plt\n",
    "import wordcloud # may need to install\n",
    "from plotnine import * # may need to install; ggplot included\n",
    "from wordcloud import WordCloud, STOPWORDS\n",
    "from PIL import Image\n",
    "from sklearn.manifold import TSNE\n",
    "\n",
    "from afinn import Afinn\n"
   ]
  },
  {
   "cell_type": "code",
   "execution_count": 5,
   "metadata": {
    "scrolled": false
   },
   "outputs": [
    {
     "data": {
      "text/html": [
       "<div>\n",
       "<style scoped>\n",
       "    .dataframe tbody tr th:only-of-type {\n",
       "        vertical-align: middle;\n",
       "    }\n",
       "\n",
       "    .dataframe tbody tr th {\n",
       "        vertical-align: top;\n",
       "    }\n",
       "\n",
       "    .dataframe thead th {\n",
       "        text-align: right;\n",
       "    }\n",
       "</style>\n",
       "<table border=\"1\" class=\"dataframe\">\n",
       "  <thead>\n",
       "    <tr style=\"text-align: right;\">\n",
       "      <th></th>\n",
       "      <th>Unnamed: 0</th>\n",
       "      <th>Title</th>\n",
       "      <th>Script</th>\n",
       "      <th>year</th>\n",
       "      <th>orig_screen_win</th>\n",
       "      <th>best_pic_win</th>\n",
       "      <th>reviewer</th>\n",
       "      <th>cleaned_dialogue</th>\n",
       "      <th>cleaned_script</th>\n",
       "      <th>script_length</th>\n",
       "      <th>dialogue_length</th>\n",
       "      <th>Genres</th>\n",
       "      <th>GenresBroad</th>\n",
       "      <th>Rating</th>\n",
       "      <th>Critic_Score</th>\n",
       "      <th>Aud_Score</th>\n",
       "      <th>RunTime</th>\n",
       "    </tr>\n",
       "  </thead>\n",
       "  <tbody>\n",
       "    <tr>\n",
       "      <th>0</th>\n",
       "      <td>0</td>\n",
       "      <td>First_Reformed</td>\n",
       "      <td>Scripts.com\\n\\nFirst Reformed\\n\\nBy Paul Schra...</td>\n",
       "      <td>2018</td>\n",
       "      <td>0</td>\n",
       "      <td>NaN</td>\n",
       "      <td>Ragan</td>\n",
       "      <td>keep journal word program digital file longhan...</td>\n",
       "      <td>bird calling distance toller keep journal word...</td>\n",
       "      <td>4362</td>\n",
       "      <td>4310</td>\n",
       "      <td>Drama</td>\n",
       "      <td>Drama</td>\n",
       "      <td>R</td>\n",
       "      <td>93</td>\n",
       "      <td>68</td>\n",
       "      <td>108</td>\n",
       "    </tr>\n",
       "    <tr>\n",
       "      <th>1</th>\n",
       "      <td>1</td>\n",
       "      <td>GreenBook</td>\n",
       "      <td>GREEN BOOK \\n\\nWritten by \\n\\nNick Vallelonga ...</td>\n",
       "      <td>2018</td>\n",
       "      <td>1</td>\n",
       "      <td>Win</td>\n",
       "      <td>Ragan</td>\n",
       "      <td>thank much welcome jules podell copacabana bob...</td>\n",
       "      <td>fade title card new york city 1962 ext copacab...</td>\n",
       "      <td>12731</td>\n",
       "      <td>7640</td>\n",
       "      <td>Drama</td>\n",
       "      <td>Drama</td>\n",
       "      <td>PG-13</td>\n",
       "      <td>78</td>\n",
       "      <td>91</td>\n",
       "      <td>130</td>\n",
       "    </tr>\n",
       "    <tr>\n",
       "      <th>2</th>\n",
       "      <td>2</td>\n",
       "      <td>Hell_or_HighWater</td>\n",
       "      <td>Scripts.com\\n\\nHell or High Water\\n\\nBy Taylor...</td>\n",
       "      <td>2016</td>\n",
       "      <td>0</td>\n",
       "      <td>Nom</td>\n",
       "      <td>Ragan</td>\n",
       "      <td>quiet open door open door devil please stand t...</td>\n",
       "      <td>quiet open door open door devil please stand t...</td>\n",
       "      <td>3627</td>\n",
       "      <td>3627</td>\n",
       "      <td>Drama</td>\n",
       "      <td>Mystery Suspense</td>\n",
       "      <td>R</td>\n",
       "      <td>97</td>\n",
       "      <td>88</td>\n",
       "      <td>102</td>\n",
       "    </tr>\n",
       "    <tr>\n",
       "      <th>3</th>\n",
       "      <td>3</td>\n",
       "      <td>LadyBird</td>\n",
       "      <td>\\n \\n\\n \\n \\n \\n \\n \\n \\n \\n \\n \\n \\n \\n \\n \\...</td>\n",
       "      <td>2017</td>\n",
       "      <td>0</td>\n",
       "      <td>Nom</td>\n",
       "      <td>Ragan</td>\n",
       "      <td>making bed looking back loan scholarship world...</td>\n",
       "      <td>anybody talk california hedonism ha never spe...</td>\n",
       "      <td>10058</td>\n",
       "      <td>6237</td>\n",
       "      <td>Comedy-Drama</td>\n",
       "      <td>Comedy-Drama</td>\n",
       "      <td>R</td>\n",
       "      <td>99</td>\n",
       "      <td>79</td>\n",
       "      <td>93</td>\n",
       "    </tr>\n",
       "    <tr>\n",
       "      <th>4</th>\n",
       "      <td>4</td>\n",
       "      <td>LaLaLand</td>\n",
       "      <td>LA LA LAND\\n\\nby\\n\\nDamien Chazelle\\n\\n\f",
       "A sun-...</td>\n",
       "      <td>2016</td>\n",
       "      <td>0</td>\n",
       "      <td>Nom</td>\n",
       "      <td>Ragan</td>\n",
       "      <td>think going worst working like gon na talk tal...</td>\n",
       "      <td>sunblasted sky hear radio  one piece music ano...</td>\n",
       "      <td>9817</td>\n",
       "      <td>6853</td>\n",
       "      <td>Comedy-Drama</td>\n",
       "      <td>Comedy-Drama</td>\n",
       "      <td>PG-13</td>\n",
       "      <td>91</td>\n",
       "      <td>81</td>\n",
       "      <td>128</td>\n",
       "    </tr>\n",
       "  </tbody>\n",
       "</table>\n",
       "</div>"
      ],
      "text/plain": [
       "   Unnamed: 0              Title  \\\n",
       "0           0     First_Reformed   \n",
       "1           1          GreenBook   \n",
       "2           2  Hell_or_HighWater   \n",
       "3           3           LadyBird   \n",
       "4           4           LaLaLand   \n",
       "\n",
       "                                              Script  year  orig_screen_win  \\\n",
       "0  Scripts.com\\n\\nFirst Reformed\\n\\nBy Paul Schra...  2018                0   \n",
       "1  GREEN BOOK \\n\\nWritten by \\n\\nNick Vallelonga ...  2018                1   \n",
       "2  Scripts.com\\n\\nHell or High Water\\n\\nBy Taylor...  2016                0   \n",
       "3   \\n \\n\\n \\n \\n \\n \\n \\n \\n \\n \\n \\n \\n \\n \\n \\...  2017                0   \n",
       "4  LA LA LAND\\n\\nby\\n\\nDamien Chazelle\\n\\n\n",
       "A sun-...  2016                0   \n",
       "\n",
       "  best_pic_win reviewer                                   cleaned_dialogue  \\\n",
       "0          NaN    Ragan  keep journal word program digital file longhan...   \n",
       "1          Win    Ragan  thank much welcome jules podell copacabana bob...   \n",
       "2          Nom    Ragan  quiet open door open door devil please stand t...   \n",
       "3          Nom    Ragan  making bed looking back loan scholarship world...   \n",
       "4          Nom    Ragan  think going worst working like gon na talk tal...   \n",
       "\n",
       "                                      cleaned_script  script_length  \\\n",
       "0  bird calling distance toller keep journal word...           4362   \n",
       "1  fade title card new york city 1962 ext copacab...          12731   \n",
       "2  quiet open door open door devil please stand t...           3627   \n",
       "3   anybody talk california hedonism ha never spe...          10058   \n",
       "4  sunblasted sky hear radio  one piece music ano...           9817   \n",
       "\n",
       "   dialogue_length        Genres       GenresBroad Rating  Critic_Score  \\\n",
       "0             4310         Drama             Drama      R            93   \n",
       "1             7640         Drama             Drama  PG-13            78   \n",
       "2             3627         Drama  Mystery Suspense      R            97   \n",
       "3             6237  Comedy-Drama      Comedy-Drama      R            99   \n",
       "4             6853  Comedy-Drama      Comedy-Drama  PG-13            91   \n",
       "\n",
       "   Aud_Score  RunTime  \n",
       "0         68      108  \n",
       "1         91      130  \n",
       "2         88      102  \n",
       "3         79       93  \n",
       "4         81      128  "
      ]
     },
     "execution_count": 5,
     "metadata": {},
     "output_type": "execute_result"
    }
   ],
   "source": [
    "# Read in .csv to dataframe\n",
    "\n",
    "movies_df = pd.read_csv('./movies_df.csv')\n",
    "movies_df.head()"
   ]
  },
  {
   "cell_type": "markdown",
   "metadata": {},
   "source": [
    "## Data Visualizations"
   ]
  },
  {
   "cell_type": "code",
   "execution_count": null,
   "metadata": {},
   "outputs": [],
   "source": []
  },
  {
   "cell_type": "markdown",
   "metadata": {},
   "source": [
    "## Prep Data for Analysis\n"
   ]
  },
  {
   "cell_type": "code",
   "execution_count": 6,
   "metadata": {},
   "outputs": [],
   "source": [
    "# Created grouped data\n",
    "\n",
    "Genres_df = movies_df.groupby([\"GenresBroad\"])\n",
    "\n",
    "Win_Lose = movies_df.groupby('orig_screen_win')\n",
    "\n",
    "# sanity check on grouping\n",
    "Genres_df.agg({'dialogue_length':sum})\n",
    "\n",
    "Win_Lose.agg({'dialogue_length':sum})\n",
    "\n",
    "\n",
    "# Group text by Genre for analysis\n",
    "text_group_genre = Genres_df['cleaned_dialogue'].apply(' '.join).reset_index()\n",
    "\n",
    "text_group_genre = pd.DataFrame(text_group_genre)\n",
    "\n",
    "# Group text by winner/loser for analysis\n",
    "\n",
    "win_lose_text = Win_Lose['cleaned_dialogue'].apply(' '.join).reset_index()"
   ]
  },
  {
   "cell_type": "markdown",
   "metadata": {},
   "source": [
    "## NLP transformations\n",
    "\n",
    "### CV"
   ]
  },
  {
   "cell_type": "code",
   "execution_count": 7,
   "metadata": {},
   "outputs": [],
   "source": [
    "# instantiate\n",
    "\n",
    "# all scripts and visuals \n",
    "bow_all = CountVectorizer(ngram_range=(1,2), max_df = .85, min_df = .2)\n",
    "# fit + transform training data\n",
    "bow_all_fit = bow_all.fit_transform(movies_df['cleaned_script'])\n",
    "\n",
    "# for dialogue only\n",
    "bow_dialogue = CountVectorizer(ngram_range=(1,2), max_df = .85, min_df = .2)\n",
    "# fit + transform training data\n",
    "bow_dialogue_fit = bow_dialogue.fit_transform(movies_df['cleaned_dialogue'])"
   ]
  },
  {
   "cell_type": "markdown",
   "metadata": {},
   "source": [
    "### TFIDF"
   ]
  },
  {
   "cell_type": "code",
   "execution_count": 8,
   "metadata": {},
   "outputs": [],
   "source": [
    "# instantiate - All parts of script\n",
    "tfidf_all = TfidfVectorizer(ngram_range = (1,2), max_df = .85, min_df = .2, stop_words = 'english')\n",
    "\n",
    "# fit + transform training data - all scripts and visuals\n",
    "\n",
    "tfidf_all_fit = tfidf_all.fit(movies_df['cleaned_script'])\n",
    "tfidf_vocab_all = tfidf_all_fit.vocabulary_\n",
    "tfidf_vocab_all = {k: v for k, v in sorted(tfidf_vocab_all.items(), key=lambda item: item[1], reverse=True)}\n",
    "# print(tfidf_vocab_all)\n",
    "\n",
    "\n",
    "# instantiate - Dialogue Only\n",
    "tfidf_dialogue = TfidfVectorizer(ngram_range = (1,2), max_df = .85, min_df = .2, stop_words = 'english')\n",
    "\n",
    "# fit + transform training data - dialogue only \n",
    "tfidf_dialogue_fit = tfidf_dialogue.fit_transform(movies_df['cleaned_dialogue'])\n",
    "tfidf_vocab_dialogue = tfidf_dialogue.vocabulary_\n",
    "tfidf_vocab_dialogue = {k: v for k, v in sorted(tfidf_vocab_dialogue.items(), key=lambda item: item[1], reverse=True)}\n",
    "# print(tfidf_vocab_dialogue)"
   ]
  },
  {
   "cell_type": "markdown",
   "metadata": {},
   "source": [
    "# Sentiment Analysis\n",
    "\n",
    "Using AFINN lexicon, aka the \"new ANEW\" which calculates a polarity score associated with each word.\n",
    "\n",
    "\n",
    "### Sentiment Analysis -- Dialogue"
   ]
  },
  {
   "cell_type": "code",
   "execution_count": 9,
   "metadata": {},
   "outputs": [],
   "source": [
    "# initialize afinn sentiment analyzer\n",
    "af = Afinn()\n",
    "\n",
    "# compute sentiment scores (polarity) and labels\n",
    "sentiment_scores = [af.score(article) for article in list(movies_df['cleaned_dialogue'])]\n",
    "sentiment_category = ['positive' if score > 0 \n",
    "                          else 'negative' if score < 0 \n",
    "                              else 'neutral' \n",
    "                                  for score in sentiment_scores]\n",
    "\n",
    "afinn_dialogue = pd.DataFrame([list(movies_df['Title']), list(movies_df['Genres']), list(movies_df['GenresBroad']), list(movies_df['orig_screen_win']), sentiment_scores, sentiment_category]).T\n",
    "afinn_dialogue.columns = ['Titles', 'Genres', 'GenresBroad', 'Winner', 'SentimentScore', 'SentimentCategory']\n",
    "afinn_dialogue['SentimentScore'] = afinn_dialogue['SentimentScore'].astype('float')"
   ]
  },
  {
   "cell_type": "markdown",
   "metadata": {},
   "source": [
    "#### Winners vs Losers"
   ]
  },
  {
   "cell_type": "code",
   "execution_count": 10,
   "metadata": {},
   "outputs": [
    {
     "data": {
      "text/plain": [
       "Text(0.5, 1.0, 'Count Plot of Sentiment Score by Result')"
      ]
     },
     "execution_count": 10,
     "metadata": {},
     "output_type": "execute_result"
    },
    {
     "data": {
      "image/png": "[encoded data removed]",
      "text/plain": [
       "<Figure size 1440x576 with 1 Axes>"
      ]
     },
     "metadata": {
      "needs_background": "light"
     },
     "output_type": "display_data"
    },
    {
     "data": {
      "image/png": "[encoded data removed]",
      "text/plain": [
       "<Figure size 1440x576 with 1 Axes>"
      ]
     },
     "metadata": {
      "needs_background": "light"
     },
     "output_type": "display_data"
    },
    {
     "data": {
      "image/png": "[encoded data removed]",
      "text/plain": [
       "<Figure size 1440x576 with 1 Axes>"
      ]
     },
     "metadata": {
      "needs_background": "light"
     },
     "output_type": "display_data"
    }
   ],
   "source": [
    "# sentiment statistics for winners/losers\n",
    "afinn_dialogue.groupby(by=['Winner']).describe()\n",
    "\n",
    "# boxplot\n",
    "fig_dims = (20, 8)\n",
    "fig, ax = plt.subplots(figsize=fig_dims)\n",
    "sns.boxplot(x='Winner', y=\"SentimentScore\", \n",
    "                 hue='Winner', data=afinn_dialogue, ax=ax,\n",
    "                 palette=\"hls\").set_title('Boxplot of Sentiment Score by Result')\n",
    "\n",
    "# barplot\n",
    "fig_dims = (20, 8)\n",
    "fig, ax = plt.subplots(figsize=fig_dims)\n",
    "sns.barplot(x = \"Winner\", y = \"SentimentScore\", ax=ax, data=afinn_dialogue, \n",
    "            palette=\"hls\", ci=None).set_title('Bar Plot of Sentiment Score by Result')\n",
    "\n",
    "# countplot\n",
    "fig_dims = (20, 8)\n",
    "fig, ax = plt.subplots(figsize=fig_dims)\n",
    "sns.countplot(y=\"Winner\", hue=\"SentimentCategory\", data=afinn_dialogue, \n",
    "              ax=ax, palette=\"hls\").set_title('Count Plot of Sentiment Score by Result')"
   ]
  },
  {
   "cell_type": "markdown",
   "metadata": {},
   "source": [
    "#### Genres"
   ]
  },
  {
   "cell_type": "code",
   "execution_count": 11,
   "metadata": {},
   "outputs": [
    {
     "data": {
      "text/plain": [
       "Text(0.5, 1.0, 'Count Plot of Sentiment Score by GenreBroad')"
      ]
     },
     "execution_count": 11,
     "metadata": {},
     "output_type": "execute_result"
    },
    {
     "data": {
      "image/png": "[encoded data removed]",
      "text/plain": [
       "<Figure size 1440x576 with 1 Axes>"
      ]
     },
     "metadata": {
      "needs_background": "light"
     },
     "output_type": "display_data"
    },
    {
     "data": {
      "image/png": "[encoded data removed]",
      "text/plain": [
       "<Figure size 1440x576 with 1 Axes>"
      ]
     },
     "metadata": {
      "needs_background": "light"
     },
     "output_type": "display_data"
    },
    {
     "data": {
      "image/png": "[encoded data removed]",
      "text/plain": [
       "<Figure size 1440x576 with 1 Axes>"
      ]
     },
     "metadata": {
      "needs_background": "light"
     },
     "output_type": "display_data"
    }
   ],
   "source": [
    "# sentiment statistics for winners/losers\n",
    "afinn_dialogue.groupby(by=['GenresBroad']).describe()\n",
    "\n",
    "# boxplot\n",
    "fig_dims = (20, 8)\n",
    "fig, ax = plt.subplots(figsize=fig_dims)\n",
    "sns.boxplot(x='GenresBroad', y=\"SentimentScore\", \n",
    "                 hue='Genres', data=afinn_dialogue, ax=ax,\n",
    "                 palette=\"hls\").set_title('Boxplot of Sentiment Score by Genre')\n",
    "\n",
    "# barplot\n",
    "fig_dims = (20, 8)\n",
    "fig, ax = plt.subplots(figsize=fig_dims)\n",
    "sns.barplot(x = \"GenresBroad\", y = \"SentimentScore\", ax=ax, data=afinn_dialogue, \n",
    "            palette=\"hls\", ci=None).set_title('Bar Plot of Sentiment Score by Genre')\n",
    "\n",
    "# countplot\n",
    "fig_dims = (20, 8)\n",
    "fig, ax = plt.subplots(figsize=fig_dims)\n",
    "sns.countplot(y=\"GenresBroad\", hue=\"SentimentCategory\", data=afinn_dialogue, \n",
    "              ax=ax, palette=\"hls\").set_title('Count Plot of Sentiment Score by Genre')"
   ]
  },
  {
   "cell_type": "markdown",
   "metadata": {},
   "source": [
    "### Sentiment Analysis -- Full Script"
   ]
  },
  {
   "cell_type": "code",
   "execution_count": null,
   "metadata": {},
   "outputs": [],
   "source": [
    "# compute sentiment scores (polarity) and labels\n",
    "sentiment_scores = [af.score(article) for article in list(movies_df['cleaned_script'])]\n",
    "sentiment_category = ['positive' if score > 0 \n",
    "                          else 'negative' if score < 0 \n",
    "                              else 'neutral' \n",
    "                                  for score in sentiment_scores]\n",
    "\n",
    "afinn_all = pd.DataFrame([list(movies_df['Title']), list(movies_df['Genres']), list(movies_df['GenresBroad']), list(movies_df['orig_screen_win']), sentiment_scores, sentiment_category]).T\n",
    "afinn_all.columns = ['Titles', 'Genres', 'GenresBroad', 'Winner', 'SentimentScore', 'SentimentCategory']\n",
    "afinn_all['SentimentScore'] = afinn_all['SentimentScore'].astype('float')"
   ]
  },
  {
   "cell_type": "markdown",
   "metadata": {},
   "source": [
    "#### Winners vs Losers"
   ]
  },
  {
   "cell_type": "code",
   "execution_count": null,
   "metadata": {},
   "outputs": [],
   "source": [
    "# sentiment statistics for winners/losers\n",
    "afinn_dialogue.groupby(by=['Winner']).describe()\n",
    "\n",
    "# boxplot\n",
    "fig_dims = (20, 8)\n",
    "fig, ax = plt.subplots(figsize=fig_dims)\n",
    "sns.boxplot(x='Winner', y=\"SentimentScore\", \n",
    "                 hue='Winner', data=afinn_dialogue, ax=ax,\n",
    "                 palette=\"hls\").set_title('Boxplot of Sentiment Score by Result')\n",
    "\n",
    "# barplot\n",
    "fig_dims = (20, 8)\n",
    "fig, ax = plt.subplots(figsize=fig_dims)\n",
    "sns.barplot(x = \"Winner\", y = \"SentimentScore\", ax=ax, data=afinn_dialogue, \n",
    "            palette=\"hls\", ci=None).set_title('Bar Plot of Sentiment Score by Result')\n",
    "\n",
    "# countplot\n",
    "fig_dims = (20, 8)\n",
    "fig, ax = plt.subplots(figsize=fig_dims)\n",
    "sns.countplot(y=\"Winner\", hue=\"SentimentCategory\", data=afinn_dialogue, \n",
    "              ax=ax, palette=\"hls\").set_title('Count Plot of Sentiment Score by Result')"
   ]
  },
  {
   "cell_type": "markdown",
   "metadata": {},
   "source": [
    "#### Genres"
   ]
  },
  {
   "cell_type": "code",
   "execution_count": null,
   "metadata": {},
   "outputs": [],
   "source": [
    "# sentiment statistics for winners/losers\n",
    "afinn_all.groupby(by=['GenresBroad']).describe()\n",
    "\n",
    "# boxplot\n",
    "fig_dims = (20, 8)\n",
    "fig, ax = plt.subplots(figsize=fig_dims)\n",
    "sns.boxplot(x='GenresBroad', y=\"SentimentScore\", \n",
    "                 hue='Genres', data=afinn_all, ax=ax,\n",
    "                 palette=\"hls\").set_title('Boxplot of Sentiment Score by Genre')\n",
    "\n",
    "# barplot\n",
    "fig_dims = (20, 8)\n",
    "fig, ax = plt.subplots(figsize=fig_dims)\n",
    "sns.barplot(x = \"GenresBroad\", y = \"SentimentScore\", ax=ax, data=afinn_all, \n",
    "            palette=\"hls\", ci=None).set_title('Bar Plot of Sentiment Score by Genre')\n",
    "\n",
    "# countplot\n",
    "fig_dims = (20, 8)\n",
    "fig, ax = plt.subplots(figsize=fig_dims)\n",
    "sns.countplot(y=\"GenresBroad\", hue=\"SentimentCategory\", data=afinn_all, \n",
    "              ax=ax, palette=\"hls\").set_title('Count Plot of Sentiment Score by GenreBroad')"
   ]
  },
  {
   "cell_type": "markdown",
   "metadata": {},
   "source": [
    "## Topic Modeling -- AS\n",
    "\n",
    "### TFIDF/ NMF\n",
    "\n",
    "### Topic Modeling -- Dialogue"
   ]
  },
  {
   "cell_type": "code",
   "execution_count": 17,
   "metadata": {},
   "outputs": [
    {
     "data": {
      "text/plain": [
       "2920"
      ]
     },
     "execution_count": 17,
     "metadata": {},
     "output_type": "execute_result"
    }
   ],
   "source": [
    "# instantiate\n",
    "tfidf_dialogue = TfidfVectorizer(ngram_range = (1,2), max_df = .85, min_df = .2, stop_words = 'english')\n",
    "\n",
    "# fit + transform training data - dialogue only \n",
    "tfidf_dialogue_fit = tfidf_dialogue.fit_transform(movies_df['cleaned_dialogue'])\n",
    "tfidf_vocab_dialogue = tfidf_dialogue.vocabulary_\n",
    "# tfidf_vocab_dialogue = {k: v for k, v in sorted(tfidf_vocab_dialogue.items(), key=lambda item: item[1], reverse=True)}\n",
    "# print(tfidf_vocab_dialogue)\n",
    "\n",
    "tf_diag_feat = tfidf_dialogue.get_feature_names()\n",
    "len(tf_diag_feat)"
   ]
  },
  {
   "cell_type": "code",
   "execution_count": 18,
   "metadata": {},
   "outputs": [
    {
     "name": "stdout",
     "output_type": "stream",
     "text": [
      "Topic 0: beat sir nod pie egg sign blood grab german corridor\n",
      "Topic 1: dont im youre thats david shes didnt whats doesnt dont know\n",
      "Topic 2: na gon gon na fucking uh bank beth fuck ca wan\n",
      "Topic 3: la charlie los al sofa new york york ok theater ya\n",
      "Topic 4: lady bird mom mr dad suddenly nod shall horse college\n",
      "Topic 5: dick power president mary agent war american state mr beat\n",
      "Topic 6: rose rod picture brooklyn driver dont lawn dining im richard\n",
      "Topic 7: lip dr christmas piano record glance na gon gon na george\n",
      "Topic 8: mike boston im church office jim dont joe ca desk\n",
      "Topic 9: joy sadness memory island im dad thats dont fear mom\n",
      "\n"
     ]
    }
   ],
   "source": [
    "n = nmf(n_components = 10).fit(tfidf_dialogue_fit) # set up nmf model for 10 topics - one for each movie?\n",
    "\n",
    "# function to marry up word value to feature names and output words per topic\n",
    "def print_top_words(model, feature_names, n_top_words): \n",
    "    for topic_idx, topic in enumerate(model.components_):\n",
    "        message = \"Topic %d: \" % topic_idx\n",
    "        message += \" \".join([feature_names[i]\n",
    "                             for i in topic.argsort()[:-n_top_words - 1:-1]])\n",
    "        print(message)\n",
    "    print()\n",
    "\n",
    "print_top_words(n, tf_diag_feat, 10) # 20 words per topic\n",
    "\n",
    "\n",
    "\n",
    "# n = nmf(n_components = 24).fit(tfidf_dialogue_fit) # set up nmf model for 24 topics - one for each movie?\n",
    "\n",
    "# # function to marry up word value to feature names and output words per topic\n",
    "# def print_top_words(model, feature_names, n_top_words): \n",
    "#     for topic_idx, topic in enumerate(model.components_):\n",
    "#         message = \"Topic %d: \" % topic_idx\n",
    "#         message += \" \".join([feature_names[i]\n",
    "#                              for i in topic.argsort()[:-n_top_words - 1:-1]])\n",
    "#         print(message)\n",
    "#     print()\n",
    "\n",
    "# print_top_words(n, tf_diag_feat, 20)\n"
   ]
  },
  {
   "cell_type": "code",
   "execution_count": null,
   "metadata": {},
   "outputs": [],
   "source": []
  },
  {
   "cell_type": "markdown",
   "metadata": {},
   "source": [
    "### Topic Modeling -- Full Script"
   ]
  },
  {
   "cell_type": "code",
   "execution_count": 23,
   "metadata": {
    "scrolled": true
   },
   "outputs": [
    {
     "data": {
      "text/plain": [
       "2915"
      ]
     },
     "execution_count": 23,
     "metadata": {},
     "output_type": "execute_result"
    }
   ],
   "source": [
    "# instantiate\n",
    "tfidf_all = TfidfVectorizer(ngram_range = (1,2), max_df = .8, min_df = .25, stop_words = 'english')\n",
    "\n",
    "# fit + transform training data - all scripts and visuals\n",
    "tfidf_all_fit = tfidf_all.fit_transform(movies_df['cleaned_script'])\n",
    "#tfidf_vocab_all = tfidf_all_fit.vocabulary_\n",
    "#tfidf_vocab_all = {k: v for k, v in sorted(tfidf_vocab_all.items(), key=lambda item: item[1], reverse=True)}\n",
    "#print(tfidf_vocab_all)\n",
    "\n",
    "\n",
    "tf_all_feat = tfidf_all.get_feature_names()\n",
    "len(tf_all_feat)"
   ]
  },
  {
   "cell_type": "code",
   "execution_count": 24,
   "metadata": {},
   "outputs": [
    {
     "name": "stdout",
     "output_type": "stream",
     "text": [
      "Topic 0: cont apartment richard pie party os mr shooting sir corridor\n",
      "Topic 1: contd dont im youre thats william power doesnt shes rose\n",
      "Topic 2: na gon gon na mary bank cube um ca leaning fucking\n",
      "Topic 3: charlie james os police station continuous police ya pause fucking road\n",
      "Topic 4: lip dr cont tony george continuous joe ok stage apartment\n",
      "Topic 5: lady bird cont mom mr shooting 14 os sister college\n",
      "Topic 6: dick david bush president hotel waiter george mary manager agent\n",
      "Topic 7: la sofa los cont patio cube da le ya record\n",
      "Topic 8: joy sadness memory fear anger mom dad island contd san\n",
      "Topic 9: mike im jim joe church dont thats law contd cube\n",
      "\n"
     ]
    }
   ],
   "source": [
    "n = nmf(n_components = 10).fit(tfidf_all_fit) # set up nmf model for 10 topics\n",
    "\n",
    "# function to marry up word value to feature names and output words per topic\n",
    "def print_top_words(model, feature_names, n_top_words): \n",
    "    for topic_idx, topic in enumerate(model.components_):\n",
    "        message = \"Topic %d: \" % topic_idx\n",
    "        message += \" \".join([feature_names[i]\n",
    "                             for i in topic.argsort()[:-n_top_words - 1:-1]])\n",
    "        print(message)\n",
    "    print()\n",
    "    \n",
    "print_top_words(n, tf_all_feat, 10)\n",
    "\n",
    "\n",
    "# n = nmf(n_components = 24).fit(tfidf_all_fit) # set up nmf model for 24 topics\n",
    "\n",
    "# # function to marry up word value to feature names and output words per topic\n",
    "# def print_top_words(model, feature_names, n_top_words): \n",
    "#     for topic_idx, topic in enumerate(model.components_):\n",
    "#         message = \"Topic %d: \" % topic_idx\n",
    "#         message += \" \".join([feature_names[i]\n",
    "#                              for i in topic.argsort()[:-n_top_words - 1:-1]])\n",
    "#         print(message)\n",
    "#     print()\n",
    "    \n",
    "# print_top_words(n, tf_all_feat, 10)"
   ]
  },
  {
   "cell_type": "code",
   "execution_count": 22,
   "metadata": {},
   "outputs": [],
   "source": [
    "# Add Topics to dataframe # by dialogue\n",
    "\n",
    "topic_values = n.transform(tfidf_dialogue_fit)\n",
    "movies_df['Dia_Topic'] = topic_values.argmax(axis = 1)\n"
   ]
  },
  {
   "cell_type": "code",
   "execution_count": 25,
   "metadata": {},
   "outputs": [],
   "source": [
    "# Add Topics to dataframe # by full script\n",
    "\n",
    "topic_values = n.transform(tfidf_all_fit)\n",
    "movies_df['Full_Topic'] = topic_values.argmax(axis = 1)"
   ]
  },
  {
   "cell_type": "code",
   "execution_count": 56,
   "metadata": {},
   "outputs": [],
   "source": []
  },
  {
   "cell_type": "code",
   "execution_count": 75,
   "metadata": {},
   "outputs": [
    {
     "data": {
      "text/html": [
       "<div>\n",
       "<style scoped>\n",
       "    .dataframe tbody tr th:only-of-type {\n",
       "        vertical-align: middle;\n",
       "    }\n",
       "\n",
       "    .dataframe tbody tr th {\n",
       "        vertical-align: top;\n",
       "    }\n",
       "\n",
       "    .dataframe thead th {\n",
       "        text-align: right;\n",
       "    }\n",
       "</style>\n",
       "<table border=\"1\" class=\"dataframe\">\n",
       "  <thead>\n",
       "    <tr style=\"text-align: right;\">\n",
       "      <th></th>\n",
       "      <th>orig_screen_win</th>\n",
       "      <th>cleaned_dialogue</th>\n",
       "    </tr>\n",
       "  </thead>\n",
       "  <tbody>\n",
       "    <tr>\n",
       "      <td>0</td>\n",
       "      <td>0</td>\n",
       "      <td>keep journal word program digital file longhan...</td>\n",
       "    </tr>\n",
       "    <tr>\n",
       "      <td>1</td>\n",
       "      <td>1</td>\n",
       "      <td>thank much welcome jules podell copacabana bob...</td>\n",
       "    </tr>\n",
       "  </tbody>\n",
       "</table>\n",
       "</div>"
      ],
      "text/plain": [
       "   orig_screen_win                                   cleaned_dialogue\n",
       "0                0  keep journal word program digital file longhan...\n",
       "1                1  thank much welcome jules podell copacabana bob..."
      ]
     },
     "execution_count": 75,
     "metadata": {},
     "output_type": "execute_result"
    }
   ],
   "source": [
    "\n",
    "\n"
   ]
  },
  {
   "cell_type": "markdown",
   "metadata": {},
   "source": [
    "\n",
    "## K Means Clustering  -- AR\n",
    "\n",
    "Either on CV and TFIDF, or just on NMF"
   ]
  },
  {
   "cell_type": "code",
   "execution_count": null,
   "metadata": {},
   "outputs": [],
   "source": [
    "def eval_k(kmeans, centroids, terms):\n",
    "    cluster_terms = []\n",
    "    for i in range(kmeans.n_clusters):\n",
    "        termss = []\n",
    "        for ind in centroids[i, :10]:\n",
    "            termss.append(terms[ind])\n",
    "        cluster_terms.append(termss)\n",
    "    for i in range(kmeans.n_clusters):\n",
    "        print(f'\\tCluster {i+1}: {\" \".join(cluster_terms[i])}')"
   ]
  },
  {
   "cell_type": "markdown",
   "metadata": {},
   "source": [
    "### K Means Clustering -- Dialogue\n",
    "\n",
    "#### CV"
   ]
  },
  {
   "cell_type": "code",
   "execution_count": null,
   "metadata": {},
   "outputs": [],
   "source": [
    "# get feature names\n",
    "bow_dialogue_feat_names = bow_dialogue.get_feature_names()"
   ]
  },
  {
   "cell_type": "code",
   "execution_count": null,
   "metadata": {},
   "outputs": [],
   "source": [
    "# Elbow Method to determine optimal k in k means clustering\n",
    "# calculate sum of squared distances\n",
    "K = range(1,12)\n",
    "ssd = [KMeans(n_clusters=k).fit(bow_dialogue_fit).inertia_ for k in K]\n",
    "\n",
    "# plot results\n",
    "plt.plot(K, ssd, 'bx-')\n",
    "plt.xlabel('k')\n",
    "plt.ylabel('Sum of Squared Distances')\n",
    "plt.title('Elbow Method for Optimal k with Dialogue Bag of Words')\n",
    "plt.show()"
   ]
  },
  {
   "cell_type": "code",
   "execution_count": null,
   "metadata": {},
   "outputs": [],
   "source": [
    "# K-Means with Count Vectorized\n",
    "k_bow_dialogue = KMeans(n_clusters = 2, random_state = 0).fit(bow_dialogue_fit)\n",
    "k_bow_dialogue_centroids = k_bow_dialogue.cluster_centers_.argsort()[:, ::-1]\n",
    "k_bow_dialogue_terms = bow_dialogue_feat_names\n",
    "k_bow_dialogue_labels = k_bow_dialogue.labels_\n",
    "\n",
    "print(\"Count Vectorized Dialogue:\")\n",
    "eval_k(k_bow_dialogue, k_bow_dialogue_centroids, k_bow_dialogue_terms)"
   ]
  },
  {
   "cell_type": "markdown",
   "metadata": {},
   "source": [
    "#### TFIDF"
   ]
  },
  {
   "cell_type": "code",
   "execution_count": null,
   "metadata": {},
   "outputs": [],
   "source": [
    "# get feature names\n",
    "tfidf_dialogue_feat_names = tfidf_dialogue.get_feature_names()"
   ]
  },
  {
   "cell_type": "code",
   "execution_count": null,
   "metadata": {},
   "outputs": [],
   "source": [
    "# Elbow Method to determine optimal k in k means clustering\n",
    "# calculate sum of squared distances\n",
    "K = range(1,12)\n",
    "ssd = [KMeans(n_clusters=k).fit(tfidf_dialogue_fit).inertia_ for k in K]\n",
    "\n",
    "# plot results\n",
    "plt.plot(K, ssd, 'bx-')\n",
    "plt.xlabel('k')\n",
    "plt.ylabel('Sum of Squared Distances')\n",
    "plt.title('Elbow Method for Optimal k with Dialogue TFIDF')\n",
    "plt.show()"
   ]
  },
  {
   "cell_type": "code",
   "execution_count": null,
   "metadata": {},
   "outputs": [],
   "source": [
    "# K-Means with Count Vectorized\n",
    "k_tfidf_dialogue = KMeans(n_clusters = 2, random_state = 0).fit(tfidf_dialogue_fit)\n",
    "k_tfidf_dialogue_centroids = k_tfidf_dialogue.cluster_centers_.argsort()[:, ::-1]\n",
    "k_tfidf_dialogue_terms = tfidf_dialogue_feat_names\n",
    "k_tfidf_dialogue_labels = k_tfidf_dialogue.labels_\n",
    "\n",
    "print(\"TFIDF Dialogue:\")\n",
    "eval_k(k_tfidf_dialogue, k_tfidf_dialogue_centroids, k_tfidf_dialogue_terms)"
   ]
  },
  {
   "cell_type": "markdown",
   "metadata": {},
   "source": [
    "### K Means Clustering -- Full Script"
   ]
  },
  {
   "cell_type": "markdown",
   "metadata": {},
   "source": [
    "#### CV"
   ]
  },
  {
   "cell_type": "code",
   "execution_count": null,
   "metadata": {},
   "outputs": [],
   "source": [
    "# get feature names\n",
    "bow_all_feat_names = bow_all.get_feature_names()"
   ]
  },
  {
   "cell_type": "code",
   "execution_count": null,
   "metadata": {},
   "outputs": [],
   "source": [
    "# Elbow Method to determine optimal k in k means clustering\n",
    "# calculate sum of squared distances\n",
    "K = range(1,12)\n",
    "ssd = [KMeans(n_clusters=k).fit(bow_all_fit).inertia_ for k in K]\n",
    "\n",
    "# plot results\n",
    "plt.plot(K, ssd, 'bx-')\n",
    "plt.xlabel('k')\n",
    "plt.ylabel('Sum of Squared Distances')\n",
    "plt.title('Elbow Method for Optimal k with Full Script Bag of Words')\n",
    "plt.show()"
   ]
  },
  {
   "cell_type": "code",
   "execution_count": null,
   "metadata": {},
   "outputs": [],
   "source": [
    "# K-Means with Count Vectorized\n",
    "k_bow_all = KMeans(n_clusters = 2, random_state = 0).fit(bow_all_fit)\n",
    "k_bow_all_centroids = k_bow_all.cluster_centers_.argsort()[:, ::-1]\n",
    "k_bow_all_terms = bow_all_feat_names\n",
    "k_bow_all_labels = k_bow_all.labels_\n",
    "\n",
    "print(\"Count Vectorized Full Script:\")\n",
    "eval_k(k_bow_all, k_bow_all_centroids, k_bow_all_terms)"
   ]
  },
  {
   "cell_type": "markdown",
   "metadata": {},
   "source": [
    "#### TFIDF"
   ]
  },
  {
   "cell_type": "code",
   "execution_count": null,
   "metadata": {},
   "outputs": [],
   "source": [
    "# get feature names\n",
    "tfidf_all_feat_names = tfidf_all.get_feature_names()"
   ]
  },
  {
   "cell_type": "code",
   "execution_count": null,
   "metadata": {},
   "outputs": [],
   "source": [
    "# Elbow Method to determine optimal k in k means clustering\n",
    "# calculate sum of squared distances\n",
    "K = range(1,12)\n",
    "ssd = [KMeans(n_clusters=k).fit(tfidf_all_fit).inertia_ for k in K]\n",
    "\n",
    "# plot results\n",
    "plt.plot(K, ssd, 'bx-')\n",
    "plt.xlabel('k')\n",
    "plt.ylabel('Sum of Squared Distances')\n",
    "plt.title('Elbow Method for Optimal k with Full Script TFIDF')\n",
    "plt.show()"
   ]
  },
  {
   "cell_type": "code",
   "execution_count": null,
   "metadata": {},
   "outputs": [],
   "source": [
    "# K-Means with Count Vectorized\n",
    "k_tfidf_all = KMeans(n_clusters = 2, random_state = 0).fit(tfidf_all_fit)\n",
    "k_tfidf_all_centroids = k_tfidf_all.cluster_centers_.argsort()[:, ::-1]\n",
    "k_tfidf_all_terms = tfidf_all_feat_names\n",
    "k_tfidf_all_labels = k_tfidf_all.labels_\n",
    "\n",
    "print(\"TFIDF Full Script:\")\n",
    "eval_k(k_tfidf_all, k_tfidf_all_centroids, k_tfidf_all_terms)"
   ]
  },
  {
   "cell_type": "code",
   "execution_count": null,
   "metadata": {},
   "outputs": [],
   "source": []
  },
  {
   "cell_type": "code",
   "execution_count": null,
   "metadata": {},
   "outputs": [],
   "source": []
  },
  {
   "cell_type": "code",
   "execution_count": null,
   "metadata": {},
   "outputs": [],
   "source": []
  },
  {
   "cell_type": "code",
   "execution_count": null,
   "metadata": {},
   "outputs": [],
   "source": [
    "# from homework 6\n",
    "\n",
    "# def eval_k(kmeans, centroids, terms):\n",
    "#     cluster_terms = []\n",
    "#     for i in range(kmeans.n_clusters):\n",
    "#         termss = []\n",
    "#         for ind in centroids[i, :10]:\n",
    "#             termss.append(terms[ind])\n",
    "#         cluster_terms.append(termss)\n",
    "#     for i in range(kmeans.n_clusters):\n",
    "#         print(f'\\tCluster {i+1}: {\" \".join(cluster_terms[i])}')\n",
    "\n",
    "# # K-Means with a) Count Vectorized\n",
    "# k_cv = KMeans(n_clusters = 20, random_state = 0).fit(cv_tf)\n",
    "# k_cv_centroids = k_cv.cluster_centers_.argsort()[:, ::-1]\n",
    "# k_cv_terms = cv_feat_names\n",
    "# k_cv_labels = k_cv.labels_\n",
    "\n",
    "# print(\"Count Vectorized:\")\n",
    "# eval_k(k_cv, k_cv_centroids, k_cv_terms)\n",
    "\n",
    "# # K-Means with b) TFIDF\n",
    "# k_tfidf = KMeans(n_clusters = 20, random_state = 0).fit(tfidf)\n",
    "# k_tfidf_centroids = k_tfidf.cluster_centers_.argsort()[:, ::-1]\n",
    "# k_tfidf_terms = cv_feat_names\n",
    "# k_tfidf_labels = k_tfidf.labels_\n",
    "\n",
    "# print(\"TFIDF:\")\n",
    "# eval_k(k_tfidf, k_tfidf_centroids, k_tfidf_terms)\n",
    "\n",
    "# # K-Means with c) NMF -- (1,1), (1,2), (2,3) based on 4\n",
    "# k_nmf = KMeans(n_clusters = 20, random_state = 0).fit(tfidf_onetwo_matrix)\n",
    "# k_nmf_centroids = k_nmf.cluster_centers_.argsort()[:, ::-1]\n",
    "# k_nmf_terms = tfidf_onetwo_feat_names\n",
    "# k_nmf_labels = k_nmf.labels_\n",
    "\n",
    "# print(\"NMF:\")\n",
    "# eval_k(k_nmf, k_nmf_centroids, k_nmf_terms)"
   ]
  },
  {
   "cell_type": "code",
   "execution_count": null,
   "metadata": {},
   "outputs": [],
   "source": []
  },
  {
   "cell_type": "code",
   "execution_count": null,
   "metadata": {},
   "outputs": [],
   "source": []
  },
  {
   "cell_type": "code",
   "execution_count": null,
   "metadata": {},
   "outputs": [],
   "source": []
  },
  {
   "cell_type": "code",
   "execution_count": null,
   "metadata": {},
   "outputs": [],
   "source": []
  },
  {
   "cell_type": "code",
   "execution_count": null,
   "metadata": {},
   "outputs": [],
   "source": []
  },
  {
   "cell_type": "code",
   "execution_count": null,
   "metadata": {},
   "outputs": [],
   "source": []
  }
 ],
 "metadata": {
  "kernelspec": {
   "display_name": "Python 3",
   "language": "python",
   "name": "python3"
  },
  "language_info": {
   "codemirror_mode": {
    "name": "ipython",
    "version": 3
   },
   "file_extension": ".py",
   "mimetype": "text/x-python",
   "name": "python",
   "nbconvert_exporter": "python",
   "pygments_lexer": "ipython3",
   "version": "3.7.4"
  }
 },
 "nbformat": 4,
 "nbformat_minor": 2
}
